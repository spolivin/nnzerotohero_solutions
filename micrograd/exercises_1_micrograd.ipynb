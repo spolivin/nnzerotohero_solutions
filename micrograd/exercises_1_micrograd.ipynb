{
 "cells": [
  {
   "cell_type": "markdown",
   "metadata": {
    "id": "JnGHatCI51JP"
   },
   "source": [
    "# micrograd exercises\n",
    "\n",
    "1. watch the [micrograd video](https://www.youtube.com/watch?v=VMj-3S1tku0) on YouTube\n",
    "2. come back and complete these exercises to level up :)"
   ]
  },
  {
   "cell_type": "markdown",
   "metadata": {
    "id": "OFt6NKOz6iBZ"
   },
   "source": [
    "## section 1: derivatives"
   ]
  },
  {
   "cell_type": "code",
   "execution_count": 1,
   "metadata": {
    "id": "3Jx9fCXl5xHd"
   },
   "outputs": [],
   "source": [
    "# here is a mathematical expression that takes 3 inputs and produces one output\n",
    "from math import sin, cos\n",
    "\n",
    "def f(a, b, c):\n",
    "    return -a**3 + sin(3*b) - 1.0/c + b**2.5 - a**0.5"
   ]
  },
  {
   "cell_type": "markdown",
   "metadata": {},
   "source": [
    "In this exercise we will need to compute the derivatives with respect to all parameters of the following function:\n",
    "\n",
    "$$f(a, b, c) = -a^{3} + sin(3b) - \\frac{1}{c} + b^{2.5} - a^{0.5}$$\n",
    "\n",
    "By using simple rules of calculus, it is easy to calculate analytical gradients of $f$ as follows:\n",
    "\n",
    "$$\\frac{df}{da} = -3a^{2} - 0.5a^{-0.5}$$\n",
    "$$\\frac{df}{db} = 3 cos(3b) + 2.5b^{1.5}$$\n",
    "$$\\frac{df}{dc} = c^{-2}$$\n",
    "\n",
    "Now we can use these formulas to compute all gradients required in code:"
   ]
  },
  {
   "cell_type": "code",
   "execution_count": 2,
   "metadata": {
    "id": "qXaH59eL9zxf"
   },
   "outputs": [
    {
     "name": "stdout",
     "output_type": "stream",
     "text": [
      "OK for dim 0: expected -12.353553390593273, yours returns -12.353553390593273\n",
      "OK for dim 1: expected 10.25699027111255, yours returns 10.25699027111255\n",
      "OK for dim 2: expected 0.0625, yours returns 0.0625\n"
     ]
    }
   ],
   "source": [
    "# write the function df that returns the analytical gradient of f\n",
    "# i.e. use your skills from calculus to take the derivative, then implement the formula\n",
    "# if you do not calculus then feel free to ask wolframalpha, e.g.:\n",
    "# https://www.wolframalpha.com/input?i=d%2Fda%28sin%283*a%29%29%29\n",
    "\n",
    "def gradf(a, b, c):\n",
    "    \"\"\"Computes gradients with respect to all parameters.\"\"\"\n",
    "    # Computing the derivate of 'f' with respect to 'a'\n",
    "    df_da = -3 * a**2 - 0.5 * a**(-0.5)\n",
    "    # Computing the derivate of 'f' with respect to 'b'\n",
    "    df_db = 3 * cos(3*b) + 2.5 * b**(1.5)\n",
    "    # Computing the derivate of 'f' with respect to 'c'\n",
    "    df_dc = c**(-2)\n",
    "    \n",
    "    return [df_da, df_db, df_dc] # returns [df/da, df/db, df/dc]\n",
    "\n",
    "# expected answer is the list of\n",
    "ans = [-12.353553390593273, 10.25699027111255, 0.0625]\n",
    "yours = gradf(2, 3, 4)\n",
    "for dim in range(3):\n",
    "    ok = 'OK' if abs(yours[dim] - ans[dim]) < 1e-5 else 'WRONG!'\n",
    "    print(f\"{ok} for dim {dim}: expected {ans[dim]}, yours returns {yours[dim]}\")"
   ]
  },
  {
   "cell_type": "markdown",
   "metadata": {},
   "source": [
    "The next task is to compute the gradient numerically by using the definition of the derivative:\n",
    "\n",
    "$$f'(a) = \\lim_{h \\rightarrow 0} \\frac{f(a + h) - f(a)}{h}$$\n",
    "\n",
    "It means that by considering smaller and smaller values of $h$, we will get better and better approximations of the derivate at some point $a$. Certainly, if we take a very small value of $h$ (for instance, $h = 10^{-100}$), gradients will turn to zero, since the difference in the numerator will become zero. Thus, we will take some sensible value for $h$. Since the function takes 3 parameters as input, we will consider the point $(a = 2, b = 3, c = 4)$, which has been chosen to check the correctness of the exercise."
   ]
  },
  {
   "cell_type": "code",
   "execution_count": 3,
   "metadata": {
    "id": "_27n-KTA9Qla"
   },
   "outputs": [
    {
     "name": "stdout",
     "output_type": "stream",
     "text": [
      "OK for dim 0: expected -12.353553390593273, yours returns -12.353559348809995\n",
      "OK for dim 1: expected 10.25699027111255, yours returns 10.256991666679482\n",
      "OK for dim 2: expected 0.0625, yours returns 0.062499984743169534\n"
     ]
    }
   ],
   "source": [
    "# now estimate the gradient numerically without any calculus, using\n",
    "# the approximation we used in the video.\n",
    "# you should not call the function df from the last cell\n",
    "\n",
    "# Selecting the step value\n",
    "h = 1e-6\n",
    "\n",
    "# Defining points at which we will compute numerical gradients\n",
    "a = 2\n",
    "b = 3\n",
    "c = 4\n",
    "\n",
    "# Computing gradients with respect to 'a', 'b', 'c' numerically\n",
    "df_da = (f(a + h, b, c) - f(a, b, c)) / h\n",
    "df_db = (f(a, b + h, c) - f(a, b, c)) / h\n",
    "df_dc = (f(a, b, c + h) - f(a, b, c)) / h\n",
    "# -----------\n",
    "numerical_grad = [df_da, df_db, df_dc] # assigns values of gradients\n",
    "# -----------\n",
    "\n",
    "for dim in range(3):\n",
    "    ok = 'OK' if abs(numerical_grad[dim] - ans[dim]) < 1e-5 else 'WRONG!'\n",
    "    print(f\"{ok} for dim {dim}: expected {ans[dim]}, yours returns {numerical_grad[dim]}\")"
   ]
  },
  {
   "cell_type": "markdown",
   "metadata": {},
   "source": [
    "It can be seen that for the point $(2, 3, 4)$, the convergence has been attained by using $h = 10^{-6}$. It can also be checked that using higher $h$ was always resulting in divergence of the gradient."
   ]
  },
  {
   "cell_type": "markdown",
   "metadata": {},
   "source": [
    "Now, we should use an alternative formula for computing derivatives. It looks as follows:\n",
    "\n",
    "$$f'(a) = \\lim_{h \\rightarrow 0} \\frac{f(a + h) - f(a - h)}{2h}$$\n",
    "\n",
    "We will check if this method indeed provides a better numerical approximation of the derivative:"
   ]
  },
  {
   "cell_type": "code",
   "execution_count": 4,
   "metadata": {
    "id": "BUqsGb5o_h2P"
   },
   "outputs": [
    {
     "name": "stdout",
     "output_type": "stream",
     "text": [
      "OK for dim 0: expected -12.353553390593273, yours returns -12.353553391353245\n",
      "OK for dim 1: expected 10.25699027111255, yours returns 10.25699027401572\n",
      "OK for dim 2: expected 0.0625, yours returns 0.06250000028629188\n"
     ]
    }
   ],
   "source": [
    "# there is an alternative formula that provides a much better numerical\n",
    "# approximation to the derivative of a function.\n",
    "# learn about it here: https://en.wikipedia.org/wiki/Symmetric_derivative\n",
    "# implement it. confirm that for the same step size h this version gives a\n",
    "# better approximation.\n",
    "\n",
    "# Selecting the step value\n",
    "h = 1e-6\n",
    "\n",
    "# Defining points at which we will compute numerical gradients\n",
    "a = 2\n",
    "b = 3\n",
    "c = 4\n",
    "\n",
    "# Computing gradients with respect to 'a', 'b', 'c' numerically (Symmetric gradient method)\n",
    "df_da = (f(a + h, b, c) - f(a - h, b, c)) / (2 * h)\n",
    "df_db = (f(a, b + h, c) - f(a, b - h, c)) / (2 * h)\n",
    "df_dc = (f(a, b, c + h) - f(a, b, c - h)) / (2 * h)\n",
    "\n",
    "# -----------\n",
    "numerical_grad2 = [df_da, df_db, df_dc]\n",
    "# -----------\n",
    "\n",
    "for dim in range(3):\n",
    "    ok = 'OK' if abs(numerical_grad2[dim] - ans[dim]) < 1e-5 else 'WRONG!'\n",
    "    print(f\"{ok} for dim {dim}: expected {ans[dim]}, yours returns {numerical_grad2[dim]}\")"
   ]
  },
  {
   "cell_type": "markdown",
   "metadata": {},
   "source": [
    "It is not immediately seen if the symmetric derivative method improves upon the usual derivative formula but it can also be checked that already at $h = 10^{-3}$ the gradients converge which is not the case in the previous cell. Besides, if we take a look at $df/dc$, it is seen to be better approximated."
   ]
  },
  {
   "cell_type": "markdown",
   "metadata": {
    "id": "tklF9s_4AtlI"
   },
   "source": [
    "## section 2: support for softmax"
   ]
  },
  {
   "cell_type": "code",
   "execution_count": 5,
   "metadata": {
    "id": "nAPe_RVrCTeO"
   },
   "outputs": [],
   "source": [
    "# Value class starter code, with many functions taken out\n",
    "from math import exp, log\n",
    "\n",
    "class Value:\n",
    "\n",
    "    def __init__(self, data, _children=(), _op='', label=''):\n",
    "        \"\"\"Initializes the object of Value class.\"\"\"\n",
    "        # Attribute for storing values\n",
    "        self.data = data\n",
    "        # Attribute for storing computed gradients\n",
    "        self.grad = 0.0\n",
    "        # Attribute for storing backpropagation function\n",
    "        self._backward = lambda: None\n",
    "        # Attribute for storing children nodes in the computational graph\n",
    "        self._prev = set(_children)\n",
    "        # Attribute for storting a label for the mathematical operation\n",
    "        self._op = _op\n",
    "        # Attribute for storting a label of the Value instance\n",
    "        self.label = label\n",
    "        \n",
    "    def __repr__(self):\n",
    "        \"\"\"Returns string representation of the object.\"\"\"\n",
    "        \n",
    "        return f\"Value(data={self.data})\"\n",
    "    \n",
    "    def __add__(self, other):\n",
    "        \"\"\"Adds values of two instances together.\"\"\"\n",
    "        # Convering a number to Value object if needed\n",
    "        other = other if isinstance(other, Value) else Value(other)\n",
    "        # Addition operation\n",
    "        out = Value(self.data + other.data, (self, other), '+')\n",
    "        # Computes gradients for the addition operation\n",
    "        def _backward():\n",
    "            self.grad += 1.0 * out.grad\n",
    "            other.grad += 1.0 * out.grad\n",
    "        out._backward = _backward\n",
    "        \n",
    "        return out\n",
    "    \n",
    "    def __radd__(self, other):\n",
    "        \"\"\"Implements reversal addition operation.\"\"\"\n",
    "        \n",
    "        return self + other\n",
    "    \n",
    "    def __mul__(self, other):\n",
    "        \"\"\"Multiplies values of two instances together.\"\"\"\n",
    "        # Convering a number to Value object if needed\n",
    "        other = other if isinstance(other, Value) else Value(other)\n",
    "        # Multiplication operation\n",
    "        out = Value(self.data * other.data, (self, other), \"*\")\n",
    "        # Computes gradients for the multiplication operation\n",
    "        def _backward():\n",
    "            self.grad += other.data * out.grad\n",
    "            other.grad += self.data * out.grad\n",
    "        out._backward = _backward\n",
    "        \n",
    "        return out\n",
    "    \n",
    "    def __rmul__(self, other):\n",
    "        \"\"\"Implements reversal multiplication operation.\"\"\"\n",
    "        \n",
    "        return self * other\n",
    "    \n",
    "    def __neg__(self):\n",
    "        \"\"\"Implements taking a negative value.\"\"\"\n",
    "        \n",
    "        return self * (-1)\n",
    "    \n",
    "    def __pow__(self, other):\n",
    "        \"\"\"Computes value of one instance to the power of the value of another instance.\"\"\"\n",
    "        # Making sure that the values supplied are integer or floating point number\n",
    "        assert isinstance(other, (int, float)), \"Only integer and floating point powers are supported\"\n",
    "        # Power operation\n",
    "        out = Value(self.data**other, (self,), f'**{other}')\n",
    "        # Computes gradient for the power operation\n",
    "        def _backward():\n",
    "            self.grad += other * (self.data ** (other - 1)) * out.grad\n",
    "        out._backward = _backward\n",
    "        \n",
    "        return out\n",
    "    \n",
    "    def __truediv__(self, other):\n",
    "        \"\"\"Implements a division operation.\"\"\"\n",
    "        \n",
    "        return self * other**(-1)\n",
    "    \n",
    "    def __sub__(self, other):\n",
    "        \"\"\"Implements a subtraction operation.\"\"\"\n",
    "        \n",
    "        return self + (-other)\n",
    "    \n",
    "    def __rsub__(self, other):\n",
    "        \"\"\"Implements a reversal subtraction operation\"\"\"\n",
    "        \n",
    "        return self + (-other)\n",
    "    \n",
    "    def exp(self):\n",
    "        \"\"\"Implements the operation of taking an exponent.\"\"\"\n",
    "        # Exponent of some power operation\n",
    "        x = self.data\n",
    "        out = Value(exp(x), (self, ), 'exp')\n",
    "        # Computing gradient for the exponent operation\n",
    "        def _backward():\n",
    "            self.grad += out.data * out.grad\n",
    "        out._backward = _backward\n",
    "        \n",
    "        return out\n",
    "    \n",
    "    def log(self):\n",
    "        \"\"\"Implements an operation of taking a natural logarithm.\"\"\"\n",
    "        # Natural logarithm operation\n",
    "        x = self.data\n",
    "        out = Value(log(x), (self, ), 'log')\n",
    "        # Computing gradient for the natural logarithm operation\n",
    "        def _backward():\n",
    "            self.grad += (1/x) * out.grad\n",
    "        out._backward = _backward\n",
    "        \n",
    "        return out\n",
    "\n",
    "    def backward(self):\n",
    "        \"\"\"Implements a backpropagation via topological sorting.\"\"\"\n",
    "        topo = []\n",
    "        visited = set()\n",
    "        def build_topo(v):\n",
    "            if v not in visited:\n",
    "                visited.add(v)\n",
    "                for child in v._prev:\n",
    "                    build_topo(child)\n",
    "                topo.append(v)\n",
    "        build_topo(self)\n",
    "        self.grad = 1.0\n",
    "        for node in reversed(topo):\n",
    "            node._backward()"
   ]
  },
  {
   "cell_type": "markdown",
   "metadata": {},
   "source": [
    "Using the `Value` object implemented in the video, I have added and reimplemented some methods of the class above in order to be able to accurately perform forward pass/backpropagation using $NLL$ loss. For all necessary intermediary mathematical operations used in computing the loss, specific methods have been written along with the respective `_backward()` submethod for doing backpropagation and storing/accumulating computed gradients using a chain rule. \n",
    "\n",
    "It can now be seen that the gradients obtained are very close to those expected:"
   ]
  },
  {
   "cell_type": "code",
   "execution_count": 6,
   "metadata": {
    "id": "VgWvwVQNAvnI"
   },
   "outputs": [
    {
     "name": "stdout",
     "output_type": "stream",
     "text": [
      "2.1755153626167147\n",
      "OK for dim 0: expected 0.041772570515350445, yours returns 0.041772570515350445\n",
      "OK for dim 1: expected 0.8390245074625319, yours returns 0.8390245074625319\n",
      "OK for dim 2: expected 0.005653302662216329, yours returns 0.005653302662216329\n",
      "OK for dim 3: expected -0.8864503806400986, yours returns -0.8864503806400986\n"
     ]
    }
   ],
   "source": [
    "# without referencing our code/video __too__ much, make this cell work\n",
    "# you'll have to implement (in some cases re-implemented) a number of functions\n",
    "# of the Value object, similar to what we've seen in the video.\n",
    "# instead of the squared error loss this implements the negative log likelihood\n",
    "# loss, which is very often used in classification.\n",
    "\n",
    "# this is the softmax function\n",
    "# https://en.wikipedia.org/wiki/Softmax_function\n",
    "def softmax(logits):\n",
    "    \"\"\"Implements a Softmax activation function.\"\"\"\n",
    "    # Exponentiating all inputs\n",
    "    counts = [logit.exp() for logit in logits]\n",
    "    # Computing probabilities\n",
    "    denominator = sum(counts)\n",
    "    out = [c / denominator for c in counts]\n",
    "    \n",
    "    return out\n",
    "\n",
    "# this is the negative log likelihood loss function, pervasive in classification\n",
    "logits = [Value(0.0), Value(3.0), Value(-2.0), Value(1.0)]\n",
    "probs = softmax(logits)\n",
    "loss = -probs[3].log() # dim 3 acts as the label for this input example\n",
    "loss.backward()\n",
    "print(loss.data)\n",
    "\n",
    "ans = [0.041772570515350445, 0.8390245074625319, 0.005653302662216329, -0.8864503806400986]\n",
    "for dim in range(4):\n",
    "    ok = 'OK' if abs(logits[dim].grad - ans[dim]) < 1e-5 else 'WRONG!'\n",
    "    print(f\"{ok} for dim {dim}: expected {ans[dim]}, yours returns {logits[dim].grad}\")"
   ]
  },
  {
   "cell_type": "markdown",
   "metadata": {},
   "source": [
    "We can replicate the same results by using the tools of `torch` library."
   ]
  },
  {
   "cell_type": "code",
   "execution_count": 7,
   "metadata": {
    "id": "q7ca1SVAGG1S"
   },
   "outputs": [],
   "source": [
    "# verify the gradient using the torch library\n",
    "# torch should give you the exact same gradient\n",
    "import torch\n",
    "import torch.nn.functional as F"
   ]
  },
  {
   "cell_type": "code",
   "execution_count": 8,
   "metadata": {},
   "outputs": [
    {
     "data": {
      "text/plain": [
       "tensor([ 0.,  3., -2.,  1.], dtype=torch.float64, requires_grad=True)"
      ]
     },
     "execution_count": 8,
     "metadata": {},
     "output_type": "execute_result"
    }
   ],
   "source": [
    "# Defining a PyTorch tensor\n",
    "logit_tensor = torch.Tensor([0.0, 3.0, -2.0, 1.0]).double()\n",
    "\n",
    "# Enabling computing gradients\n",
    "logit_tensor.requires_grad = True\n",
    "\n",
    "logit_tensor"
   ]
  },
  {
   "cell_type": "code",
   "execution_count": 9,
   "metadata": {},
   "outputs": [],
   "source": [
    "# Computing an NLL loss (forward pass)\n",
    "loss = -F.log_softmax(logit_tensor, dim=-1)[3]"
   ]
  },
  {
   "cell_type": "code",
   "execution_count": 10,
   "metadata": {},
   "outputs": [],
   "source": [
    "# Backpropagation (backward pass)\n",
    "loss.backward()"
   ]
  },
  {
   "cell_type": "code",
   "execution_count": 11,
   "metadata": {},
   "outputs": [
    {
     "name": "stdout",
     "output_type": "stream",
     "text": [
      "2.1755153626167143\n"
     ]
    }
   ],
   "source": [
    "print(loss.data.item())"
   ]
  },
  {
   "cell_type": "code",
   "execution_count": 12,
   "metadata": {},
   "outputs": [
    {
     "data": {
      "text/plain": [
       "tensor([ 0.0418,  0.8390,  0.0057, -0.8865], dtype=torch.float64)"
      ]
     },
     "execution_count": 12,
     "metadata": {},
     "output_type": "execute_result"
    }
   ],
   "source": [
    "logit_tensor.grad"
   ]
  },
  {
   "cell_type": "markdown",
   "metadata": {},
   "source": [
    "It can be seen that the gradients obtained are very close to the required ones."
   ]
  }
 ],
 "metadata": {
  "colab": {
   "provenance": []
  },
  "kernelspec": {
   "display_name": "Python 3 (ipykernel)",
   "language": "python",
   "name": "python3"
  },
  "language_info": {
   "codemirror_mode": {
    "name": "ipython",
    "version": 3
   },
   "file_extension": ".py",
   "mimetype": "text/x-python",
   "name": "python",
   "nbconvert_exporter": "python",
   "pygments_lexer": "ipython3",
   "version": "3.9.18"
  },
  "toc": {
   "base_numbering": 1,
   "nav_menu": {},
   "number_sections": true,
   "sideBar": true,
   "skip_h1_title": true,
   "title_cell": "Table of Contents",
   "title_sidebar": "Contents",
   "toc_cell": true,
   "toc_position": {},
   "toc_section_display": true,
   "toc_window_display": false
  }
 },
 "nbformat": 4,
 "nbformat_minor": 4
}
