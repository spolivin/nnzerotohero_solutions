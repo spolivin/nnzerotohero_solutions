{
 "cells": [
  {
   "cell_type": "markdown",
   "id": "3047c0fd-2455-4f53-86ef-251b04c810cc",
   "metadata": {},
   "source": [
    "# Data preparation"
   ]
  },
  {
   "cell_type": "code",
   "execution_count": 1,
   "id": "19b38a15-0971-4b5a-902e-15c458577d86",
   "metadata": {},
   "outputs": [],
   "source": [
    "import random\n",
    "\n",
    "import torch\n",
    "import torch.nn.functional as F\n",
    "import matplotlib.pyplot as plt\n",
    "%matplotlib inline\n",
    "from tqdm import notebook\n",
    "\n",
    "RANDOM_SEED = 42\n",
    "VALID_LOSS_BENCHMARK = 1.993"
   ]
  },
  {
   "cell_type": "markdown",
   "id": "2727faaf-edd7-4353-9f41-185265064d9e",
   "metadata": {},
   "source": [
    "## Reading dataset and creating mappings"
   ]
  },
  {
   "cell_type": "code",
   "execution_count": 2,
   "id": "327adb57-42aa-4b37-969c-d3e5fb9f00a8",
   "metadata": {},
   "outputs": [
    {
     "data": {
      "text/plain": [
       "['emma',\n",
       " 'olivia',\n",
       " 'ava',\n",
       " 'isabella',\n",
       " 'sophia',\n",
       " 'charlotte',\n",
       " 'mia',\n",
       " 'amelia',\n",
       " 'harper',\n",
       " 'evelyn']"
      ]
     },
     "execution_count": 2,
     "metadata": {},
     "output_type": "execute_result"
    }
   ],
   "source": [
    "words = open(\"../names.txt\", \"r\").read().splitlines()\n",
    "words[:10]"
   ]
  },
  {
   "cell_type": "code",
   "execution_count": 3,
   "id": "1a2d5747-7c2b-4ced-a956-26f94e1c25f5",
   "metadata": {},
   "outputs": [],
   "source": [
    "chars = sorted(list(set(''.join(words))))\n",
    "\n",
    "char2id = {s: i+1 for i, s in enumerate(chars)}\n",
    "char2id['.'] = 0\n",
    "\n",
    "id2char = {i: s for s, i in char2id.items()}\n",
    "\n",
    "vocab_size = len(id2char)"
   ]
  },
  {
   "cell_type": "code",
   "execution_count": 4,
   "id": "0287912a-7d69-4791-a7b3-d7a67c48627a",
   "metadata": {},
   "outputs": [
    {
     "name": "stdout",
     "output_type": "stream",
     "text": [
      "{'a': 1, 'b': 2, 'c': 3, 'd': 4, 'e': 5, 'f': 6, 'g': 7, 'h': 8, 'i': 9, 'j': 10, 'k': 11, 'l': 12, 'm': 13, 'n': 14, 'o': 15, 'p': 16, 'q': 17, 'r': 18, 's': 19, 't': 20, 'u': 21, 'v': 22, 'w': 23, 'x': 24, 'y': 25, 'z': 26, '.': 0}\n",
      "\n",
      "{1: 'a', 2: 'b', 3: 'c', 4: 'd', 5: 'e', 6: 'f', 7: 'g', 8: 'h', 9: 'i', 10: 'j', 11: 'k', 12: 'l', 13: 'm', 14: 'n', 15: 'o', 16: 'p', 17: 'q', 18: 'r', 19: 's', 20: 't', 21: 'u', 22: 'v', 23: 'w', 24: 'x', 25: 'y', 26: 'z', 0: '.'}\n",
      "\n",
      "Vocabulary size: 27\n"
     ]
    }
   ],
   "source": [
    "print(char2id)\n",
    "print()\n",
    "print(id2char)\n",
    "print()\n",
    "print(f\"Vocabulary size: {vocab_size}\")"
   ]
  },
  {
   "cell_type": "markdown",
   "id": "cfbbbffb-f0f2-4f3c-98c4-1d5608ead2c9",
   "metadata": {},
   "source": [
    "## Data split into sets"
   ]
  },
  {
   "cell_type": "code",
   "execution_count": 5,
   "id": "938dede3-e5c5-4246-b1ae-91854c058a68",
   "metadata": {},
   "outputs": [
    {
     "name": "stdout",
     "output_type": "stream",
     "text": [
      "Training set: 0-25,625\n",
      "Development set: 25,626-28,828\n",
      "Testing set: 28,829-32,032\n",
      "\n",
      "Total words: 32,033\n"
     ]
    }
   ],
   "source": [
    "random.seed(RANDOM_SEED)\n",
    "random.shuffle(words)\n",
    "\n",
    "cutoff_train = int(0.8*len(words))\n",
    "cutoff_dev = int(0.9*len(words))\n",
    "\n",
    "print(f\"Training set: {0}-{cutoff_train-1:,}\")\n",
    "print(f\"Development set: {cutoff_train:,}-{cutoff_dev-1:,}\")\n",
    "print(f\"Testing set: {cutoff_dev:,}-{len(words)-1:,}\")\n",
    "\n",
    "print(f\"\\nTotal words: {len(words):,}\")"
   ]
  },
  {
   "cell_type": "code",
   "execution_count": 6,
   "id": "346708ad-40b4-43e1-8b05-7365bcd8ecd7",
   "metadata": {},
   "outputs": [
    {
     "name": "stdout",
     "output_type": "stream",
     "text": [
      "Training set examples: 25,626 (80%)\n",
      "Development set examples: 3,203 (10%)\n",
      "Testing set examples: 3,204 (10%)\n"
     ]
    }
   ],
   "source": [
    "words_train = words[:cutoff_train]\n",
    "words_dev = words[cutoff_train:cutoff_dev]\n",
    "words_test = words[cutoff_dev:]\n",
    "\n",
    "print(f\"Training set examples: {len(words_train):,} ({len(words_train)/len(words):.0%})\")\n",
    "print(f\"Development set examples: {len(words_dev):,} ({len(words_dev)/len(words):.0%})\")\n",
    "print(f\"Testing set examples: {len(words_test):,} ({len(words_test)/len(words):.0%})\")"
   ]
  },
  {
   "cell_type": "code",
   "execution_count": 7,
   "id": "98edbdba-3366-4473-9372-9b666235fd4f",
   "metadata": {},
   "outputs": [],
   "source": [
    "def build_dataset(words, block_size):\n",
    "    \"\"\"Creates a dataset.\"\"\"\n",
    "    # Preallocating lists for dataset\n",
    "    X, Y = [], []\n",
    "    for word in words:\n",
    "        # Creating a starting examples depending on block size\n",
    "        context = [0] * block_size\n",
    "        # Iterating through entire word with end of word token\n",
    "        for char in word + '.':\n",
    "            index = char2id[char]\n",
    "            X.append(context)\n",
    "            Y.append(index)\n",
    "            # Adding the character index and shifting\n",
    "            context = context[1:] + [index]\n",
    "    \n",
    "    # Casting as PyTorch tensors\n",
    "    X = torch.tensor(X)\n",
    "    Y = torch.tensor(Y)\n",
    "    \n",
    "    return X, Y"
   ]
  },
  {
   "cell_type": "markdown",
   "id": "c1fa0899-2f99-45c7-8c05-ff94215f0d4f",
   "metadata": {},
   "source": [
    "Now we will use 8 characters previous characters of a name to predict the next one:"
   ]
  },
  {
   "cell_type": "code",
   "execution_count": 8,
   "id": "091ca412-56b8-4ab7-9c34-95750ebb6efd",
   "metadata": {},
   "outputs": [],
   "source": [
    "block_size = 8\n",
    "\n",
    "# Building the datasets for three sets\n",
    "X_train, Y_train = build_dataset(\n",
    "    words=words_train, block_size=block_size,\n",
    ")\n",
    "X_dev, Y_dev = build_dataset(\n",
    "    words=words_dev, block_size=block_size,\n",
    ")\n",
    "X_test, Y_test = build_dataset(\n",
    "    words=words_test, block_size=block_size,\n",
    ")"
   ]
  },
  {
   "cell_type": "markdown",
   "id": "2ebe3bfd-1766-4c97-b6a4-9545370d5d23",
   "metadata": {},
   "source": [
    "The encoded characters that compose the datasets we created above now look like this:"
   ]
  },
  {
   "cell_type": "code",
   "execution_count": 9,
   "id": "ef84f8e9-262a-448d-9bcf-8112efe07c0f",
   "metadata": {},
   "outputs": [
    {
     "data": {
      "text/plain": [
       "(tensor([[ 0,  0,  0,  ...,  0,  0,  0],\n",
       "         [ 0,  0,  0,  ...,  0,  0, 25],\n",
       "         [ 0,  0,  0,  ...,  0, 25, 21],\n",
       "         ...,\n",
       "         [ 0,  0,  0,  ..., 15, 12,  4],\n",
       "         [ 0,  0,  0,  ..., 12,  4,  1],\n",
       "         [ 0,  0,  8,  ...,  4,  1, 14]]),\n",
       " tensor([25, 21,  8,  ...,  1, 14,  0]))"
      ]
     },
     "execution_count": 9,
     "metadata": {},
     "output_type": "execute_result"
    }
   ],
   "source": [
    "X_train, Y_train"
   ]
  },
  {
   "cell_type": "code",
   "execution_count": 10,
   "id": "f5e56a48-0e81-45c6-a582-ee14ce7c6787",
   "metadata": {},
   "outputs": [
    {
     "data": {
      "text/plain": [
       "(tensor([[ 0,  0,  0,  ...,  0,  0,  0],\n",
       "         [ 0,  0,  0,  ...,  0,  0,  1],\n",
       "         [ 0,  0,  0,  ...,  0,  1, 13],\n",
       "         ...,\n",
       "         [ 0,  0,  0,  ...,  8,  1, 25],\n",
       "         [ 0,  0,  0,  ...,  1, 25, 12],\n",
       "         [ 0,  0,  0,  ..., 25, 12,  1]]),\n",
       " tensor([ 1, 13,  1,  ..., 12,  1,  0]))"
      ]
     },
     "execution_count": 10,
     "metadata": {},
     "output_type": "execute_result"
    }
   ],
   "source": [
    "X_dev, Y_dev"
   ]
  },
  {
   "cell_type": "code",
   "execution_count": 11,
   "id": "3d1ef2cb-400f-40eb-b673-2e956a5f1e3a",
   "metadata": {},
   "outputs": [
    {
     "data": {
      "text/plain": [
       "(tensor([[ 0,  0,  0,  ...,  0,  0,  0],\n",
       "         [ 0,  0,  0,  ...,  0,  0, 13],\n",
       "         [ 0,  0,  0,  ...,  0, 13, 21],\n",
       "         ...,\n",
       "         [ 0,  0,  0,  ..., 15, 22,  1],\n",
       "         [ 0,  0,  0,  ..., 22,  1, 14],\n",
       "         [ 0,  0, 25,  ...,  1, 14,  9]]),\n",
       " tensor([13, 21, 19,  ..., 14,  9,  0]))"
      ]
     },
     "execution_count": 11,
     "metadata": {},
     "output_type": "execute_result"
    }
   ],
   "source": [
    "X_test, Y_test"
   ]
  },
  {
   "cell_type": "markdown",
   "id": "d8473e6c-1f46-41be-aae5-1a01a1c9bd12",
   "metadata": {},
   "source": [
    "Let's also vizualize the task at hand (predicting the 9th characters based on the information about the previous 8 ones). Let's consider the first 8 names from the training words:"
   ]
  },
  {
   "cell_type": "code",
   "execution_count": 12,
   "id": "6efa5ed5-abf4-426f-9cb7-9ae324f128ab",
   "metadata": {},
   "outputs": [
    {
     "name": "stdout",
     "output_type": "stream",
     "text": [
      "yuheng\n",
      "diondre\n",
      "xavien\n",
      "jori\n",
      "juanluis\n",
      "erandi\n",
      "phia\n",
      "samatha\n"
     ]
    }
   ],
   "source": [
    "i = 0\n",
    "while i <= 7:\n",
    "    print(words_train[i])\n",
    "    i += 1"
   ]
  },
  {
   "cell_type": "markdown",
   "id": "e4dfb25e-d793-4007-aecd-b9bbfb2a9744",
   "metadata": {},
   "source": [
    "Next, we can picture these names in terms of characters:"
   ]
  },
  {
   "cell_type": "code",
   "execution_count": 13,
   "id": "1047711c-cd09-4810-90dc-19806dafdcd0",
   "metadata": {},
   "outputs": [
    {
     "name": "stdout",
     "output_type": "stream",
     "text": [
      "........ --> y\n",
      ".......y --> u\n",
      "......yu --> h\n",
      ".....yuh --> e\n",
      "....yuhe --> n\n",
      "...yuhen --> g\n",
      "..yuheng --> .\n",
      "\n",
      "........ --> d\n",
      ".......d --> i\n",
      "......di --> o\n",
      ".....dio --> n\n",
      "....dion --> d\n",
      "...diond --> r\n",
      "..diondr --> e\n",
      ".diondre --> .\n",
      "\n",
      "........ --> x\n",
      ".......x --> a\n",
      "......xa --> v\n",
      ".....xav --> i\n",
      "....xavi --> e\n",
      "...xavie --> n\n",
      "..xavien --> .\n",
      "\n",
      "........ --> j\n",
      ".......j --> o\n",
      "......jo --> r\n",
      ".....jor --> i\n",
      "....jori --> .\n",
      "\n",
      "........ --> j\n",
      ".......j --> u\n",
      "......ju --> a\n",
      ".....jua --> n\n",
      "....juan --> l\n",
      "...juanl --> u\n",
      "..juanlu --> i\n",
      ".juanlui --> s\n",
      "juanluis --> .\n",
      "\n",
      "........ --> e\n",
      ".......e --> r\n",
      "......er --> a\n",
      ".....era --> n\n",
      "....eran --> d\n",
      "...erand --> i\n",
      "..erandi --> .\n",
      "\n",
      "........ --> p\n",
      ".......p --> h\n",
      "......ph --> i\n",
      ".....phi --> a\n",
      "....phia --> .\n",
      "\n",
      "........ --> s\n",
      ".......s --> a\n",
      "......sa --> m\n",
      ".....sam --> a\n",
      "....sama --> t\n",
      "...samat --> h\n",
      "..samath --> a\n",
      ".samatha --> .\n",
      "\n"
     ]
    }
   ],
   "source": [
    "for x, y in zip(X_train[:56], Y_train[:56]):\n",
    "    print(''.join(id2char[ix.item()] for ix in x), '-->', id2char[y.item()])\n",
    "    if y.item() == 0:\n",
    "        print()"
   ]
  },
  {
   "cell_type": "markdown",
   "id": "c26f86fb-c694-4593-acb1-1fd086675629",
   "metadata": {},
   "source": [
    "# Creating WaveNet"
   ]
  },
  {
   "cell_type": "markdown",
   "id": "dfbe9436-f323-49d9-9774-7905f8c4d38c",
   "metadata": {},
   "source": [
    "The Neural Net we are going to consider here will be similar to the WaveNet. In other words, before proceeding to the next layer we will always be taking every two characters and will be fusing them together (as a bigram representation) consecutively, therefore slowly squashing all information rather than crushing it all at once."
   ]
  },
  {
   "cell_type": "markdown",
   "id": "b38b3d30-294c-45f2-b601-55b1f5d20e9d",
   "metadata": {},
   "source": [
    "## Building blocks"
   ]
  },
  {
   "cell_type": "markdown",
   "id": "079d59b0-11a8-4ec4-9dcc-9a3b43244b80",
   "metadata": {},
   "source": [
    "### Linear layer"
   ]
  },
  {
   "cell_type": "code",
   "execution_count": 14,
   "id": "7d083270-ff0c-404b-b4f1-8ca50674da7b",
   "metadata": {},
   "outputs": [],
   "source": [
    "class Linear:\n",
    "    \"\"\"Linear layer.\"\"\"\n",
    "  \n",
    "    def __init__(self, fan_in, fan_out, bias=True):\n",
    "        \"\"\"Initializes an instance of Linear class.\"\"\"\n",
    "        # Initializing the parameters (Kaiming normal initialization)\n",
    "        self.weight = torch.randn((fan_in, fan_out)) / fan_in**0.5\n",
    "        # Optionally adding bias term\n",
    "        self.bias = torch.zeros(fan_out) if bias else None\n",
    "    \n",
    "    def __call__(self, x):\n",
    "        \"\"\"Makes a forward pass.\"\"\"\n",
    "        self.out = x @ self.weight\n",
    "        if self.bias is not None:\n",
    "            self.out += self.bias\n",
    "        \n",
    "        return self.out\n",
    "    \n",
    "    def parameters(self):\n",
    "        \"\"\"Collects trainable parameters.\"\"\"\n",
    "        \n",
    "        return [self.weight] + ([] if self.bias is None else [self.bias])"
   ]
  },
  {
   "cell_type": "markdown",
   "id": "af698464-8532-437c-a0f4-ed2482c403a7",
   "metadata": {},
   "source": [
    "### Batch normalization layer"
   ]
  },
  {
   "cell_type": "code",
   "execution_count": 15,
   "id": "dbc9abcd-bfc5-4583-9a1b-b51da655fee1",
   "metadata": {},
   "outputs": [],
   "source": [
    "class BatchNorm1d:\n",
    "    \"\"\"Batch normalization layer.\"\"\"\n",
    "  \n",
    "    def __init__(self, dim, eps=1e-5, momentum=0.1):\n",
    "        \"\"\"Initializes an instance of BatchNorm1d class.\"\"\"\n",
    "        self.eps = eps\n",
    "        self.momentum = momentum\n",
    "        self.training = True\n",
    "        # Setting trainable parameters\n",
    "        self.gamma = torch.ones(dim)\n",
    "        self.beta = torch.zeros(dim)\n",
    "        # Initializing the buffers\n",
    "        self.running_mean = torch.zeros(dim)\n",
    "        self.running_var = torch.ones(dim)\n",
    "  \n",
    "    def __call__(self, x):\n",
    "        \"\"\"Makes a forward pass.\"\"\"\n",
    "        # Computing batch mean/variance (training model\\)\n",
    "        if self.training:\n",
    "            # Choosing batch dimension (depending on input dimensions)\n",
    "            if x.ndim == 2:\n",
    "                dim = 0\n",
    "            elif x.ndim == 3:\n",
    "                dim = (0, 1)\n",
    "            # Computing batch mean/variance\n",
    "            x_mean = x.mean(dim, keepdim=True)\n",
    "            x_var = x.var(dim, keepdim=True)\n",
    "        # Using pre-computed batch mean/variance (evaluation mode)\n",
    "        else:\n",
    "            x_mean = self.running_mean\n",
    "            x_var = self.running_var\n",
    "        \n",
    "        # Computing layer outputs\n",
    "        x_hat = (x - x_mean) / torch.sqrt(x_var + self.eps)\n",
    "        self.out = self.gamma * x_hat + self.beta\n",
    "        \n",
    "        # Updating the buffers (\"momentum update\")\n",
    "        if self.training:\n",
    "            with torch.no_grad():\n",
    "                self.running_mean = (1 - self.momentum) * self.running_mean + self.momentum * x_mean\n",
    "                self.running_var = (1 - self.momentum) * self.running_var + self.momentum * x_var\n",
    "        \n",
    "        return self.out\n",
    "  \n",
    "    def parameters(self):\n",
    "        \"\"\"Collects the trainable parameters.\"\"\"\n",
    "        \n",
    "        return [self.gamma, self.beta]"
   ]
  },
  {
   "cell_type": "markdown",
   "id": "1d7ed514-378b-4f1b-97bb-578f5a0d28d9",
   "metadata": {},
   "source": [
    "### Hyperbolic tangent activation"
   ]
  },
  {
   "cell_type": "code",
   "execution_count": 16,
   "id": "8f853d89-58ec-4137-98aa-2c9faeb04ed5",
   "metadata": {},
   "outputs": [],
   "source": [
    "class Tanh:\n",
    "    \"\"\"Hyperbolic tangent activation.\"\"\"\n",
    "    def __call__(self, x):\n",
    "        \"\"\"Makes a forward pass.\"\"\"\n",
    "        self.out = torch.tanh(x)\n",
    "        \n",
    "        return self.out\n",
    "    def parameters(self):\n",
    "        \"\"\"Collects trainable parameters.\"\"\"\n",
    "        \n",
    "        return []"
   ]
  },
  {
   "cell_type": "markdown",
   "id": "8d440942-c993-431c-86bf-68e5680b6643",
   "metadata": {},
   "source": [
    "### Embedding layer"
   ]
  },
  {
   "cell_type": "code",
   "execution_count": 17,
   "id": "8b2a498e-9c48-464d-839a-ecfd7612754f",
   "metadata": {},
   "outputs": [],
   "source": [
    "class Embedding:\n",
    "    \"\"\"Embedding layer.\"\"\"\n",
    "    \n",
    "    def __init__(self, num_embeddings, embedding_dim):\n",
    "        \"\"\"Initializes an instance of Embedding class.\"\"\"\n",
    "        self.weight = torch.randn((num_embeddings, embedding_dim))\n",
    "      \n",
    "    def __call__(self, idx):\n",
    "        \"\"\"Makes a forward pass.\"\"\"\n",
    "        self.out = self.weight[idx]\n",
    "        \n",
    "        return self.out\n",
    "    \n",
    "    def parameters(self):\n",
    "        \"\"\"Collects the trainable parameters.\"\"\"\n",
    "        \n",
    "        return [self.weight]"
   ]
  },
  {
   "cell_type": "markdown",
   "id": "54e08e31-c758-4544-bd95-7c79e5280f50",
   "metadata": {},
   "source": [
    "### Flattening layer"
   ]
  },
  {
   "cell_type": "code",
   "execution_count": 18,
   "id": "2e812ac1-edc0-4ca2-a85c-3b54696bff90",
   "metadata": {},
   "outputs": [],
   "source": [
    "class FlattenConsecutive:\n",
    "    \"\"\"Flattening layer.\"\"\"\n",
    "  \n",
    "    def __init__(self, n):\n",
    "        \"\"\"Initializes an instance of FlattenConsecutive layer.\"\"\"\n",
    "        self.n = n\n",
    "      \n",
    "    def __call__(self, x):\n",
    "        \"\"\"Makes a forward pass.\"\"\"\n",
    "        # Retrieving the input dimensions\n",
    "        dim_1, dim_2, dim_3 = x.shape\n",
    "        x = x.view(dim_1, dim_2 // self.n, dim_3 * self.n)\n",
    "        \n",
    "        # Removing unitary dimension when reaching\n",
    "        if x.shape[1] == 1:\n",
    "            x = x.squeeze(1)\n",
    "        \n",
    "        self.out = x\n",
    "        \n",
    "        return self.out\n",
    "    \n",
    "    def parameters(self):\n",
    "        \"\"\"Collects the trainable parameters.\"\"\"\n",
    "        \n",
    "        return []"
   ]
  },
  {
   "cell_type": "markdown",
   "id": "fcbdff0f-4588-4345-b07f-922d2de3e0c6",
   "metadata": {},
   "source": [
    "### Sequential"
   ]
  },
  {
   "cell_type": "code",
   "execution_count": 19,
   "id": "9b31f7a2-4a40-4ad5-9b4d-c397a78393d7",
   "metadata": {},
   "outputs": [],
   "source": [
    "class Sequential:\n",
    "    \"\"\"Stacks up all layers together.\"\"\"\n",
    "  \n",
    "    def __init__(self, layers):\n",
    "        \"\"\"Initializes an instance of Sequential class.\"\"\"\n",
    "        self.layers = layers\n",
    "    \n",
    "    def __call__(self, x):\n",
    "        \"\"\"Makes a forward pass.\"\"\"\n",
    "        # Forwards all layers\n",
    "        for layer in self.layers:\n",
    "            x = layer(x)\n",
    "        \n",
    "        self.out = x\n",
    "        \n",
    "        return self.out\n",
    "  \n",
    "    def parameters(self):\n",
    "        \"\"\"Get parameters of all layers and stretches them out into one list.\"\"\"\n",
    "        \n",
    "        return [p for layer in self.layers for p in layer.parameters()]"
   ]
  },
  {
   "cell_type": "markdown",
   "id": "c6ebdd9a-324e-4bc8-9f33-ed65aae8da2e",
   "metadata": {},
   "source": [
    "## Initialization"
   ]
  },
  {
   "cell_type": "code",
   "execution_count": 20,
   "id": "0d3ab949-ca17-4551-ba41-8d20312b3a55",
   "metadata": {},
   "outputs": [],
   "source": [
    "torch.manual_seed(RANDOM_SEED);"
   ]
  },
  {
   "cell_type": "code",
   "execution_count": 21,
   "id": "facdae8d-6959-421a-a612-8578f04cacdd",
   "metadata": {},
   "outputs": [
    {
     "name": "stdout",
     "output_type": "stream",
     "text": [
      "Number of trainable parameters: 78,843\n"
     ]
    }
   ],
   "source": [
    "# Setting the dimensionality of the character embedding vectors\n",
    "n_embd = 32 # CHANGE 1: increasing from 24 (video) to 32\n",
    "\n",
    "# Setting the number of neurons in the hidden layer of the MLP\n",
    "n_hidden = 128\n",
    "\n",
    "# Stacking up the layers\n",
    "model = Sequential([\n",
    "  Embedding(vocab_size, n_embd),\n",
    "  FlattenConsecutive(2), Linear(n_embd * 2, n_hidden, bias=False), BatchNorm1d(n_hidden), Tanh(),\n",
    "  FlattenConsecutive(2), Linear(n_hidden*2, n_hidden, bias=False), BatchNorm1d(n_hidden), Tanh(),\n",
    "  FlattenConsecutive(2), Linear(n_hidden*2, n_hidden, bias=False), BatchNorm1d(n_hidden), Tanh(),\n",
    "  Linear(n_hidden, vocab_size),\n",
    "])\n",
    "\n",
    "# Making last layer less confident\n",
    "with torch.no_grad():\n",
    "    model.layers[-1].weight *= 0.1\n",
    "\n",
    "# Computing the total number of trainable parameters\n",
    "parameters = model.parameters()\n",
    "nn_params_num = sum(p.nelement() for p in parameters)\n",
    "print(f\"Number of trainable parameters: {nn_params_num:,}\")\n",
    "\n",
    "# Enabling autogradient computations\n",
    "for p in parameters:\n",
    "    p.requires_grad = True"
   ]
  },
  {
   "cell_type": "code",
   "execution_count": 22,
   "id": "81fe05b1-7327-4f2e-9a0f-5f7d891ba917",
   "metadata": {},
   "outputs": [
    {
     "name": "stdout",
     "output_type": "stream",
     "text": [
      "Embedding\n",
      "---------------------------------\n",
      "FlattenConsecutive\n",
      "Linear\n",
      "BatchNorm1d\n",
      "Tanh\n",
      "---------------------------------\n",
      "FlattenConsecutive\n",
      "Linear\n",
      "BatchNorm1d\n",
      "Tanh\n",
      "---------------------------------\n",
      "FlattenConsecutive\n",
      "Linear\n",
      "BatchNorm1d\n",
      "Tanh\n",
      "---------------------------------\n",
      "Linear\n"
     ]
    }
   ],
   "source": [
    "# Displaying the NN architecture\n",
    "for layer in model.layers:\n",
    "    print(f\"{layer.__class__.__name__}\")\n",
    "    if isinstance(layer, Tanh) or isinstance(layer, Embedding):\n",
    "        print('-' * 33)"
   ]
  },
  {
   "cell_type": "markdown",
   "id": "dc39ac50-a75a-49d7-a1a6-ee7d3cb9c9dc",
   "metadata": {},
   "source": [
    "# Verifying the shapes during forward pass"
   ]
  },
  {
   "cell_type": "code",
   "execution_count": 23,
   "id": "2c7fbda0-7edb-4a95-a42f-bb7298b2cc79",
   "metadata": {},
   "outputs": [],
   "source": [
    "max_steps = 100000 # CHANGE 2: decreasing from 200000 (video) to 100000\n",
    "batch_size = 32\n",
    "lossi = []"
   ]
  },
  {
   "cell_type": "code",
   "execution_count": 24,
   "id": "9b5544b4-64df-42b3-84c6-57a85625ff0d",
   "metadata": {},
   "outputs": [
    {
     "data": {
      "application/vnd.jupyter.widget-view+json": {
       "model_id": "eddc240e469c4cbfb608cab464432c46",
       "version_major": 2,
       "version_minor": 0
      },
      "text/plain": [
       "  0%|          | 0/100000 [00:00<?, ?it/s]"
      ]
     },
     "metadata": {},
     "output_type": "display_data"
    },
    {
     "name": "stdout",
     "output_type": "stream",
     "text": [
      "      0/ 100000: 3.2889\n"
     ]
    }
   ],
   "source": [
    "# Launching the training (one iteration only)\n",
    "for i in notebook.tqdm(range(max_steps)):\n",
    "  \n",
    "    ix = torch.randint(0, X_train.shape[0], (batch_size,))\n",
    "    Xb, Yb = X_train[ix], Y_train[ix]\n",
    "    \n",
    "    # Forward pass\n",
    "    logits = model(Xb)\n",
    "    loss = F.cross_entropy(logits, Yb)\n",
    "    \n",
    "    # Backward pass\n",
    "    for p in parameters:\n",
    "        p.grad = None\n",
    "    loss.backward()\n",
    "    \n",
    "    # Learning rate decay\n",
    "    lr = 0.1 if i < 75000 else 0.01\n",
    "    # Parameter updates\n",
    "    for p in parameters:\n",
    "        p.data -= lr * p.grad\n",
    "    \n",
    "    # Track statistics\n",
    "    if i % 10000 == 0:\n",
    "        print(f'{i:7d}/{max_steps:7d}: {loss.item():.4f}')\n",
    "    \n",
    "    lossi.append(loss.log10().item())\n",
    "    \n",
    "    # Stopping the training after one iteration\n",
    "    break"
   ]
  },
  {
   "cell_type": "code",
   "execution_count": 25,
   "id": "5ae841c7-7759-47e2-a7f6-c6ef84e7eb61",
   "metadata": {},
   "outputs": [
    {
     "name": "stdout",
     "output_type": "stream",
     "text": [
      "Embedding            (32, 8, 32)\n",
      "---------------------------------\n",
      "FlattenConsecutive   (32, 4, 64)\n",
      "Linear               (32, 4, 128)\n",
      "BatchNorm1d          (32, 4, 128)\n",
      "Tanh                 (32, 4, 128)\n",
      "---------------------------------\n",
      "FlattenConsecutive   (32, 2, 256)\n",
      "Linear               (32, 2, 128)\n",
      "BatchNorm1d          (32, 2, 128)\n",
      "Tanh                 (32, 2, 128)\n",
      "---------------------------------\n",
      "FlattenConsecutive   (32, 256)\n",
      "Linear               (32, 128)\n",
      "BatchNorm1d          (32, 128)\n",
      "Tanh                 (32, 128)\n",
      "---------------------------------\n",
      "Linear               (32, 27)\n"
     ]
    }
   ],
   "source": [
    "for layer in model.layers:\n",
    "    print(f\"{layer.__class__.__name__:20s} {tuple(layer.out.shape)}\")\n",
    "    if isinstance(layer, Embedding) or isinstance(layer, Tanh):\n",
    "        print('-' * 33)"
   ]
  },
  {
   "cell_type": "markdown",
   "id": "c5294441-26c1-42b7-aa1c-124cbfb08f25",
   "metadata": {},
   "source": [
    "# Training the MLP"
   ]
  },
  {
   "cell_type": "code",
   "execution_count": 26,
   "id": "c32cf8cf-01bf-41f8-b86d-f09bb58618b3",
   "metadata": {},
   "outputs": [
    {
     "name": "stdout",
     "output_type": "stream",
     "text": [
      "Number of trainable parameters: 78,843\n"
     ]
    }
   ],
   "source": [
    "model = Sequential([\n",
    "  Embedding(vocab_size, n_embd),\n",
    "  FlattenConsecutive(2), Linear(n_embd * 2, n_hidden, bias=False), BatchNorm1d(n_hidden), Tanh(),\n",
    "  FlattenConsecutive(2), Linear(n_hidden*2, n_hidden, bias=False), BatchNorm1d(n_hidden), Tanh(),\n",
    "  FlattenConsecutive(2), Linear(n_hidden*2, n_hidden, bias=False), BatchNorm1d(n_hidden), Tanh(),\n",
    "  Linear(n_hidden, vocab_size),\n",
    "])\n",
    "\n",
    "with torch.no_grad():\n",
    "    model.layers[-1].weight *= 0.1\n",
    "\n",
    "parameters = model.parameters()\n",
    "nn_params_num = sum(p.nelement() for p in parameters)\n",
    "print(f\"Number of trainable parameters: {nn_params_num:,}\")\n",
    "\n",
    "for p in parameters:\n",
    "    p.requires_grad = True"
   ]
  },
  {
   "cell_type": "code",
   "execution_count": 27,
   "id": "85e1f620-2324-47ac-b1a5-e4d2dd76ea39",
   "metadata": {},
   "outputs": [
    {
     "name": "stdout",
     "output_type": "stream",
     "text": [
      "Embedding\n",
      "---------------------------------\n",
      "FlattenConsecutive\n",
      "Linear\n",
      "BatchNorm1d\n",
      "Tanh\n",
      "---------------------------------\n",
      "FlattenConsecutive\n",
      "Linear\n",
      "BatchNorm1d\n",
      "Tanh\n",
      "---------------------------------\n",
      "FlattenConsecutive\n",
      "Linear\n",
      "BatchNorm1d\n",
      "Tanh\n",
      "---------------------------------\n",
      "Linear\n"
     ]
    }
   ],
   "source": [
    "# Displaying the NN architecture\n",
    "for layer in model.layers:\n",
    "    print(f\"{layer.__class__.__name__}\")\n",
    "    if isinstance(layer, Tanh) or isinstance(layer, Embedding):\n",
    "        print('-' * 33)"
   ]
  },
  {
   "cell_type": "code",
   "execution_count": 28,
   "id": "9b269e4e-1d02-41f0-aaca-f3e480ac3669",
   "metadata": {},
   "outputs": [
    {
     "data": {
      "application/vnd.jupyter.widget-view+json": {
       "model_id": "e481f648270c40dab77c0b4a9d4e34f9",
       "version_major": 2,
       "version_minor": 0
      },
      "text/plain": [
       "  0%|          | 0/100000 [00:00<?, ?it/s]"
      ]
     },
     "metadata": {},
     "output_type": "display_data"
    },
    {
     "name": "stdout",
     "output_type": "stream",
     "text": [
      "      0/ 100000: train_loss = 3.2864\n",
      "  10000/ 100000: train_loss = 2.1543\n",
      "  20000/ 100000: train_loss = 1.7248\n",
      "  30000/ 100000: train_loss = 1.7390\n",
      "  40000/ 100000: train_loss = 2.1115\n",
      "  50000/ 100000: train_loss = 2.0811\n",
      "  60000/ 100000: train_loss = 1.7658\n",
      "  70000/ 100000: train_loss = 2.1511\n",
      "  80000/ 100000: train_loss = 2.4455\n",
      "  90000/ 100000: train_loss = 1.7456\n"
     ]
    }
   ],
   "source": [
    "lossi = []\n",
    "\n",
    "for i in notebook.tqdm(range(max_steps)):\n",
    "  \n",
    "    ix = torch.randint(0, X_train.shape[0], (batch_size,))\n",
    "    Xb, Yb = X_train[ix], Y_train[ix]\n",
    "    \n",
    "    logits = model(Xb)\n",
    "    loss = F.cross_entropy(logits, Yb)\n",
    "    \n",
    "    for p in parameters:\n",
    "        p.grad = None\n",
    "    loss.backward()\n",
    "    \n",
    "    lr = 0.1 if i < int(0.75 * max_steps) else 0.01\n",
    "    for p in parameters:\n",
    "        p.data -= lr * p.grad\n",
    "    \n",
    "    if i % (max_steps // 10) == 0:\n",
    "        print(f'{i:7d}/{max_steps:7d}: train_loss = {loss.item():.4f}')\n",
    "    \n",
    "    lossi.append(loss.log10().item())"
   ]
  },
  {
   "cell_type": "code",
   "execution_count": 29,
   "id": "2ac9be7a-6268-4ce6-97ce-f82b1506a718",
   "metadata": {},
   "outputs": [
    {
     "data": {
      "image/png": "[encoded data removed]",
      "text/plain": [
       "<Figure size 640x480 with 1 Axes>"
      ]
     },
     "metadata": {},
     "output_type": "display_data"
    }
   ],
   "source": [
    "plt.plot(torch.tensor(lossi).view(-1, 1000).mean(1), label=r'$\\log_{10}(loss)$')\n",
    "\n",
    "m = int(0.75 * max_steps) / 1000\n",
    "plt.axvline(x=m, color='g', label='Learning rate decay', linestyle='--', linewidth=1)\n",
    "plt.legend(bbox_to_anchor=(1.0, 1), loc='upper left')\n",
    "plt.title(\"Smoothed loss exponent (train)\")\n",
    "plt.tight_layout()\n",
    "plt.show()"
   ]
  },
  {
   "cell_type": "markdown",
   "id": "345b6ba6-136b-4711-83cf-9860b1102ebf",
   "metadata": {},
   "source": [
    "# Evaluation"
   ]
  },
  {
   "cell_type": "code",
   "execution_count": 30,
   "id": "66674813-5571-46b2-a1d3-8ad5b3b6e56a",
   "metadata": {},
   "outputs": [],
   "source": [
    "# Enabling evaluation mode\n",
    "for layer in model.layers:\n",
    "    layer.training = False"
   ]
  },
  {
   "cell_type": "code",
   "execution_count": 31,
   "id": "5724a05a-4d6f-4ce3-a1c8-a5c7aed4cdd4",
   "metadata": {},
   "outputs": [],
   "source": [
    "@torch.no_grad()\n",
    "def compute_loss(split):\n",
    "    \"\"\"Computes the loss for a data split.\"\"\"\n",
    "    # Saving the data splits\n",
    "    x, y = {\n",
    "      'train': (X_train, Y_train),\n",
    "      'valid': (X_dev, Y_dev),\n",
    "      'test': (X_test, Y_test),\n",
    "    }[split]\n",
    "    \n",
    "    # Forwarding the model and computing loss\n",
    "    logits = model(x)\n",
    "    loss = F.cross_entropy(logits, y)\n",
    "    \n",
    "    return loss.item()"
   ]
  },
  {
   "cell_type": "code",
   "execution_count": 32,
   "id": "0e9730ea-8382-42d5-8a35-6c02d3be6dd4",
   "metadata": {},
   "outputs": [
    {
     "name": "stdout",
     "output_type": "stream",
     "text": [
      "Training loss: 1.8312\n",
      "Validation loss: 1.9878\n"
     ]
    }
   ],
   "source": [
    "train_loss = compute_loss(split='train')\n",
    "valid_loss = compute_loss(split='valid')\n",
    "\n",
    "print(f\"Training loss: {train_loss:.4f}\")\n",
    "print(f\"Validation loss: {valid_loss:.4f}\")\n",
    "\n",
    "assert valid_loss < VALID_LOSS_BENCHMARK"
   ]
  },
  {
   "cell_type": "code",
   "execution_count": 33,
   "id": "d9bd0198-6a05-4459-bb12-926642342f75",
   "metadata": {},
   "outputs": [
    {
     "name": "stdout",
     "output_type": "stream",
     "text": [
      "Test loss: 1.9826\n"
     ]
    }
   ],
   "source": [
    "test_loss = compute_loss(split='test')\n",
    "print(f\"Test loss: {test_loss:.4f}\")"
   ]
  },
  {
   "cell_type": "markdown",
   "id": "e06a4619-1772-4b7b-bed6-1fda9648a06b",
   "metadata": {},
   "source": [
    "# Generating names"
   ]
  },
  {
   "cell_type": "code",
   "execution_count": 34,
   "id": "44a1dc6a-f417-406b-8b0e-a3c867eb7324",
   "metadata": {},
   "outputs": [
    {
     "name": "stdout",
     "output_type": "stream",
     "text": [
      "Oziel\n",
      "Romey\n",
      "Kay\n",
      "Tofire\n",
      "Kater\n",
      "Regan\n",
      "Kaleigh\n",
      "Shayme\n",
      "Castyn\n",
      "Sawey\n",
      "Elenia\n",
      "Jhanvy\n",
      "Adalena\n",
      "Oluwatou\n",
      "Aylia\n",
      "Londyn\n",
      "Kayse\n",
      "Jabiyana\n",
      "Callistani\n",
      "Uzan\n",
      "Taiman\n",
      "Sumeem\n",
      "Delaniya\n",
      "Hovasiah\n",
      "Kairaj\n",
      "Naya\n",
      "Tigmar\n",
      "Eliany\n",
      "Makha\n",
      "Jabrie\n",
      "Ryane\n",
      "Mylinna\n",
      "Azaen\n",
      "Kayslyn\n",
      "Jurst\n",
      "Carsol\n",
      "Sejin\n",
      "Kadie\n",
      "Hawil\n",
      "Bay\n",
      "Naylen\n",
      "Yashir\n",
      "Bihal\n",
      "Mitri\n",
      "Novi\n",
      "Willory\n",
      "Anser\n",
      "Aiyla\n",
      "Cresten\n",
      "Lyndane\n",
      "Jontay\n",
      "Dewrin\n",
      "Leyahi\n",
      "Kritana\n",
      "Aadha\n",
      "Lynn\n",
      "Locson\n",
      "Kaalai\n",
      "Dariel\n",
      "Lidaniya\n",
      "Afery\n",
      "Krish\n",
      "Livanna\n",
      "Razan\n",
      "Nakyn\n",
      "Julina\n",
      "Davyn\n",
      "Evers\n",
      "Lneere\n",
      "Karston\n",
      "Jadesin\n",
      "Brisoluce\n",
      "Chollinootdryc\n",
      "Livey\n",
      "Artave\n",
      "Jaquav\n",
      "Braelynn\n",
      "Elikahee\n",
      "Kieja\n",
      "Renas\n",
      "Kenvin\n",
      "Moaga\n",
      "Ea\n",
      "Jamila\n",
      "Kinsleighan\n",
      "Syinna\n",
      "Melino\n",
      "Naniha\n",
      "Audra\n",
      "Shamik\n",
      "Acevia\n",
      "Keanon\n",
      "Amerie\n",
      "Nicolayus\n",
      "Alayiah\n",
      "Zethila\n",
      "Reilynn\n",
      "Dssaleria\n",
      "Luseanna\n",
      "Lawsyn\n"
     ]
    }
   ],
   "source": [
    "for _ in range(100):\n",
    "    \n",
    "    # Preallocating memory\n",
    "    out = []\n",
    "    context = [0] * block_size\n",
    "    \n",
    "    # Sequentially creating a name\n",
    "    while True:\n",
    "        \n",
    "        # Forward pass\n",
    "        logits = model(torch.tensor([context]))\n",
    "        probs = F.softmax(logits, dim=1)\n",
    "        \n",
    "        # Getting a sample from the distribution\n",
    "        ix = torch.multinomial(probs, num_samples=1).item()\n",
    "        \n",
    "        # Shifting the context window\n",
    "        context = context[1:] + [ix]\n",
    "        out.append(ix)\n",
    "        # Stopping interating when encountering \".\"\n",
    "        if ix == 0:\n",
    "            break\n",
    "    \n",
    "    # Decoding and printing the generated word\n",
    "    print(''.join(id2char[i] for i in out)[:-1].capitalize())"
   ]
  }
 ],
 "metadata": {
  "kernelspec": {
   "display_name": "Python 3 (ipykernel)",
   "language": "python",
   "name": "python3"
  },
  "language_info": {
   "codemirror_mode": {
    "name": "ipython",
    "version": 3
   },
   "file_extension": ".py",
   "mimetype": "text/x-python",
   "name": "python",
   "nbconvert_exporter": "python",
   "pygments_lexer": "ipython3",
   "version": "3.9.18"
  }
 },
 "nbformat": 4,
 "nbformat_minor": 5
}
