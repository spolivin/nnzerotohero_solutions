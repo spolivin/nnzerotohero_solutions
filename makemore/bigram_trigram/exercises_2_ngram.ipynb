{
 "cells": [
  {
   "cell_type": "markdown",
   "id": "edd6002f",
   "metadata": {},
   "source": [
    "# Exercise 1"
   ]
  },
  {
   "cell_type": "markdown",
   "id": "447224f0",
   "metadata": {},
   "source": [
    "**Task:** *Train a trigram language model, i.e. take two characters as an input to predict the 3rd one. Feel free to use either counting or a neural net. Evaluate the loss; Did it improve over a bigram model?*"
   ]
  },
  {
   "cell_type": "code",
   "execution_count": 1,
   "id": "1c989fb1",
   "metadata": {},
   "outputs": [],
   "source": [
    "import random\n",
    "import warnings\n",
    "\n",
    "import matplotlib.pyplot as plt\n",
    "import numpy as np\n",
    "import pandas as pd\n",
    "import seaborn as sns\n",
    "import torch\n",
    "import torch.nn.functional as F\n",
    "from tqdm import notebook\n",
    "\n",
    "RANDOM_SEED = 42\n",
    "\n",
    "%matplotlib inline\n",
    "sns.set_theme()"
   ]
  },
  {
   "cell_type": "code",
   "execution_count": 2,
   "id": "70124a42",
   "metadata": {},
   "outputs": [
    {
     "data": {
      "text/plain": [
       "['emma',\n",
       " 'olivia',\n",
       " 'ava',\n",
       " 'isabella',\n",
       " 'sophia',\n",
       " 'charlotte',\n",
       " 'mia',\n",
       " 'amelia',\n",
       " 'harper',\n",
       " 'evelyn']"
      ]
     },
     "execution_count": 2,
     "metadata": {},
     "output_type": "execute_result"
    }
   ],
   "source": [
    "# Reading the text file with names into a variable\n",
    "words = open(\"../names.txt\", \"r\").read().splitlines()\n",
    "words[:10]"
   ]
  },
  {
   "cell_type": "code",
   "execution_count": 3,
   "id": "5baf10b7",
   "metadata": {},
   "outputs": [
    {
     "name": "stdout",
     "output_type": "stream",
     "text": [
      "Number of names: 32,033\n"
     ]
    }
   ],
   "source": [
    "print(f\"Number of names: {len(words):,}\")"
   ]
  },
  {
   "cell_type": "code",
   "execution_count": 4,
   "id": "bc45438a-e1d3-4a6f-bdbc-d3390c57e29a",
   "metadata": {},
   "outputs": [],
   "source": [
    "# Retrieving a set of unique letters\n",
    "chars = sorted(list(set(''.join(words))))\n",
    "\n",
    "# Creating a mapping from a letter to an id\n",
    "char2id = {s: i+1 for i, s in enumerate(chars)}\n",
    "# Adding the start_of_word/end_of_word token => \".\"\n",
    "char2id['.'] = 0\n",
    "\n",
    "# Creating a mapping from an id to letter\n",
    "id2char = {i: s for s, i in char2id.items()}"
   ]
  },
  {
   "cell_type": "code",
   "execution_count": 5,
   "id": "04c98018-faa4-416d-b483-6a797d6f7389",
   "metadata": {},
   "outputs": [
    {
     "data": {
      "text/plain": [
       "{'a': 1,\n",
       " 'b': 2,\n",
       " 'c': 3,\n",
       " 'd': 4,\n",
       " 'e': 5,\n",
       " 'f': 6,\n",
       " 'g': 7,\n",
       " 'h': 8,\n",
       " 'i': 9,\n",
       " 'j': 10,\n",
       " 'k': 11,\n",
       " 'l': 12,\n",
       " 'm': 13,\n",
       " 'n': 14,\n",
       " 'o': 15,\n",
       " 'p': 16,\n",
       " 'q': 17,\n",
       " 'r': 18,\n",
       " 's': 19,\n",
       " 't': 20,\n",
       " 'u': 21,\n",
       " 'v': 22,\n",
       " 'w': 23,\n",
       " 'x': 24,\n",
       " 'y': 25,\n",
       " 'z': 26,\n",
       " '.': 0}"
      ]
     },
     "execution_count": 5,
     "metadata": {},
     "output_type": "execute_result"
    }
   ],
   "source": [
    "char2id"
   ]
  },
  {
   "cell_type": "code",
   "execution_count": 6,
   "id": "965b0782-a5e6-4f13-b0c4-1bd93242016a",
   "metadata": {},
   "outputs": [
    {
     "data": {
      "text/plain": [
       "{1: 'a',\n",
       " 2: 'b',\n",
       " 3: 'c',\n",
       " 4: 'd',\n",
       " 5: 'e',\n",
       " 6: 'f',\n",
       " 7: 'g',\n",
       " 8: 'h',\n",
       " 9: 'i',\n",
       " 10: 'j',\n",
       " 11: 'k',\n",
       " 12: 'l',\n",
       " 13: 'm',\n",
       " 14: 'n',\n",
       " 15: 'o',\n",
       " 16: 'p',\n",
       " 17: 'q',\n",
       " 18: 'r',\n",
       " 19: 's',\n",
       " 20: 't',\n",
       " 21: 'u',\n",
       " 22: 'v',\n",
       " 23: 'w',\n",
       " 24: 'x',\n",
       " 25: 'y',\n",
       " 26: 'z',\n",
       " 0: '.'}"
      ]
     },
     "execution_count": 6,
     "metadata": {},
     "output_type": "execute_result"
    }
   ],
   "source": [
    "id2char"
   ]
  },
  {
   "cell_type": "markdown",
   "id": "f8722638-f519-4c3b-82e0-7c300fa6a785",
   "metadata": {},
   "source": [
    "## Bigram model"
   ]
  },
  {
   "cell_type": "markdown",
   "id": "4c0f50ed-ee3f-49d6-b2a5-5754d01d5cd2",
   "metadata": {},
   "source": [
    "Firstly, we will replicate the bigram model from the video. Let's create the dataset:"
   ]
  },
  {
   "cell_type": "code",
   "execution_count": 7,
   "id": "c8cb46dc-d069-4675-ba9f-315c180588fe",
   "metadata": {},
   "outputs": [],
   "source": [
    "X_bigram, Y_bigram = [], []\n",
    "\n",
    "for word in words:\n",
    "    # Adding special token for each word\n",
    "    chars = ['.'] + list(word) + ['.']\n",
    "    for char_1, char_2 in zip(chars, chars[1:]):\n",
    "        # Getting the indices of a letter\n",
    "        index_1 = char2id[char_1]\n",
    "        index_2 = char2id[char_2]\n",
    "        \n",
    "        # Adding letter indices to lists\n",
    "        X_bigram.append(index_1)\n",
    "        Y_bigram.append(index_2)\n",
    "\n",
    "# Casting as PyTorch tensors\n",
    "X_bigram = torch.tensor(X_bigram)\n",
    "Y_bigram = torch.tensor(Y_bigram)"
   ]
  },
  {
   "cell_type": "code",
   "execution_count": 8,
   "id": "3a72d448-a141-4ca0-aaab-04f34ba4d698",
   "metadata": {},
   "outputs": [
    {
     "name": "stdout",
     "output_type": "stream",
     "text": [
      "tensor([ 0,  5, 13,  ..., 25, 26, 24])\n",
      "tensor([ 5, 13, 13,  ..., 26, 24,  0])\n"
     ]
    }
   ],
   "source": [
    "print(X_bigram) \n",
    "print(Y_bigram)"
   ]
  },
  {
   "cell_type": "markdown",
   "id": "1cd6951f-efdd-44cb-a330-002b0d2d9690",
   "metadata": {},
   "source": [
    "It can be seen that we have managed to create a dataset where we predict the next letter given the previous one. \n",
    "\n",
    "Now, we will include all the code for training the bigram model inside the `BigramModel` class."
   ]
  },
  {
   "cell_type": "code",
   "execution_count": 9,
   "id": "4b7afaf3-5978-4cca-8d07-93d80b0d6550",
   "metadata": {},
   "outputs": [],
   "source": [
    "class BigramModel:\n",
    "    def __init__(\n",
    "        self, \n",
    "        num_features, \n",
    "        num_outputs, \n",
    "        num_epochs, \n",
    "        learning_rate,\n",
    "        logging=False,\n",
    "        regularize=False, \n",
    "        smooth_strength=None, \n",
    "        seed=2147483647,\n",
    "        enable_tqdm=True,\n",
    "        *args,\n",
    "        **kwargs,\n",
    "    ):\n",
    "        \"\"\"Initializes BigramModel instance.\"\"\"\n",
    "        # Creating class attributes\n",
    "        self.num_features = num_features\n",
    "        self.num_outputs = num_outputs\n",
    "        self.num_epochs = num_epochs\n",
    "        self.learning_rate = learning_rate\n",
    "        self.logging = logging\n",
    "        self.regularize = regularize\n",
    "        self.smooth_strength = smooth_strength\n",
    "        self.seed = seed\n",
    "        self.enable_tqdm = enable_tqdm\n",
    "        # Generating random weights based on a random seed\n",
    "        generator = torch.Generator().manual_seed(self.seed)\n",
    "        self.weights = torch.randn((self.num_features, self.num_outputs), generator=generator)\n",
    "        self.weights.requires_grad = True\n",
    "        \n",
    "    def __call__(self, x, y):\n",
    "        \"\"\"Makes a softmax forward pass and computes the NLL loss.\"\"\"\n",
    "        # One-hot encoding NN inputs\n",
    "        x_encoded = F.one_hot(x, num_classes=self.num_outputs).float()\n",
    "        # Computing predictions for log-counts\n",
    "        logits = x_encoded @ self.weights\n",
    "        # Retrieving counts\n",
    "        counts = logits.exp()\n",
    "        # Computing probabilities for the next character\n",
    "        probas = counts / counts.sum(1, keepdims=True)\n",
    "        \n",
    "        # Computing loss (w/wo regularization)\n",
    "        if self.regularize:\n",
    "            if self.smooth_strength is None:\n",
    "                raise ValueError(\"Regularization rate not specified\")\n",
    "            loss = -probas[torch.arange(x.shape[0]), y].log().mean() + self.smooth_strength * (self.weights**2).mean()\n",
    "        else:\n",
    "            if self.smooth_strength is not None:\n",
    "                warnings.warn(\"Specifying regularization rate has no effect\")\n",
    "            loss = -probas[torch.arange(x.shape[0]), y].log().mean()\n",
    "            \n",
    "        return loss\n",
    "    \n",
    "    def fit(self, x, y):\n",
    "        \"\"\"Fits the NN to data.\"\"\"\n",
    "        # Preallocating a dict for storing loss across epochs\n",
    "        loss_per_epoch = {}\n",
    "        # Utilizing a progress bar when training or not\n",
    "        epoch_counter = notebook.tqdm(range(self.num_epochs)) if self.enable_tqdm else range(self.num_epochs)\n",
    "        for k in epoch_counter:\n",
    "            # Making a forward pass and computing a loss\n",
    "            loss = self(x, y)\n",
    "            # Adding a loss computed to the history\n",
    "            loss_per_epoch[f\"epoch_{k+1}\"] = loss.item()\n",
    "            # Logging progress\n",
    "            if self.logging:\n",
    "                print(f\"Epoch {k + 1:03d}/{self.num_epochs:03d}: loss = {loss.item():.4f}\")\n",
    "            \n",
    "            # Setting gradients to zero\n",
    "            self.weights.grad = None\n",
    "            # Making a backward pass (initiating backpropagation)\n",
    "            loss.backward()\n",
    "            \n",
    "            # Updating weights (SGD)\n",
    "            self.weights.data -= self.learning_rate * self.weights.grad\n",
    "        \n",
    "        # Creating an attribute for training history after training\n",
    "        self.history = loss_per_epoch\n",
    "    \n",
    "    def generate_sample(self, num_examples, id2char):\n",
    "        \"\"\"Generates a sample with names from the NN.\"\"\"\n",
    "        generator = torch.Generator().manual_seed(self.seed)\n",
    "        # Preallocating a list for storing generated names\n",
    "        generated_names = []\n",
    "        for i in range(num_examples):\n",
    "            # Preallocating a list for storing letters\n",
    "            out = []\n",
    "            # Starting names generation with \".\"\n",
    "            ix = 0\n",
    "            while True:\n",
    "                # Computing probabilities for the next character\n",
    "                x_encoded = F.one_hot(torch.tensor([ix]), num_classes=self.num_outputs).float()\n",
    "                logits = x_encoded @ self.weights\n",
    "                counts = logits.exp()\n",
    "                probas = counts / counts.sum(1, keepdims=True)\n",
    "                # Retrieving a letter index from the probability distribution\n",
    "                ix = torch.multinomial(\n",
    "                    probas, num_samples=1, replacement=True, generator=generator\n",
    "                ).item()\n",
    "                # Adding the letter to a list\n",
    "                out.append(id2char[ix])\n",
    "                # Iterating until \".\" is encountered\n",
    "                if ix == 0:\n",
    "                    break\n",
    "            \n",
    "            # Joining letters together to compose a word and add to other examples\n",
    "            generated_names.append(''.join(out)[:-1])\n",
    "        \n",
    "        return generated_names"
   ]
  },
  {
   "cell_type": "markdown",
   "id": "30a139f7-993b-4dc2-a5db-bf0c4a3163ec",
   "metadata": {},
   "source": [
    "We can now use this class to train the model on the data. We have 27 possible one-letter symbols so the number of input and output features will be the same - 27. Model will be trained for 100 epochs with a learning rate of 50 (in order to faster reach local extrema). Additionally, we will apply regularization with a smoothing strength of 0.01."
   ]
  },
  {
   "cell_type": "code",
   "execution_count": 10,
   "id": "0982a75e-5d4d-48bb-8d0c-e133ead4e3f8",
   "metadata": {},
   "outputs": [
    {
     "data": {
      "application/vnd.jupyter.widget-view+json": {
       "model_id": "89e3ca7359814202bfc12db867628b8d",
       "version_major": 2,
       "version_minor": 0
      },
      "text/plain": [
       "  0%|          | 0/100 [00:00<?, ?it/s]"
      ]
     },
     "metadata": {},
     "output_type": "display_data"
    }
   ],
   "source": [
    "# Instantiating a bigram model\n",
    "bigram_model = BigramModel(\n",
    "    num_features=27, \n",
    "    num_outputs=27,\n",
    "    num_epochs=100, \n",
    "    learning_rate=50, \n",
    "    logging=False, \n",
    "    regularize=True, \n",
    "    smooth_strength=0.01,\n",
    ")\n",
    "\n",
    "# Launching training process\n",
    "bigram_model.fit(X_bigram, Y_bigram)"
   ]
  },
  {
   "cell_type": "markdown",
   "id": "329ed100-3bc2-49f0-b0c4-3840135f4016",
   "metadata": {},
   "source": [
    "Now the information about the training history is stored in `history` attribute. Let's try to generate some new examples based on the new weights:"
   ]
  },
  {
   "cell_type": "code",
   "execution_count": 11,
   "id": "b75878ad-3f67-4039-b67f-8e50f8915d66",
   "metadata": {},
   "outputs": [
    {
     "data": {
      "text/plain": [
       "['mor',\n",
       " 'axx',\n",
       " 'minaymoryles',\n",
       " 'kondmaisah',\n",
       " 'anchthizarie',\n",
       " 'odaren',\n",
       " 'iaddash',\n",
       " 'h',\n",
       " 'jionatien',\n",
       " 'egwver']"
      ]
     },
     "execution_count": 11,
     "metadata": {},
     "output_type": "execute_result"
    }
   ],
   "source": [
    "# Generating 10 new examples\n",
    "bigram_model.generate_sample(num_examples=10, id2char=id2char)"
   ]
  },
  {
   "cell_type": "markdown",
   "id": "92526cd3-eb2d-4167-9833-e33cf2cfe66f",
   "metadata": {},
   "source": [
    "It is seen that the names do not really make much sense but nevertheless some of them remind of some words."
   ]
  },
  {
   "cell_type": "markdown",
   "id": "ec75867c-232d-41e1-be09-f95f23c9cd11",
   "metadata": {},
   "source": [
    "## Trigram model"
   ]
  },
  {
   "cell_type": "markdown",
   "id": "c7bdead4-775a-47fa-a481-36daa21dac8d",
   "metadata": {},
   "source": [
    "Now we can get to the actual exercise and build the trigram model. Firstly, we need to create a dataset where we will take two characters as input to use this information to predict the third one."
   ]
  },
  {
   "cell_type": "code",
   "execution_count": 12,
   "id": "7d046fb7-eec7-465c-ad1a-0040dc3c21b9",
   "metadata": {},
   "outputs": [],
   "source": [
    "X_trigram, Y_trigram = [], []\n",
    "for word in words:\n",
    "    # Adding special token for each word\n",
    "    chars = ['.'] + list(word) + ['.']\n",
    "    for char_1, char_2, char_3 in zip(chars, chars[1:], chars[2:]):\n",
    "        # Getting the indices of a letter\n",
    "        index_1 = char2id[char_1]\n",
    "        index_2 = char2id[char_2]\n",
    "        index_3 = char2id[char_3]\n",
    "        \n",
    "        # Adding letter indices to lists\n",
    "        X_trigram.append([index_1, index_2])\n",
    "        Y_trigram.append(index_3)\n",
    "\n",
    "# Casting as PyTorch tensors\n",
    "X_trigram = torch.tensor(X_trigram)\n",
    "Y_trigram = torch.tensor(Y_trigram)"
   ]
  },
  {
   "cell_type": "code",
   "execution_count": 13,
   "id": "fef7ead4-9cd0-4bbd-ad8b-0af0ac13dc19",
   "metadata": {},
   "outputs": [
    {
     "name": "stdout",
     "output_type": "stream",
     "text": [
      "tensor([[ 0,  5],\n",
      "        [ 5, 13],\n",
      "        [13, 13],\n",
      "        ...,\n",
      "        [26, 25],\n",
      "        [25, 26],\n",
      "        [26, 24]])\n",
      "tensor([13, 13,  1,  ..., 26, 24,  0])\n"
     ]
    }
   ],
   "source": [
    "print(X_trigram) \n",
    "print(Y_trigram)"
   ]
  },
  {
   "cell_type": "markdown",
   "id": "daf38981-79a1-4672-91dd-6b5ca3a26d20",
   "metadata": {},
   "source": [
    "It is seen that for the first training example we take letters with ids $0$ and $5$ and use them to extract information about the next character with id $13$. \n",
    "\n",
    "The next step is to build the model. There are some differences in the way we will create the trigram model so in this case we will subclass `BigramModel` and reimplement some methods that will override the methods of the inherited class."
   ]
  },
  {
   "cell_type": "code",
   "execution_count": 14,
   "id": "a5c4e8a4-cd2b-49bd-a11f-ae46e22f110f",
   "metadata": {},
   "outputs": [],
   "source": [
    "class TrigramModel(BigramModel):\n",
    "    def __init__(self, *args, **kwargs):\n",
    "        \"\"\"Inherits initialization schema from BigramModel class.\"\"\"\n",
    "        super().__init__(*args, **kwargs)\n",
    "    \n",
    "    def __call__(self, x, y):\n",
    "        \"\"\"Makes a softmax forward pass and computes the NLL loss.\"\"\"\n",
    "        x_encoded = F.one_hot(x, num_classes=self.num_outputs).float().view(-1, self.num_features)\n",
    "        logits = x_encoded @ self.weights # predict log-counts\n",
    "        counts = logits.exp() # counts, equivalent to N\n",
    "        probas = counts / counts.sum(1, keepdims=True) # probabilities for next character\n",
    "        \n",
    "        if self.regularize:\n",
    "            if self.smooth_strength is None:\n",
    "                raise ValueError(\"Regularization rate not specified\")\n",
    "            loss = -probas[torch.arange(x.shape[0]), y].log().mean() + self.smooth_strength * (self.weights**2).mean()\n",
    "        else:\n",
    "            if self.smooth_strength is not None:\n",
    "                warnings.warn(\"Specifying regularization rate has no effect.\")\n",
    "            loss = -probas[torch.arange(x.shape[0]), y].log().mean()\n",
    "            \n",
    "        return loss\n",
    "    \n",
    "    def generate_sample(self, num_examples, id2char):\n",
    "        \"\"\"Generates a sample with names from the NN.\"\"\"\n",
    "        generator = torch.Generator().manual_seed(self.seed)\n",
    "        generated_names = []\n",
    "        for i in range(num_examples):\n",
    "            out = []\n",
    "            # Initializing the starting sequence\n",
    "            context = [0, 0] \n",
    "            while True:\n",
    "                x_encoded = F.one_hot(torch.tensor([context]), num_classes=self.num_outputs).float().view(1, -1)\n",
    "                logits = x_encoded @ self.weights\n",
    "                counts = logits.exp()\n",
    "                probas = counts / counts.sum(1, keepdims=True)\n",
    "                \n",
    "                ix = torch.multinomial(\n",
    "                    probas, num_samples=1, replacement=True, generator=generator\n",
    "                ).item()\n",
    "                # Adding the predicted character and shifting\n",
    "                context = context[1:] + [ix]\n",
    "                out.append(id2char[ix])\n",
    "                if ix == 0:\n",
    "                    break\n",
    "                    \n",
    "            generated_names.append(''.join(out)[:-1])\n",
    "        \n",
    "        return generated_names"
   ]
  },
  {
   "cell_type": "markdown",
   "id": "b3a81eea-2fc8-4d18-90e8-09ca03579b24",
   "metadata": {},
   "source": [
    "Now we can create the object of the class defined above. One of the differences with the bigram model is that in this case we will specify `num_features=54`, since now we have to use two characters as input so upon one-hot encoding additional dimension for 27 characters will pop up."
   ]
  },
  {
   "cell_type": "code",
   "execution_count": 15,
   "id": "98584fc4-d6b9-4c1f-b34b-ca36852b2f96",
   "metadata": {},
   "outputs": [
    {
     "data": {
      "application/vnd.jupyter.widget-view+json": {
       "model_id": "714960a65fae4a11964527113a9f47cc",
       "version_major": 2,
       "version_minor": 0
      },
      "text/plain": [
       "  0%|          | 0/100 [00:00<?, ?it/s]"
      ]
     },
     "metadata": {},
     "output_type": "display_data"
    }
   ],
   "source": [
    "# Instantiating a trigram model\n",
    "trigram_model = TrigramModel(\n",
    "    num_features=54, \n",
    "    num_outputs=27,\n",
    "    num_epochs=100, \n",
    "    learning_rate=50, \n",
    "    logging=False, \n",
    "    regularize=True, \n",
    "    smooth_strength=0.01,\n",
    ")\n",
    "\n",
    "# Launching training process\n",
    "trigram_model.fit(X_trigram, Y_trigram)"
   ]
  },
  {
   "cell_type": "code",
   "execution_count": 16,
   "id": "f82ea94a-5079-492e-b309-194f42298bc4",
   "metadata": {},
   "outputs": [
    {
     "data": {
      "text/plain": [
       "['nor',\n",
       " 'ays',\n",
       " 'nileyloryear',\n",
       " 'erellais',\n",
       " 'ah',\n",
       " 'neithizarie',\n",
       " 'ok',\n",
       " 'ondalaek',\n",
       " 're',\n",
       " 'ailindeshan']"
      ]
     },
     "execution_count": 16,
     "metadata": {},
     "output_type": "execute_result"
    }
   ],
   "source": [
    "trigram_model.generate_sample(num_examples=10, id2char=id2char)"
   ]
  },
  {
   "cell_type": "markdown",
   "id": "b35c36df-6aab-4718-908e-ac96332d253e",
   "metadata": {},
   "source": [
    "When using the trigram model, it is seen that the names become more and more similar to some names."
   ]
  },
  {
   "cell_type": "markdown",
   "id": "2b47d663-454d-4e5e-ba0b-f7c5787e7582",
   "metadata": {},
   "source": [
    "## Comparison"
   ]
  },
  {
   "cell_type": "markdown",
   "id": "69c63daf-c5a3-48c7-a399-4990c22b5b71",
   "metadata": {},
   "source": [
    "Now we can compare the performance of the two model by using data about loss history we included in `history` attribute."
   ]
  },
  {
   "cell_type": "code",
   "execution_count": 17,
   "id": "ffcc2ad4-cacc-4cd3-8d9d-0f54aac26b85",
   "metadata": {},
   "outputs": [
    {
     "data": {
      "image/png": "[encoded data removed]",
      "text/plain": [
       "<Figure size 640x480 with 1 Axes>"
      ]
     },
     "metadata": {},
     "output_type": "display_data"
    }
   ],
   "source": [
    "# Losses obtained during training bigram/trigram models\n",
    "loss_histories = {\n",
    "    \"Bigram\": bigram_model.history.values(),\n",
    "    \"Trigram\": trigram_model.history.values(),\n",
    "}\n",
    "\n",
    "# Joining results in a DataFrame\n",
    "comparison_df = pd.DataFrame(loss_histories)\n",
    "\n",
    "# Plotting the comparison\n",
    "comparison_df.plot()\n",
    "plt.xlabel(\"Epoch\")\n",
    "plt.ylabel(\"NLL Loss\")\n",
    "plt.title(\"NLL loss comparison\", fontsize=16)\n",
    "plt.tight_layout()\n",
    "plt.show()"
   ]
  },
  {
   "cell_type": "markdown",
   "id": "2c786561-774f-4853-8906-ab83143a1d9e",
   "metadata": {},
   "source": [
    "It can be seen that trigram seems to be performing better than bigram model which has also been seen by a better quality of names generated."
   ]
  },
  {
   "cell_type": "markdown",
   "id": "d48ec711",
   "metadata": {},
   "source": [
    "# Exercise 2"
   ]
  },
  {
   "cell_type": "markdown",
   "id": "f0cccdd0",
   "metadata": {},
   "source": [
    "**Task:** *Split up the dataset randomly into 80% train set, 10% dev set, 10% test set. Train the bigram and trigram models only on the training set. Evaluate them on dev and test splits. What can you see?*"
   ]
  },
  {
   "cell_type": "markdown",
   "id": "8c74e2b8-a038-4754-9af5-a38586a53f71",
   "metadata": {},
   "source": [
    "Firstly, let's select which names will be included in each set. We will reshuffle all names in the list and define the cutoffs which would govern which names will fall under training, dev and test sets."
   ]
  },
  {
   "cell_type": "code",
   "execution_count": 18,
   "id": "ac1474a8-511d-4cf4-b31e-28466c4856b1",
   "metadata": {},
   "outputs": [
    {
     "data": {
      "text/plain": [
       "32033"
      ]
     },
     "execution_count": 18,
     "metadata": {},
     "output_type": "execute_result"
    }
   ],
   "source": [
    "len(words)"
   ]
  },
  {
   "cell_type": "code",
   "execution_count": 19,
   "id": "d241ad20-e026-4651-866e-b10603ed0e9b",
   "metadata": {},
   "outputs": [
    {
     "name": "stdout",
     "output_type": "stream",
     "text": [
      "Training set: 0-25,625\n",
      "Development set: 25,626-28,828\n",
      "Testing set: 28,829-32,032\n"
     ]
    }
   ],
   "source": [
    "# Setting the random seed and reshuffling names\n",
    "random.seed(RANDOM_SEED)\n",
    "random.shuffle(words)\n",
    "\n",
    "# Determining cutoff points for 10% dev and 10% test\n",
    "cutoff_train = int(0.8*len(words))\n",
    "cutoff_dev = int(0.9*len(words))\n",
    "\n",
    "print(f\"Training set: {0}-{cutoff_train-1:,}\")\n",
    "print(f\"Development set: {cutoff_train:,}-{cutoff_dev-1:,}\")\n",
    "print(f\"Testing set: {cutoff_dev:,}-{len(words)-1:,}\")"
   ]
  },
  {
   "cell_type": "code",
   "execution_count": 20,
   "id": "9e6348b8-5e79-4dcb-a6c9-8aa8140b1a5e",
   "metadata": {},
   "outputs": [
    {
     "name": "stdout",
     "output_type": "stream",
     "text": [
      "Training set examples: 25,626 (80%)\n",
      "Development set examples: 3,203 (10%)\n",
      "Testing set examples: 3,204 (10%)\n"
     ]
    }
   ],
   "source": [
    "# Allocating shuffled words into three sets\n",
    "words_train = words[:cutoff_train]\n",
    "words_dev = words[cutoff_train:cutoff_dev]\n",
    "words_test = words[cutoff_dev:]\n",
    "\n",
    "print(f\"Training set examples: {len(words_train):,} ({len(words_train)/len(words):.0%})\")\n",
    "print(f\"Development set examples: {len(words_dev):,} ({len(words_dev)/len(words):.0%})\")\n",
    "print(f\"Testing set examples: {len(words_test):,} ({len(words_test)/len(words):.0%})\")"
   ]
  },
  {
   "cell_type": "markdown",
   "id": "76d3e905-98d2-4512-be22-9722c24a6952",
   "metadata": {},
   "source": [
    "Next, we will implement `build_dataset` function written below which will create the datasets themselves. It takes our list of names (already split into three parts) and the block size which refers to how many characters we want to use to predict the next one."
   ]
  },
  {
   "cell_type": "code",
   "execution_count": 21,
   "id": "08074aea-2a24-46dc-bbde-c67b03a3433a",
   "metadata": {},
   "outputs": [],
   "source": [
    "def build_dataset(words, block_size):\n",
    "    \"\"\"Creates a dataset for n-gram model.\"\"\"\n",
    "    # Preallocating lists for dataset\n",
    "    X, Y = [], []\n",
    "    for word in words:\n",
    "        # Creating a starting examples depending on block size\n",
    "        context = [0] * block_size\n",
    "        # Iterating through entire word with end of word token\n",
    "        for char in word + '.':\n",
    "            index = char2id[char]\n",
    "            X.append(context)\n",
    "            Y.append(index)\n",
    "            # Adding the character index and shifting\n",
    "            context = context[1:] + [index]\n",
    "    \n",
    "    # Casting as PyTorch tensors\n",
    "    X = torch.tensor(X)\n",
    "    Y = torch.tensor(Y)\n",
    "    \n",
    "    # Reshaping if using bigram model\n",
    "    if block_size == 1:\n",
    "        X = X.view(-1)\n",
    "    \n",
    "    return X, Y"
   ]
  },
  {
   "cell_type": "markdown",
   "id": "e51ff5db-3a60-4d91-9f02-76670f93edb7",
   "metadata": {},
   "source": [
    "## Bigram model"
   ]
  },
  {
   "cell_type": "code",
   "execution_count": 22,
   "id": "f6900932-71b1-44b5-8d1b-16e02b2f6da2",
   "metadata": {},
   "outputs": [],
   "source": [
    "# Building the datasets for three sets (Bigram model)\n",
    "X_train_bigram, Y_train_bigram = build_dataset(words=words_train, block_size=1)\n",
    "X_dev_bigram, Y_dev_bigram = build_dataset(words=words_dev, block_size=1)\n",
    "X_test_bigram, Y_test_bigram = build_dataset(words=words_test, block_size=1)"
   ]
  },
  {
   "cell_type": "code",
   "execution_count": 23,
   "id": "6d60f786",
   "metadata": {},
   "outputs": [
    {
     "data": {
      "application/vnd.jupyter.widget-view+json": {
       "model_id": "011fb9ac92f54af5959720875531984e",
       "version_major": 2,
       "version_minor": 0
      },
      "text/plain": [
       "  0%|          | 0/100 [00:00<?, ?it/s]"
      ]
     },
     "metadata": {},
     "output_type": "display_data"
    }
   ],
   "source": [
    "bigram_model = BigramModel(\n",
    "    num_features=27, \n",
    "    num_outputs=27,\n",
    "    num_epochs=100, \n",
    "    learning_rate=50, \n",
    "    logging=False, \n",
    "    regularize=True, \n",
    "    smooth_strength=0.01,\n",
    ")\n",
    "\n",
    "bigram_model.fit(X_train_bigram, Y_train_bigram)"
   ]
  },
  {
   "cell_type": "markdown",
   "id": "3ba4412a-405e-473b-9ddb-75558405b197",
   "metadata": {},
   "source": [
    "We have successfully train the bigram model only on the training set. We can now call the object of the class as a function in order to compute losses for each set."
   ]
  },
  {
   "cell_type": "code",
   "execution_count": 24,
   "id": "f32c51fd-c11b-42ee-a4e9-f93ab6739619",
   "metadata": {},
   "outputs": [
    {
     "name": "stdout",
     "output_type": "stream",
     "text": [
      "Train loss: 2.4899\n",
      "Dev loss: 2.4880\n",
      "Test loss: 2.4943\n"
     ]
    }
   ],
   "source": [
    "# Computing losses for the three sets\n",
    "bigram_train_loss = bigram_model(X_train_bigram, Y_train_bigram).item()\n",
    "bigram_dev_loss = bigram_model(X_dev_bigram, Y_dev_bigram).item()\n",
    "bigram_test_loss = bigram_model(X_test_bigram, Y_test_bigram).item()\n",
    "\n",
    "print(f\"Train loss: {bigram_train_loss:.4f}\")\n",
    "print(f\"Dev loss: {bigram_dev_loss:.4f}\")\n",
    "print(f\"Test loss: {bigram_test_loss:.4f}\")"
   ]
  },
  {
   "cell_type": "markdown",
   "id": "1536d245-99d4-40ea-a1c7-f242ea01dc82",
   "metadata": {},
   "source": [
    "## Trigram model"
   ]
  },
  {
   "cell_type": "code",
   "execution_count": 25,
   "id": "25988c4b-d95e-4dd3-ad26-87c1ceef3500",
   "metadata": {},
   "outputs": [],
   "source": [
    "X_train_trigram, Y_train_trigram = build_dataset(words=words_train, block_size=2)\n",
    "X_dev_trigram, Y_dev_trigram = build_dataset(words=words_dev, block_size=2)\n",
    "X_test_trigram, Y_test_trigram = build_dataset(words=words_test, block_size=2)"
   ]
  },
  {
   "cell_type": "code",
   "execution_count": 26,
   "id": "ef108465-93a4-4bc2-b9b1-51a4a468d353",
   "metadata": {},
   "outputs": [
    {
     "data": {
      "application/vnd.jupyter.widget-view+json": {
       "model_id": "8a9a527516da4e45b24da131753bd9ea",
       "version_major": 2,
       "version_minor": 0
      },
      "text/plain": [
       "  0%|          | 0/100 [00:00<?, ?it/s]"
      ]
     },
     "metadata": {},
     "output_type": "display_data"
    }
   ],
   "source": [
    "# Instantiating a trigram model\n",
    "trigram_model = TrigramModel(\n",
    "    num_features=54, \n",
    "    num_outputs=27,\n",
    "    num_epochs=100, \n",
    "    learning_rate=50, \n",
    "    logging=False, \n",
    "    regularize=True, \n",
    "    smooth_strength=0.01,\n",
    ")\n",
    "\n",
    "# Launching training process\n",
    "trigram_model.fit(X_train_trigram, Y_train_trigram)"
   ]
  },
  {
   "cell_type": "code",
   "execution_count": 27,
   "id": "9e174951-4625-4c4d-a5b8-f2efe9c3ccff",
   "metadata": {},
   "outputs": [
    {
     "name": "stdout",
     "output_type": "stream",
     "text": [
      "Train loss: 2.3942\n",
      "Dev loss: 2.3929\n",
      "Test loss: 2.3974\n"
     ]
    }
   ],
   "source": [
    "trigram_train_loss = trigram_model(X_train_trigram, Y_train_trigram).item()\n",
    "trigram_dev_loss = trigram_model(X_dev_trigram, Y_dev_trigram).item()\n",
    "trigram_test_loss = trigram_model(X_test_trigram, Y_test_trigram).item()\n",
    "\n",
    "print(f\"Train loss: {trigram_train_loss:.4f}\")\n",
    "print(f\"Dev loss: {trigram_dev_loss:.4f}\")\n",
    "print(f\"Test loss: {trigram_test_loss:.4f}\")"
   ]
  },
  {
   "cell_type": "markdown",
   "id": "17339433-5c9c-4eca-9f16-4a7b19c54683",
   "metadata": {},
   "source": [
    "## Comparison"
   ]
  },
  {
   "cell_type": "code",
   "execution_count": 28,
   "id": "510c90c3-f4c4-4328-962f-0e97436acaf5",
   "metadata": {},
   "outputs": [
    {
     "data": {
      "text/html": [
       "<div>\n",
       "<style scoped>\n",
       "    .dataframe tbody tr th:only-of-type {\n",
       "        vertical-align: middle;\n",
       "    }\n",
       "\n",
       "    .dataframe tbody tr th {\n",
       "        vertical-align: top;\n",
       "    }\n",
       "\n",
       "    .dataframe thead th {\n",
       "        text-align: right;\n",
       "    }\n",
       "</style>\n",
       "<table border=\"1\" class=\"dataframe\">\n",
       "  <thead>\n",
       "    <tr style=\"text-align: right;\">\n",
       "      <th></th>\n",
       "      <th>bigram_loss</th>\n",
       "      <th>trigram_loss</th>\n",
       "    </tr>\n",
       "  </thead>\n",
       "  <tbody>\n",
       "    <tr>\n",
       "      <th>train</th>\n",
       "      <td>2.4899</td>\n",
       "      <td>2.3942</td>\n",
       "    </tr>\n",
       "    <tr>\n",
       "      <th>dev</th>\n",
       "      <td>2.4880</td>\n",
       "      <td>2.3929</td>\n",
       "    </tr>\n",
       "    <tr>\n",
       "      <th>test</th>\n",
       "      <td>2.4943</td>\n",
       "      <td>2.3974</td>\n",
       "    </tr>\n",
       "  </tbody>\n",
       "</table>\n",
       "</div>"
      ],
      "text/plain": [
       "       bigram_loss  trigram_loss\n",
       "train       2.4899        2.3942\n",
       "dev         2.4880        2.3929\n",
       "test        2.4943        2.3974"
      ]
     },
     "execution_count": 28,
     "metadata": {},
     "output_type": "execute_result"
    }
   ],
   "source": [
    "# Combining training, dev and test losses for each model\n",
    "losses = {\n",
    "    \"bigram_loss\": [bigram_train_loss, bigram_dev_loss, bigram_test_loss],\n",
    "    \"trigram_loss\": [trigram_train_loss, trigram_dev_loss, trigram_test_loss]\n",
    "}\n",
    "\n",
    "index = [\"train\", \"dev\", \"test\"]\n",
    "loss_set_df = pd.DataFrame(losses, index=index).round(4)\n",
    "loss_set_df"
   ]
  },
  {
   "cell_type": "code",
   "execution_count": 29,
   "id": "329202ad-5c0c-4ac5-b1c0-f233342121ac",
   "metadata": {},
   "outputs": [
    {
     "data": {
      "image/png": "[encoded data removed]",
      "text/plain": [
       "<Figure size 640x480 with 1 Axes>"
      ]
     },
     "metadata": {},
     "output_type": "display_data"
    }
   ],
   "source": [
    "# Losses obtained during training bigram/trigram models\n",
    "loss_histories = {\n",
    "    \"Bigram\": bigram_model.history.values(),\n",
    "    \"Trigram\": trigram_model.history.values(),\n",
    "}\n",
    "\n",
    "# Joining results in a DataFrame\n",
    "comparison_df = pd.DataFrame(loss_histories)\n",
    "\n",
    "# Plotting the comparison\n",
    "comparison_df.plot()\n",
    "plt.xlabel(\"Epoch\")\n",
    "plt.ylabel(\"NLL Loss\")\n",
    "plt.title(\"NLL loss comparison (training set)\", fontsize=16)\n",
    "plt.tight_layout()\n",
    "plt.show()"
   ]
  },
  {
   "cell_type": "markdown",
   "id": "b49f9c36-de4f-4ee5-b1ba-73872ca930f3",
   "metadata": {},
   "source": [
    "It is seen from the comparison plot that training the model only on the training set creates some bumps during the whole training process.\n",
    "\n",
    "Let's see if the quality of names generation changed somehow."
   ]
  },
  {
   "cell_type": "code",
   "execution_count": 30,
   "id": "23ab173d-4e5b-4368-9961-4149b637ab63",
   "metadata": {},
   "outputs": [
    {
     "data": {
      "text/plain": [
       "['mor',\n",
       " 'axx',\n",
       " 'minaymorykas',\n",
       " 'kondn',\n",
       " 'isah',\n",
       " 'anchthizarie',\n",
       " 'odaren',\n",
       " 'iaddash',\n",
       " 'h',\n",
       " 'jionatien']"
      ]
     },
     "execution_count": 30,
     "metadata": {},
     "output_type": "execute_result"
    }
   ],
   "source": [
    "bigram_model.generate_sample(num_examples=10, id2char=id2char)"
   ]
  },
  {
   "cell_type": "code",
   "execution_count": 31,
   "id": "c6a86ea4-dd4c-4062-9579-625ca22798fb",
   "metadata": {},
   "outputs": [
    {
     "data": {
      "text/plain": [
       "['mir',\n",
       " 'ays',\n",
       " 'len',\n",
       " 'watsyebraisemiabrada',\n",
       " 'manthizarie',\n",
       " 'na',\n",
       " 'nah',\n",
       " 'gach',\n",
       " 'sabgellinasideia',\n",
       " 'ynar']"
      ]
     },
     "execution_count": 31,
     "metadata": {},
     "output_type": "execute_result"
    }
   ],
   "source": [
    "trigram_model.generate_sample(num_examples=10, id2char=id2char)"
   ]
  },
  {
   "cell_type": "markdown",
   "id": "abefda02-0c6a-4770-bd6b-a098281cc5a2",
   "metadata": {},
   "source": [
    "# Exercise 3"
   ]
  },
  {
   "cell_type": "markdown",
   "id": "66e85993-dd2e-41f6-a396-ef3e4e419eeb",
   "metadata": {},
   "source": [
    "**Task:** *Use the dev set to tune the strength of smoothing (or regularization) for the trigram model - i.e. try many possibilities and see which one works best based on the dev set loss. What patterns can you see in the train and dev set loss as you tune this strength? Take the best setting of the smoothing and evaluate on the test set once and at the end. How good of a loss do you achieve?*"
   ]
  },
  {
   "cell_type": "code",
   "execution_count": 32,
   "id": "330ac1c5-dc35-49f8-a969-9a48195157f4",
   "metadata": {},
   "outputs": [
    {
     "data": {
      "text/plain": [
       "array([0.  , 0.01, 0.02, 0.03, 0.04, 0.05, 0.06, 0.07, 0.08, 0.09, 0.1 ])"
      ]
     },
     "execution_count": 32,
     "metadata": {},
     "output_type": "execute_result"
    }
   ],
   "source": [
    "# Defining the smoothing rates to be checked\n",
    "strengths = np.arange(0.00, 0.11, 0.01)\n",
    "strengths"
   ]
  },
  {
   "cell_type": "code",
   "execution_count": 33,
   "id": "5cb3c6e0-89da-43af-b25d-d72d4b65272d",
   "metadata": {},
   "outputs": [
    {
     "name": "stdout",
     "output_type": "stream",
     "text": [
      "strength = 0.00: train_loss = 2.3857, dev_loss = 2.3844\n",
      "strength = 0.01: train_loss = 2.3942, dev_loss = 2.3929\n",
      "strength = 0.02: train_loss = 2.4019, dev_loss = 2.4005\n",
      "strength = 0.03: train_loss = 2.4088, dev_loss = 2.4074\n",
      "strength = 0.04: train_loss = 2.4152, dev_loss = 2.4138\n",
      "strength = 0.05: train_loss = 2.4210, dev_loss = 2.4196\n",
      "strength = 0.06: train_loss = 2.4264, dev_loss = 2.4250\n",
      "strength = 0.07: train_loss = 2.4315, dev_loss = 2.4301\n",
      "strength = 0.08: train_loss = 2.4363, dev_loss = 2.4348\n",
      "strength = 0.09: train_loss = 2.4409, dev_loss = 2.4394\n",
      "strength = 0.10: train_loss = 2.4452, dev_loss = 2.4437\n",
      "\n",
      "Best dev loss: 2.3844\n",
      "Best strength: 0.00\n",
      "\n",
      "Test set loss: 2.3889\n"
     ]
    }
   ],
   "source": [
    "# Preallocating a variable for best loss selection\n",
    "best_dev_loss = np.Inf\n",
    "# Preallocating a variable for storing best regularization rate\n",
    "best_strength = 0\n",
    "# Preallocating a variable for storing the best model\n",
    "best_model = None\n",
    "\n",
    "# Launching tuning procedure\n",
    "for strength in strengths:\n",
    "    # Instantiating a model\n",
    "    model = TrigramModel(\n",
    "        num_features=54, \n",
    "        num_outputs=27,\n",
    "        num_epochs=100,\n",
    "        learning_rate=50, \n",
    "        regularize=True, \n",
    "        smooth_strength=strength,\n",
    "        enable_tqdm=False,\n",
    "    )\n",
    "    \n",
    "    # Training\n",
    "    model.fit(X_train_trigram, Y_train_trigram)\n",
    "    \n",
    "    # Computing train/dev loss\n",
    "    train_loss = model(X_train_trigram, Y_train_trigram).item()\n",
    "    dev_loss = model(X_dev_trigram, Y_dev_trigram).item()\n",
    "    \n",
    "    # Making a decision about the best smoothing strength\n",
    "    if dev_loss < best_dev_loss:\n",
    "        best_dev_loss = dev_loss\n",
    "        best_strength = strength\n",
    "        best_model = model\n",
    "    \n",
    "    # Logging the results\n",
    "    print(f\"strength = {strength:.2f}: train_loss = {train_loss:.4f}, dev_loss = {dev_loss:.4f}\")\n",
    "    \n",
    "print(f\"\\nBest dev loss: {best_dev_loss:.4f}\")\n",
    "print(f\"Best strength: {best_strength:.2f}\")\n",
    "\n",
    "test_loss = best_model(X_test_trigram, Y_test_trigram).item()\n",
    "print(f\"\\nTest set loss: {test_loss:.4f}\")"
   ]
  },
  {
   "cell_type": "code",
   "execution_count": 34,
   "id": "f3570575-5fb3-4cd9-974e-e9c817a03fd4",
   "metadata": {},
   "outputs": [
    {
     "data": {
      "text/html": [
       "<div>\n",
       "<style scoped>\n",
       "    .dataframe tbody tr th:only-of-type {\n",
       "        vertical-align: middle;\n",
       "    }\n",
       "\n",
       "    .dataframe tbody tr th {\n",
       "        vertical-align: top;\n",
       "    }\n",
       "\n",
       "    .dataframe thead th {\n",
       "        text-align: right;\n",
       "    }\n",
       "</style>\n",
       "<table border=\"1\" class=\"dataframe\">\n",
       "  <thead>\n",
       "    <tr style=\"text-align: right;\">\n",
       "      <th></th>\n",
       "      <th>bigram_loss</th>\n",
       "      <th>trigram_loss</th>\n",
       "    </tr>\n",
       "  </thead>\n",
       "  <tbody>\n",
       "    <tr>\n",
       "      <th>train</th>\n",
       "      <td>2.4899</td>\n",
       "      <td>2.3942</td>\n",
       "    </tr>\n",
       "    <tr>\n",
       "      <th>dev</th>\n",
       "      <td>2.4880</td>\n",
       "      <td>2.3929</td>\n",
       "    </tr>\n",
       "    <tr>\n",
       "      <th>test</th>\n",
       "      <td>2.4943</td>\n",
       "      <td>2.3974</td>\n",
       "    </tr>\n",
       "  </tbody>\n",
       "</table>\n",
       "</div>"
      ],
      "text/plain": [
       "       bigram_loss  trigram_loss\n",
       "train       2.4899        2.3942\n",
       "dev         2.4880        2.3929\n",
       "test        2.4943        2.3974"
      ]
     },
     "execution_count": 34,
     "metadata": {},
     "output_type": "execute_result"
    }
   ],
   "source": [
    "loss_set_df"
   ]
  },
  {
   "cell_type": "markdown",
   "id": "eb9388c7-b9c9-458e-b5c5-6cfe22f36ed3",
   "metadata": {},
   "source": [
    "We can see that the best smoothing strength proved to be zero meaning that the best model is the one without any regularization. Besides, it was possible to slightly surpass the previously obtain test loss of $2.3974$."
   ]
  },
  {
   "cell_type": "code",
   "execution_count": 35,
   "id": "66324a2e-facb-4d24-8ef4-091d0f65c6a1",
   "metadata": {},
   "outputs": [
    {
     "data": {
      "text/plain": [
       "['mhi',\n",
       " 'ays',\n",
       " 'len',\n",
       " 'watsyebraisemiabrada',\n",
       " 'manthizarie',\n",
       " 'na',\n",
       " 'nah',\n",
       " 'fafeishalekirierielah',\n",
       " 'ynar',\n",
       " 'ed']"
      ]
     },
     "execution_count": 35,
     "metadata": {},
     "output_type": "execute_result"
    }
   ],
   "source": [
    "best_model.generate_sample(num_examples=10, id2char=id2char)"
   ]
  },
  {
   "cell_type": "markdown",
   "id": "84911958-d86d-4106-8210-3f98d802ff6b",
   "metadata": {},
   "source": [
    "# Exercise 4"
   ]
  },
  {
   "cell_type": "markdown",
   "id": "a1194a20-452e-4fe7-be9e-159ad9d73dfa",
   "metadata": {},
   "source": [
    "**Task:** *We saw that our 1-hot vectors merely select a row of W, so producing these vectors explicitly feels wasteful. Can you delete our use of F.one_hot in favor of simply indexing into rows of W?*"
   ]
  },
  {
   "cell_type": "code",
   "execution_count": 36,
   "id": "906ef5d1-414f-47e0-aab0-437ee1995a3c",
   "metadata": {},
   "outputs": [],
   "source": [
    "class BigramModelV2(BigramModel):\n",
    "    \n",
    "    def __init__(self, *args, **kwargs):\n",
    "        super().__init__(*args, **kwargs)\n",
    "        \n",
    "    def __call__(self, x, y):\n",
    "        # Computing predictions for log-counts (THE ONLY CHANGE)\n",
    "        logits = self.weights[x]\n",
    "        # Retrieving counts\n",
    "        counts = logits.exp()\n",
    "        # Computing probabilities for the next character\n",
    "        probas = counts / counts.sum(1, keepdims=True)\n",
    "        \n",
    "        # Computing loss (w/wo regularization)\n",
    "        if self.regularize:\n",
    "            if self.smooth_strength is None:\n",
    "                raise ValueError(\"Regularization rate not specified\")\n",
    "            loss = -probas[torch.arange(x.shape[0]), y].log().mean() + self.smooth_strength * (self.weights**2).mean()\n",
    "        else:\n",
    "            if self.smooth_strength is not None:\n",
    "                warnings.warn(\"Specifying regularization rate has no effect\")\n",
    "            loss = -probas[torch.arange(x.shape[0]), y].log().mean()\n",
    "            \n",
    "        return loss"
   ]
  },
  {
   "cell_type": "code",
   "execution_count": 37,
   "id": "9fc89ec2-ce97-4021-932c-c6824db3921e",
   "metadata": {},
   "outputs": [
    {
     "data": {
      "application/vnd.jupyter.widget-view+json": {
       "model_id": "24ae1389b41c4c659526eb043ec0af3f",
       "version_major": 2,
       "version_minor": 0
      },
      "text/plain": [
       "  0%|          | 0/100 [00:00<?, ?it/s]"
      ]
     },
     "metadata": {},
     "output_type": "display_data"
    },
    {
     "name": "stdout",
     "output_type": "stream",
     "text": [
      "Train loss: 2.4899\n",
      "Dev loss: 2.4880\n",
      "Test loss: 2.4943\n"
     ]
    }
   ],
   "source": [
    "bigram_model = BigramModelV2(\n",
    "    num_features=27, \n",
    "    num_outputs=27,\n",
    "    num_epochs=100, \n",
    "    learning_rate=50, \n",
    "    logging=False, \n",
    "    regularize=True, \n",
    "    smooth_strength=0.01,\n",
    ")\n",
    "\n",
    "bigram_model.fit(X_train_bigram, Y_train_bigram)\n",
    "\n",
    "# Computing losses for the three sets\n",
    "bigram_train_loss = bigram_model(X_train_bigram, Y_train_bigram).item()\n",
    "bigram_dev_loss = bigram_model(X_dev_bigram, Y_dev_bigram).item()\n",
    "bigram_test_loss = bigram_model(X_test_bigram, Y_test_bigram).item()\n",
    "\n",
    "print(f\"Train loss: {bigram_train_loss:.4f}\")\n",
    "print(f\"Dev loss: {bigram_dev_loss:.4f}\")\n",
    "print(f\"Test loss: {bigram_test_loss:.4f}\")"
   ]
  },
  {
   "cell_type": "code",
   "execution_count": 38,
   "id": "baf15a0a-247a-460f-ba09-856184f7dd34",
   "metadata": {},
   "outputs": [
    {
     "data": {
      "text/html": [
       "<div>\n",
       "<style scoped>\n",
       "    .dataframe tbody tr th:only-of-type {\n",
       "        vertical-align: middle;\n",
       "    }\n",
       "\n",
       "    .dataframe tbody tr th {\n",
       "        vertical-align: top;\n",
       "    }\n",
       "\n",
       "    .dataframe thead th {\n",
       "        text-align: right;\n",
       "    }\n",
       "</style>\n",
       "<table border=\"1\" class=\"dataframe\">\n",
       "  <thead>\n",
       "    <tr style=\"text-align: right;\">\n",
       "      <th></th>\n",
       "      <th>bigram_loss</th>\n",
       "      <th>trigram_loss</th>\n",
       "    </tr>\n",
       "  </thead>\n",
       "  <tbody>\n",
       "    <tr>\n",
       "      <th>train</th>\n",
       "      <td>2.4899</td>\n",
       "      <td>2.3942</td>\n",
       "    </tr>\n",
       "    <tr>\n",
       "      <th>dev</th>\n",
       "      <td>2.4880</td>\n",
       "      <td>2.3929</td>\n",
       "    </tr>\n",
       "    <tr>\n",
       "      <th>test</th>\n",
       "      <td>2.4943</td>\n",
       "      <td>2.3974</td>\n",
       "    </tr>\n",
       "  </tbody>\n",
       "</table>\n",
       "</div>"
      ],
      "text/plain": [
       "       bigram_loss  trigram_loss\n",
       "train       2.4899        2.3942\n",
       "dev         2.4880        2.3929\n",
       "test        2.4943        2.3974"
      ]
     },
     "execution_count": 38,
     "metadata": {},
     "output_type": "execute_result"
    }
   ],
   "source": [
    "loss_set_df"
   ]
  },
  {
   "cell_type": "markdown",
   "id": "bc6004b0-775b-4591-9546-171694dccb69",
   "metadata": {},
   "source": [
    "By simply indexing the rows of the weight matrix, we were able to slightly speed up the computations while achieving the same results as above."
   ]
  },
  {
   "cell_type": "markdown",
   "id": "c9f9291b-f413-4295-bf50-7481681f56f7",
   "metadata": {},
   "source": [
    "# Exercise 5"
   ]
  },
  {
   "cell_type": "markdown",
   "id": "543c828c",
   "metadata": {},
   "source": [
    "**Task:** *Look up and use F.cross_entropy instead. You should achieve the same result. Can you think of why we'd prefer to use F.cross_entropy instead?*"
   ]
  },
  {
   "cell_type": "markdown",
   "id": "90def2ec-9367-449d-ba3d-91c3cb082061",
   "metadata": {},
   "source": [
    "## Bigram model"
   ]
  },
  {
   "cell_type": "code",
   "execution_count": 39,
   "id": "4e9b2a0b-89bf-446a-9b8e-52439602c85a",
   "metadata": {},
   "outputs": [],
   "source": [
    "class BigramModelV3(BigramModel):\n",
    "    \n",
    "    def __init__(self, *args, **kwargs):\n",
    "        super().__init__(*args, **kwargs)\n",
    "        \n",
    "    def __call__(self, x, y):\n",
    "        # Computing predictions for log-counts\n",
    "        logits = self.weights[x]\n",
    "        \n",
    "        # Computing loss (w/wo regularization)\n",
    "        if self.regularize:\n",
    "            if self.smooth_strength is None:\n",
    "                raise ValueError(\"Regularization rate not specified\")\n",
    "            loss = F.cross_entropy(logits, y) + self.smooth_strength * (self.weights**2).mean()\n",
    "        else:\n",
    "            if self.smooth_strength is not None:\n",
    "                warnings.warn(\"Specifying regularization rate has no effect\")\n",
    "            loss = F.cross_entropy(logits, y)\n",
    "            \n",
    "        return loss"
   ]
  },
  {
   "cell_type": "code",
   "execution_count": 40,
   "id": "a1a9d590-dd50-49f7-ba2f-b1e33d041e3c",
   "metadata": {},
   "outputs": [
    {
     "data": {
      "application/vnd.jupyter.widget-view+json": {
       "model_id": "a5508cd9bd0c48399aefa68d3c83b7b8",
       "version_major": 2,
       "version_minor": 0
      },
      "text/plain": [
       "  0%|          | 0/100 [00:00<?, ?it/s]"
      ]
     },
     "metadata": {},
     "output_type": "display_data"
    },
    {
     "name": "stdout",
     "output_type": "stream",
     "text": [
      "Train loss: 2.4899\n",
      "Dev loss: 2.4880\n",
      "Test loss: 2.4943\n"
     ]
    }
   ],
   "source": [
    "bigram_model = BigramModelV3(\n",
    "    num_features=27, \n",
    "    num_outputs=27,\n",
    "    num_epochs=100, \n",
    "    learning_rate=50, \n",
    "    logging=False, \n",
    "    regularize=True, \n",
    "    smooth_strength=0.01,\n",
    ")\n",
    "\n",
    "bigram_model.fit(X_train_bigram, Y_train_bigram)\n",
    "\n",
    "# Computing losses for the three sets\n",
    "bigram_train_loss = bigram_model(X_train_bigram, Y_train_bigram).item()\n",
    "bigram_dev_loss = bigram_model(X_dev_bigram, Y_dev_bigram).item()\n",
    "bigram_test_loss = bigram_model(X_test_bigram, Y_test_bigram).item()\n",
    "\n",
    "print(f\"Train loss: {bigram_train_loss:.4f}\")\n",
    "print(f\"Dev loss: {bigram_dev_loss:.4f}\")\n",
    "print(f\"Test loss: {bigram_test_loss:.4f}\")"
   ]
  },
  {
   "cell_type": "markdown",
   "id": "2e08edf4-dc1f-4a3b-94f1-0babed105056",
   "metadata": {},
   "source": [
    "## Trigram model"
   ]
  },
  {
   "cell_type": "code",
   "execution_count": 41,
   "id": "951487a5",
   "metadata": {},
   "outputs": [],
   "source": [
    "class TrigramModelV3(BigramModel):\n",
    "    \n",
    "    def __init__(self, *args, **kwargs):\n",
    "        super().__init__(*args, **kwargs)\n",
    "        \n",
    "    def __call__(self, x, y):\n",
    "        x_encoded = F.one_hot(x, num_classes=self.num_outputs).float().view(-1, self.num_features)\n",
    "        logits = x_encoded @ self.weights\n",
    "        \n",
    "        # Computing loss (w/wo regularization)\n",
    "        if self.regularize:\n",
    "            if self.smooth_strength is None:\n",
    "                raise ValueError(\"Regularization rate not specified\")\n",
    "            loss = F.cross_entropy(logits, y) + self.smooth_strength * (self.weights**2).mean()\n",
    "        else:\n",
    "            if self.smooth_strength is not None:\n",
    "                warnings.warn(\"Specifying regularization rate has no effect\")\n",
    "            loss = F.cross_entropy(logits, y)\n",
    "            \n",
    "        return loss"
   ]
  },
  {
   "cell_type": "code",
   "execution_count": 42,
   "id": "c7783ecc",
   "metadata": {},
   "outputs": [
    {
     "data": {
      "application/vnd.jupyter.widget-view+json": {
       "model_id": "3fdb9480051349a9a50bb8a8676e1290",
       "version_major": 2,
       "version_minor": 0
      },
      "text/plain": [
       "  0%|          | 0/100 [00:00<?, ?it/s]"
      ]
     },
     "metadata": {},
     "output_type": "display_data"
    },
    {
     "name": "stdout",
     "output_type": "stream",
     "text": [
      "Train loss: 2.3942\n",
      "Dev loss: 2.3929\n",
      "Test loss: 2.3974\n",
      "\n"
     ]
    }
   ],
   "source": [
    "trigram_model = TrigramModelV3(\n",
    "    num_features=54, \n",
    "    num_outputs=27,\n",
    "    num_epochs=100, \n",
    "    learning_rate=50, \n",
    "    logging=False, \n",
    "    regularize=True, \n",
    "    smooth_strength=0.01,\n",
    ")\n",
    "\n",
    "trigram_model.fit(X_train_trigram, Y_train_trigram)\n",
    "\n",
    "# Computing losses for the three sets\n",
    "trigram_train_loss = trigram_model(X_train_trigram, Y_train_trigram).item()\n",
    "trigram_dev_loss = trigram_model(X_dev_trigram, Y_dev_trigram).item()\n",
    "trigram_test_loss = trigram_model(X_test_trigram, Y_test_trigram).item()\n",
    "\n",
    "print(f\"Train loss: {trigram_train_loss:.4f}\")\n",
    "print(f\"Dev loss: {trigram_dev_loss:.4f}\")\n",
    "print(f\"Test loss: {trigram_test_loss:.4f}\\n\")"
   ]
  },
  {
   "cell_type": "markdown",
   "id": "8a8c3776-9cf9-4a08-8b6b-d97d9cc1b455",
   "metadata": {},
   "source": [
    "It is seen that we were able to achieve the same results as before. In this case we have made use of `cross_entropy` function which represents a more optimized function from `torch` library that is able to speed up the computations even more."
   ]
  }
 ],
 "metadata": {
  "kernelspec": {
   "display_name": "Python 3 (ipykernel)",
   "language": "python",
   "name": "python3"
  },
  "language_info": {
   "codemirror_mode": {
    "name": "ipython",
    "version": 3
   },
   "file_extension": ".py",
   "mimetype": "text/x-python",
   "name": "python",
   "nbconvert_exporter": "python",
   "pygments_lexer": "ipython3",
   "version": "3.9.18"
  },
  "toc": {
   "base_numbering": 1,
   "nav_menu": {},
   "number_sections": true,
   "sideBar": true,
   "skip_h1_title": true,
   "title_cell": "Table of Contents",
   "title_sidebar": "Contents",
   "toc_cell": true,
   "toc_position": {},
   "toc_section_display": true,
   "toc_window_display": false
  }
 },
 "nbformat": 4,
 "nbformat_minor": 5
}
