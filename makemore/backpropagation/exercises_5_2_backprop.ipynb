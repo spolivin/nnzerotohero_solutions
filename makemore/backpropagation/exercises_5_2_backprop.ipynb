{
 "cells": [
  {
   "cell_type": "markdown",
   "metadata": {
    "id": "rToK0Tku8PPn"
   },
   "source": [
    "# Preraring the data"
   ]
  },
  {
   "cell_type": "markdown",
   "metadata": {},
   "source": [
    "## Importing packages"
   ]
  },
  {
   "cell_type": "code",
   "execution_count": 1,
   "metadata": {
    "id": "ChBbac4y8PPq"
   },
   "outputs": [],
   "source": [
    "import random\n",
    "\n",
    "import torch\n",
    "import torch.nn.functional as F\n",
    "import matplotlib.pyplot as plt\n",
    "%matplotlib inline\n",
    "import networkx as nx\n",
    "\n",
    "RANDOM_SEED = 42\n",
    "TORCH_GEN_SEED = 2147483647"
   ]
  },
  {
   "cell_type": "markdown",
   "metadata": {},
   "source": [
    "## Loading the data"
   ]
  },
  {
   "cell_type": "code",
   "execution_count": 2,
   "metadata": {
    "id": "klmu3ZG08PPr"
   },
   "outputs": [
    {
     "data": {
      "text/plain": [
       "['emma',\n",
       " 'olivia',\n",
       " 'ava',\n",
       " 'isabella',\n",
       " 'sophia',\n",
       " 'charlotte',\n",
       " 'mia',\n",
       " 'amelia',\n",
       " 'harper',\n",
       " 'evelyn']"
      ]
     },
     "execution_count": 2,
     "metadata": {},
     "output_type": "execute_result"
    }
   ],
   "source": [
    "# Opening the dataset with names and reading its content into a variable\n",
    "words = open(\"../names.txt\", \"r\").read().splitlines()\n",
    "words[:10]"
   ]
  },
  {
   "cell_type": "markdown",
   "metadata": {},
   "source": [
    "## Building the vocabulary and creating character-number mappings"
   ]
  },
  {
   "cell_type": "code",
   "execution_count": 3,
   "metadata": {
    "id": "BCQomLE_8PPs"
   },
   "outputs": [
    {
     "name": "stdout",
     "output_type": "stream",
     "text": [
      "Character -> Identifier:\n",
      "{'a': 1, 'b': 2, 'c': 3, 'd': 4, 'e': 5, 'f': 6, 'g': 7, 'h': 8, 'i': 9, 'j': 10, 'k': 11, 'l': 12, 'm': 13, 'n': 14, 'o': 15, 'p': 16, 'q': 17, 'r': 18, 's': 19, 't': 20, 'u': 21, 'v': 22, 'w': 23, 'x': 24, 'y': 25, 'z': 26, '.': 0}\n",
      "\n",
      "Identifier -> Character:\n",
      "{1: 'a', 2: 'b', 3: 'c', 4: 'd', 5: 'e', 6: 'f', 7: 'g', 8: 'h', 9: 'i', 10: 'j', 11: 'k', 12: 'l', 13: 'm', 14: 'n', 15: 'o', 16: 'p', 17: 'q', 18: 'r', 19: 's', 20: 't', 21: 'u', 22: 'v', 23: 'w', 24: 'x', 25: 'y', 26: 'z', 0: '.'}\n",
      "\n",
      "Vocabulary size: 27\n"
     ]
    }
   ],
   "source": [
    "# Retrieving a set of unique letters\n",
    "chars = sorted(list(set(''.join(words))))\n",
    "\n",
    "# Creating a mapping from a letter to an id\n",
    "char2id = {s: i+1 for i, s in enumerate(chars)}\n",
    "# Adding the start_of_word/end_of_word token => \".\"\n",
    "char2id['.'] = 0\n",
    "\n",
    "# Creating a mapping from an id to letter\n",
    "id2char = {i: s for s, i in char2id.items()}\n",
    "\n",
    "# Computing the size of the vocabulary\n",
    "vocab_size = len(id2char)\n",
    "\n",
    "# Displaying the mappings and vocab size\n",
    "print(\"Character -> Identifier:\")\n",
    "print(char2id)\n",
    "print()\n",
    "print(\"Identifier -> Character:\")\n",
    "print(id2char)\n",
    "print()\n",
    "print(f\"Vocabulary size: {vocab_size}\")"
   ]
  },
  {
   "cell_type": "markdown",
   "metadata": {},
   "source": [
    "## Splitting the data"
   ]
  },
  {
   "cell_type": "code",
   "execution_count": 4,
   "metadata": {},
   "outputs": [
    {
     "name": "stdout",
     "output_type": "stream",
     "text": [
      "Training set: 0-25,625\n",
      "Development set: 25,626-28,828\n",
      "Testing set: 28,829-32,032\n",
      "\n",
      "Total words: 32,033\n"
     ]
    }
   ],
   "source": [
    "# Setting the random seed and reshuffling names\n",
    "random.seed(RANDOM_SEED)\n",
    "random.shuffle(words)\n",
    "\n",
    "# Determining cutoff points for 10% dev and 10% test\n",
    "cutoff_train = int(0.8*len(words))\n",
    "cutoff_dev = int(0.9*len(words))\n",
    "\n",
    "print(f\"Training set: {0}-{cutoff_train-1:,}\")\n",
    "print(f\"Development set: {cutoff_train:,}-{cutoff_dev-1:,}\")\n",
    "print(f\"Testing set: {cutoff_dev:,}-{len(words)-1:,}\")\n",
    "\n",
    "print(f\"\\nTotal words: {len(words):,}\")"
   ]
  },
  {
   "cell_type": "code",
   "execution_count": 5,
   "metadata": {},
   "outputs": [
    {
     "name": "stdout",
     "output_type": "stream",
     "text": [
      "Training set examples: 25,626 (80%)\n",
      "Development set examples: 3,203 (10%)\n",
      "Testing set examples: 3,204 (10%)\n"
     ]
    }
   ],
   "source": [
    "# Allocating shuffled words into three sets\n",
    "words_train = words[:cutoff_train]\n",
    "words_dev = words[cutoff_train:cutoff_dev]\n",
    "words_test = words[cutoff_dev:]\n",
    "\n",
    "print(f\"Training set examples: {len(words_train):,} ({len(words_train)/len(words):.0%})\")\n",
    "print(f\"Development set examples: {len(words_dev):,} ({len(words_dev)/len(words):.0%})\")\n",
    "print(f\"Testing set examples: {len(words_test):,} ({len(words_test)/len(words):.0%})\")"
   ]
  },
  {
   "cell_type": "code",
   "execution_count": 6,
   "metadata": {},
   "outputs": [],
   "source": [
    "def build_dataset(words, block_size):\n",
    "    # Preallocating lists for dataset\n",
    "    X, Y = [], []\n",
    "    for word in words:\n",
    "        # Creating a starting examples depending on block size\n",
    "        context = [0] * block_size\n",
    "        # Iterating through entire word with end of word token\n",
    "        for char in word + '.':\n",
    "            index = char2id[char]\n",
    "            X.append(context)\n",
    "            Y.append(index)\n",
    "            # Adding the character index and shifting\n",
    "            context = context[1:] + [index]\n",
    "    \n",
    "    # Casting as PyTorch tensors\n",
    "    X = torch.tensor(X)\n",
    "    Y = torch.tensor(Y)\n",
    "    \n",
    "    return X, Y"
   ]
  },
  {
   "cell_type": "code",
   "execution_count": 7,
   "metadata": {},
   "outputs": [],
   "source": [
    "# Setting the block size (number of character to use to predict the next one)\n",
    "block_size = 3\n",
    "\n",
    "# Building the datasets for three sets\n",
    "X_train, Y_train = build_dataset(\n",
    "    words=words_train, block_size=block_size,\n",
    ")\n",
    "X_dev, Y_dev = build_dataset(\n",
    "    words=words_dev, block_size=block_size,\n",
    ")\n",
    "X_test, Y_test = build_dataset(\n",
    "    words=words_test, block_size=block_size,\n",
    ")"
   ]
  },
  {
   "cell_type": "markdown",
   "metadata": {},
   "source": [
    "# One-epoch forward/backward pass runs"
   ]
  },
  {
   "cell_type": "markdown",
   "metadata": {},
   "source": [
    "## Initialization"
   ]
  },
  {
   "cell_type": "code",
   "execution_count": 8,
   "metadata": {},
   "outputs": [],
   "source": [
    "# Dimensionality of the character embedding vectors\n",
    "n_embd = 10\n",
    "\n",
    "# number of neurons in the hidden layer of the MLP\n",
    "n_hidden = 64\n",
    "\n",
    "# Setting up the random numbers generator (for reproducibility)\n",
    "generator = torch.Generator().manual_seed(TORCH_GEN_SEED)"
   ]
  },
  {
   "cell_type": "code",
   "execution_count": 9,
   "metadata": {
    "id": "ZlFLjQyT8PPu"
   },
   "outputs": [],
   "source": [
    "# Initializing the character embedding matrix\n",
    "C  = torch.randn((vocab_size, n_embd), generator=generator)\n",
    "\n",
    "# LAYER 1 WEIGHTS (Kaiming initialization)\n",
    "W1 = torch.randn((n_embd * block_size, n_hidden), generator=generator)\n",
    "W1 *= (5/3) / ((n_embd * block_size)**0.5)\n",
    "b1 = torch.randn(n_hidden, generator=generator) * 0.1\n",
    "\n",
    "# LAYER 2 WEIGHTS\n",
    "W2 = torch.randn((n_hidden, vocab_size), generator=generator) * 0.1\n",
    "b2 = torch.randn(vocab_size, generator=generator) * 0.1\n",
    "\n",
    "# BATCHNORM LAYER PARAMETERS\n",
    "bngain = torch.randn((1, n_hidden)) * 0.1 + 1.0\n",
    "bnbias = torch.randn((1, n_hidden)) * 0.1"
   ]
  },
  {
   "cell_type": "code",
   "execution_count": 10,
   "metadata": {},
   "outputs": [
    {
     "name": "stdout",
     "output_type": "stream",
     "text": [
      "Number of trainable parameters: 4,137\n"
     ]
    }
   ],
   "source": [
    "# Putting all trainable parameters together\n",
    "parameters = [C, W1, b1, W2, b2, bngain, bnbias]\n",
    "\n",
    "# Computing the number of parameters\n",
    "num_params = sum(p.nelement() for p in parameters)\n",
    "print(f\"Number of trainable parameters: {num_params:,}\") # number of parameters in total\n",
    "\n",
    "# Making all parameters trainable (enabling gradient computation)\n",
    "for p in parameters:\n",
    "    p.requires_grad = True"
   ]
  },
  {
   "cell_type": "markdown",
   "metadata": {},
   "source": [
    "## Selecting minibatch"
   ]
  },
  {
   "cell_type": "code",
   "execution_count": 11,
   "metadata": {
    "id": "QY-y96Y48PPv"
   },
   "outputs": [],
   "source": [
    "# Setting batch size\n",
    "batch_size = 32\n",
    "n = batch_size\n",
    "\n",
    "# Constructing a minibatch\n",
    "ix = torch.randint(0, X_train.shape[0], (batch_size,), generator=generator)\n",
    "Xb, Yb = X_train[ix], Y_train[ix]"
   ]
  },
  {
   "cell_type": "markdown",
   "metadata": {},
   "source": [
    "## Forward pass"
   ]
  },
  {
   "cell_type": "code",
   "execution_count": 12,
   "metadata": {
    "id": "8ofj1s6d8PPv"
   },
   "outputs": [],
   "source": [
    "# Embedding the characters into vectors\n",
    "emb = C[Xb]\n",
    "# Concatenating the vectors\n",
    "embcat = emb.view(emb.shape[0], -1)\n",
    "\n",
    "#################################################\n",
    "\n",
    "# LINEAR LAYER 1\n",
    "\n",
    "# Hidden layer pre-activation\n",
    "hprebn = embcat @ W1 + b1\n",
    "\n",
    "#################################################\n",
    "\n",
    "# BATCHNORM LAYER\n",
    "\n",
    "bnmeani = 1/n*hprebn.sum(0, keepdim=True)\n",
    "bndiff = hprebn - bnmeani\n",
    "bndiff2 = bndiff**2\n",
    "bnvar = 1/(n-1)*(bndiff2).sum(0, keepdim=True)\n",
    "bnvar_inv = (bnvar + 1e-5)**-0.5\n",
    "bnraw = bndiff * bnvar_inv\n",
    "hpreact = bngain * bnraw + bnbias\n",
    "\n",
    "#################################################\n",
    "\n",
    "# TANH LAYER\n",
    "h = torch.tanh(hpreact)\n",
    "\n",
    "#################################################\n",
    "\n",
    "# LINEAR LAYER 2\n",
    "\n",
    "# Output layer\n",
    "logits = h @ W2 + b2 # output layer\n",
    "\n",
    "#################################################\n",
    "\n",
    "# CROSS-ENTROPY LOSS\n",
    "\n",
    "logit_maxes = logits.max(1, keepdim=True).values\n",
    "norm_logits = logits - logit_maxes # subtract max for numerical stability\n",
    "counts = norm_logits.exp()\n",
    "counts_sum = counts.sum(1, keepdims=True)\n",
    "counts_sum_inv = counts_sum**-1\n",
    "probs = counts * counts_sum_inv\n",
    "logprobs = probs.log()\n",
    "loss = -logprobs[range(n), Yb].mean()"
   ]
  },
  {
   "cell_type": "markdown",
   "metadata": {},
   "source": [
    "## Backward pass (Pytorch)"
   ]
  },
  {
   "cell_type": "code",
   "execution_count": 13,
   "metadata": {},
   "outputs": [
    {
     "data": {
      "text/plain": [
       "tensor(3.3380, grad_fn=<NegBackward0>)"
      ]
     },
     "execution_count": 13,
     "metadata": {},
     "output_type": "execute_result"
    }
   ],
   "source": [
    "# Zeroing all gradients\n",
    "for p in parameters:\n",
    "    p.grad = None\n",
    "    \n",
    "# Computing gradients for each element of the computational graph\n",
    "for t in [logprobs, probs, counts, counts_sum, counts_sum_inv,\n",
    "          norm_logits, logit_maxes, logits, h, hpreact, bnraw,\n",
    "         bnvar_inv, bnvar, bndiff2, bndiff, hprebn, bnmeani,\n",
    "         embcat, emb]:\n",
    "    t.retain_grad()\n",
    "loss.backward()\n",
    "\n",
    "loss"
   ]
  },
  {
   "cell_type": "code",
   "execution_count": 14,
   "metadata": {},
   "outputs": [],
   "source": [
    "def cmp(s, dt, t):\n",
    "    \"\"\"Compares manual gradients to Pytorch gradients.\"\"\"\n",
    "    # Returning True if all gradients are exactly equal\n",
    "    ex = torch.all(dt == t.grad).item()\n",
    "    # Returning True if all gradients are approximately equal\n",
    "    app = torch.allclose(dt, t.grad)\n",
    "    # Computing the maximum difference between gradients\n",
    "    maxdiff = (dt - t.grad).abs().max().item()\n",
    "    # Printing the comparison information\n",
    "    print(f'{s:15s} | exact: {str(ex):5s} | approximate: {str(app):5s} | maxdiff: {maxdiff}')"
   ]
  },
  {
   "cell_type": "markdown",
   "metadata": {},
   "source": [
    "# Exercise 2: Backpropagating through cross-entropy (at once)"
   ]
  },
  {
   "cell_type": "markdown",
   "metadata": {},
   "source": [
    "The loss implemented in the training loop is actually the same NLL loss provided by `torch` library and implemented in `cross_entropy`:"
   ]
  },
  {
   "cell_type": "code",
   "execution_count": 15,
   "metadata": {},
   "outputs": [
    {
     "name": "stdout",
     "output_type": "stream",
     "text": [
      "Loss (manual computation): 3.33801007270813\n",
      "Loss (cross-entropy): 3.338010311126709\n",
      "Difference: 2.384185791015625e-07\n"
     ]
    }
   ],
   "source": [
    "loss_fast = F.cross_entropy(logits, Yb)\n",
    "print(f\"Loss (manual computation): {loss.item()}\")\n",
    "print(f\"Loss (cross-entropy): {loss_fast.item()}\")\n",
    "print(f\"Difference: {(loss_fast - loss).item()}\")"
   ]
  },
  {
   "cell_type": "markdown",
   "metadata": {},
   "source": [
    "It is possible to avoid all the intermediary gradients implemented in Exercise 1 in cross-entropy and take the derivative directly with respect to logits. In order to demonstrate what computing the loss for all examples in the data looks like, we will create a graph using the tools of `networkx` library:"
   ]
  },
  {
   "cell_type": "code",
   "execution_count": 16,
   "metadata": {},
   "outputs": [
    {
     "data": {
      "image/png": "[encoded data removed]",
      "text/plain": [
       "<Figure size 640x480 with 1 Axes>"
      ]
     },
     "metadata": {},
     "output_type": "display_data"
    }
   ],
   "source": [
    "# Specifying the nodes and edges\n",
    "adjacency = {\n",
    "    'x': ['NN'],\n",
    "    'NN': [r'$\\vec{logits}$'],\n",
    "    r'$\\vec{logits}$': [r'$\\vec{probs}$'],\n",
    "    r'$\\vec{probs}$': ['probs[y]'],\n",
    "    'probs[y]': ['-logprobs[y]'],\n",
    "    '-logprobs[y]': ['loss'],\n",
    "    'loss': [r'$\\vec{logits}$']\n",
    "}\n",
    "# Creating the graph\n",
    "G = nx.DiGraph(adjacency)\n",
    "# Defining the graph layout\n",
    "pos = nx.spring_layout(G, seed=42)\n",
    "# Drawing the graph\n",
    "nx.draw(\n",
    "    G, \n",
    "    pos, \n",
    "    ax = None, \n",
    "    with_labels = True, \n",
    "    font_size = 7, \n",
    "    node_size = 2000, \n",
    "    node_color = 'lightgreen'\n",
    ")\n",
    "# Specifying the graph edge labels\n",
    "nx.draw_networkx_edge_labels(\n",
    "    G, pos,\n",
    "    edge_labels={\n",
    "        (r'$\\vec{logits}$', r'$\\vec{probs}$'): 'softmax',\n",
    "        ('probs[y]', '-logprobs[y]'): '-log',\n",
    "        (r'$\\vec{probs}$', 'probs[y]'): 'plucking out y-th row',\n",
    "        ('x', 'NN'): 'w',\n",
    "        ('loss', r'$\\vec{logits}$'): 'backwarding',\n",
    "        ('-logprobs[y]', 'loss'): 'mean'\n",
    "    },\n",
    "    font_color='red'\n",
    ")\n",
    "plt.title(\"Cross-entropy compute graph [train example (x, y)]\")\n",
    "plt.show()"
   ]
  },
  {
   "cell_type": "markdown",
   "metadata": {},
   "source": [
    "Basically what is happening is that each example $x$ gets fed into the neural net which computes the logits. Next, softmax function transforms the logits into probabilities summing up to one. Then, using information on the correct answers, we pluck out a specific probability with index $y$. Afterwards, we compose negative log-probabilities for each training example/answer which are converted to a single number (loss) using mean function. This is what happens in the forward pass, but then we need to compute the gradient of the loss with respect to logits (backward pass). \n",
    "\n",
    "In other words, the focus of this exercise is to find a way to fastly go backward directly from loss to logits (computing `dloss/dlogits`). Firstly, consider what is the loss for one single example $y$:"
   ]
  },
  {
   "cell_type": "markdown",
   "metadata": {},
   "source": [
    "$$loss = -\\log(P_y)$$"
   ]
  },
  {
   "cell_type": "markdown",
   "metadata": {},
   "source": [
    "The probability in the brackets is the softmax probability taken from logits:"
   ]
  },
  {
   "cell_type": "markdown",
   "metadata": {},
   "source": [
    "$$P_i = \\frac{e^{l_i}}{\\sum_{j} e^{l_j}}$$"
   ]
  },
  {
   "cell_type": "markdown",
   "metadata": {},
   "source": [
    "Now the loss can be written down as follows:"
   ]
  },
  {
   "cell_type": "markdown",
   "metadata": {},
   "source": [
    "$$loss = -\\log\\left(\\frac{e^{l_y}}{\\sum_{j} e^{l_j}}\\right)$$"
   ]
  },
  {
   "cell_type": "markdown",
   "metadata": {},
   "source": [
    "Hence, the task is to find the derivative of this function with respect to each logit:"
   ]
  },
  {
   "cell_type": "markdown",
   "metadata": {},
   "source": [
    "$$\\frac{\\partial{loss}}{\\partial{l_i}} = \\frac{\\partial}{\\partial{l_i}} \\left[ -\\log\\left(\\frac{e^{l_y}}{\\sum_{j} e^{l_j}}\\right) \\right]$$\n",
    "\n",
    "$$\\Downarrow$$\n",
    "\n",
    "$$\\frac{\\partial{loss}}{\\partial{l_i}} = -\\frac{\\sum_{j} e^{l_j}}{e^{l_y}} \\cdot \\frac{\\partial}{\\partial{l_i}} \\left[\\frac{e^{l_y}}{\\sum_{j} e^{l_j}} \\right]$$"
   ]
  },
  {
   "cell_type": "markdown",
   "metadata": {},
   "source": [
    "Depending on the value of $i$, there two possible situations."
   ]
  },
  {
   "cell_type": "markdown",
   "metadata": {},
   "source": [
    "## `i != y`"
   ]
  },
  {
   "cell_type": "markdown",
   "metadata": {},
   "source": [
    "$$\\frac{\\partial{loss}}{\\partial{l_i}} = -\\frac{\\sum_{j} e^{l_j}}{e^{l_y}} \\cdot \\frac{\\partial}{\\partial{l_i}} \\left[\\frac{e^{l_y}}{\\sum_{j} e^{l_j}} \\right]$$\n",
    "\n",
    "$$\\frac{\\partial{loss}}{\\partial{l_i}} = -\\frac{\\sum_{j} e^{l_j}}{e^{l_y}} \\cdot \\left[\\frac{0 \\cdot \\sum_{j} e^{l_j} - e^{l_y} e^{l_i}}{\\left(\\sum_{j} e^{l_j}\\right)^2} \\right]$$\n",
    "\n",
    "$$\\frac{\\partial{loss}}{\\partial{l_i}} = \\frac{\\sum_{j} e^{l_j}}{e^{l_y}} \\cdot \\left[\\frac{e^{l_y} e^{l_i}}{\\left(\\sum_{j} e^{l_j}\\right)^2} \\right] = \\frac{e^{l_i}}{\\sum_{j} e^{l_j}} = P_i$$"
   ]
  },
  {
   "cell_type": "markdown",
   "metadata": {},
   "source": [
    "## `i == y`"
   ]
  },
  {
   "cell_type": "markdown",
   "metadata": {},
   "source": [
    "$$\\frac{\\partial{loss}}{\\partial{l_i}} = -\\frac{\\sum_{j} e^{l_j}}{e^{l_y}} \\cdot \\frac{\\partial}{\\partial{l_i}} \\left[\\frac{e^{l_y}}{\\sum_{j} e^{l_j}} \\right]$$\n",
    "\n",
    "$$\\frac{\\partial{loss}}{\\partial{l_i}} = -\\frac{\\sum_{j} e^{l_j}}{e^{l_y}} \\cdot \\left[\\frac{e^{l_y} \\cdot \\sum_{j} e^{l_j} - e^{l_y} e^{l_i}}{\\left(\\sum_{j} e^{l_j}\\right)^2} \\right]$$\n",
    "\n",
    "$$\\frac{\\partial{loss}}{\\partial{l_i}} = -\\left[\\frac{\\sum_{j} e^{l_j} - e^{l_i}}{\\sum_{j} e^{l_j}} \\right]$$\n",
    "\n",
    "$$\\frac{\\partial{loss}}{\\partial{l_i}} = -\\left[1 - \\frac{e^{l_i}}{\\sum_{j} e^{l_j}} \\right] = \\frac{e^{l_i}}{\\sum_{j} e^{l_j}} - 1 = P_i - 1$$"
   ]
  },
  {
   "cell_type": "markdown",
   "metadata": {},
   "source": [
    "## Computing the gradient"
   ]
  },
  {
   "cell_type": "markdown",
   "metadata": {},
   "source": [
    "In other words, summarizing the results of the above calculation we have to subtract one from the softmax probabilities in a column indexed by the correct answer. At the end, we still need to scale the result down by `n` due to mean."
   ]
  },
  {
   "cell_type": "code",
   "execution_count": 17,
   "metadata": {
    "id": "-gCXbB4C8PPx"
   },
   "outputs": [
    {
     "name": "stdout",
     "output_type": "stream",
     "text": [
      "logits          | exact: False | approximate: True  | maxdiff: 4.889443516731262e-09\n"
     ]
    }
   ],
   "source": [
    "# Obtaining probabilities\n",
    "dlogits = F.softmax(logits, 1)\n",
    "\n",
    "# Subtracting 1 for correct answers\n",
    "dlogits[range(n), Yb] -= 1\n",
    "\n",
    "# Scaling down due to mean\n",
    "dlogits /= n\n",
    "\n",
    "# Comparing the gradient computed\n",
    "cmp('logits', dlogits, logits)"
   ]
  },
  {
   "cell_type": "code",
   "execution_count": 18,
   "metadata": {},
   "outputs": [
    {
     "data": {
      "text/plain": [
       "tensor([[ 0.0023,  0.0027,  0.0005,  0.0015,  0.0006,  0.0025,  0.0007,  0.0012,\n",
       "         -0.0307,  0.0010,  0.0012,  0.0012,  0.0012,  0.0009,  0.0011,  0.0004,\n",
       "          0.0003,  0.0007,  0.0005,  0.0017,  0.0016,  0.0006,  0.0008,  0.0021,\n",
       "          0.0018,  0.0008,  0.0007],\n",
       "        [ 0.0017,  0.0017,  0.0028,  0.0016,  0.0010,  0.0011,  0.0006,  0.0015,\n",
       "          0.0007,  0.0007,  0.0016,  0.0014,  0.0015,  0.0009, -0.0298,  0.0011,\n",
       "          0.0009,  0.0006,  0.0006,  0.0013,  0.0006,  0.0007,  0.0005,  0.0018,\n",
       "          0.0007,  0.0012,  0.0009],\n",
       "        [ 0.0006,  0.0007,  0.0004,  0.0004,  0.0007,  0.0012,  0.0019,  0.0020,\n",
       "          0.0020,  0.0009,  0.0006,  0.0011,  0.0014,  0.0015,  0.0007, -0.0304,\n",
       "          0.0004,  0.0011,  0.0009,  0.0035,  0.0021,  0.0011,  0.0013,  0.0011,\n",
       "          0.0011,  0.0006,  0.0009]])"
      ]
     },
     "execution_count": 18,
     "metadata": {},
     "output_type": "execute_result"
    }
   ],
   "source": [
    "logits.grad[:3]"
   ]
  },
  {
   "cell_type": "code",
   "execution_count": 19,
   "metadata": {},
   "outputs": [
    {
     "data": {
      "text/plain": [
       "tensor([[ 0.0023,  0.0027,  0.0005,  0.0015,  0.0006,  0.0025,  0.0007,  0.0012,\n",
       "         -0.0307,  0.0010,  0.0012,  0.0012,  0.0012,  0.0009,  0.0011,  0.0004,\n",
       "          0.0003,  0.0007,  0.0005,  0.0017,  0.0016,  0.0006,  0.0008,  0.0021,\n",
       "          0.0018,  0.0008,  0.0007],\n",
       "        [ 0.0017,  0.0017,  0.0028,  0.0016,  0.0010,  0.0011,  0.0006,  0.0015,\n",
       "          0.0007,  0.0007,  0.0016,  0.0014,  0.0015,  0.0009, -0.0298,  0.0011,\n",
       "          0.0009,  0.0006,  0.0006,  0.0013,  0.0006,  0.0007,  0.0005,  0.0018,\n",
       "          0.0007,  0.0012,  0.0009],\n",
       "        [ 0.0006,  0.0007,  0.0004,  0.0004,  0.0007,  0.0012,  0.0019,  0.0020,\n",
       "          0.0020,  0.0009,  0.0006,  0.0011,  0.0014,  0.0015,  0.0007, -0.0304,\n",
       "          0.0004,  0.0011,  0.0009,  0.0035,  0.0021,  0.0011,  0.0013,  0.0011,\n",
       "          0.0011,  0.0006,  0.0009]], grad_fn=<SliceBackward0>)"
      ]
     },
     "execution_count": 19,
     "metadata": {},
     "output_type": "execute_result"
    }
   ],
   "source": [
    "dlogits[:3]"
   ]
  }
 ],
 "metadata": {
  "colab": {
   "provenance": []
  },
  "kernelspec": {
   "display_name": "Python 3 (ipykernel)",
   "language": "python",
   "name": "python3"
  },
  "language_info": {
   "codemirror_mode": {
    "name": "ipython",
    "version": 3
   },
   "file_extension": ".py",
   "mimetype": "text/x-python",
   "name": "python",
   "nbconvert_exporter": "python",
   "pygments_lexer": "ipython3",
   "version": "3.9.18"
  }
 },
 "nbformat": 4,
 "nbformat_minor": 4
}
