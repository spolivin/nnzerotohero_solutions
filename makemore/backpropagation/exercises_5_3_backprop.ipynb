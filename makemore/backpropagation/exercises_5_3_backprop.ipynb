{
 "cells": [
  {
   "cell_type": "markdown",
   "metadata": {
    "id": "rToK0Tku8PPn"
   },
   "source": [
    "# Preraring the data"
   ]
  },
  {
   "cell_type": "markdown",
   "metadata": {},
   "source": [
    "## Importing packages"
   ]
  },
  {
   "cell_type": "code",
   "execution_count": 1,
   "metadata": {
    "id": "ChBbac4y8PPq"
   },
   "outputs": [],
   "source": [
    "import random\n",
    "\n",
    "import torch\n",
    "import torch.nn.functional as F\n",
    "import matplotlib.pyplot as plt\n",
    "%matplotlib inline\n",
    "import networkx as nx\n",
    "\n",
    "RANDOM_SEED = 42\n",
    "TORCH_GEN_SEED = 2147483647"
   ]
  },
  {
   "cell_type": "markdown",
   "metadata": {},
   "source": [
    "## Loading the data"
   ]
  },
  {
   "cell_type": "code",
   "execution_count": 2,
   "metadata": {
    "id": "klmu3ZG08PPr"
   },
   "outputs": [
    {
     "data": {
      "text/plain": [
       "['emma',\n",
       " 'olivia',\n",
       " 'ava',\n",
       " 'isabella',\n",
       " 'sophia',\n",
       " 'charlotte',\n",
       " 'mia',\n",
       " 'amelia',\n",
       " 'harper',\n",
       " 'evelyn']"
      ]
     },
     "execution_count": 2,
     "metadata": {},
     "output_type": "execute_result"
    }
   ],
   "source": [
    "# Opening the dataset with names and reading its content into a variable\n",
    "words = open(\"../names.txt\", \"r\").read().splitlines()\n",
    "words[:10]"
   ]
  },
  {
   "cell_type": "markdown",
   "metadata": {},
   "source": [
    "## Building the vocabulary and creating character-number mappings"
   ]
  },
  {
   "cell_type": "code",
   "execution_count": 3,
   "metadata": {
    "id": "BCQomLE_8PPs"
   },
   "outputs": [
    {
     "name": "stdout",
     "output_type": "stream",
     "text": [
      "Character -> Identifier:\n",
      "{'a': 1, 'b': 2, 'c': 3, 'd': 4, 'e': 5, 'f': 6, 'g': 7, 'h': 8, 'i': 9, 'j': 10, 'k': 11, 'l': 12, 'm': 13, 'n': 14, 'o': 15, 'p': 16, 'q': 17, 'r': 18, 's': 19, 't': 20, 'u': 21, 'v': 22, 'w': 23, 'x': 24, 'y': 25, 'z': 26, '.': 0}\n",
      "\n",
      "Identifier -> Character:\n",
      "{1: 'a', 2: 'b', 3: 'c', 4: 'd', 5: 'e', 6: 'f', 7: 'g', 8: 'h', 9: 'i', 10: 'j', 11: 'k', 12: 'l', 13: 'm', 14: 'n', 15: 'o', 16: 'p', 17: 'q', 18: 'r', 19: 's', 20: 't', 21: 'u', 22: 'v', 23: 'w', 24: 'x', 25: 'y', 26: 'z', 0: '.'}\n",
      "\n",
      "Vocabulary size: 27\n"
     ]
    }
   ],
   "source": [
    "# Retrieving a set of unique letters\n",
    "chars = sorted(list(set(''.join(words))))\n",
    "\n",
    "# Creating a mapping from a letter to an id\n",
    "char2id = {s: i+1 for i, s in enumerate(chars)}\n",
    "# Adding the start_of_word/end_of_word token => \".\"\n",
    "char2id['.'] = 0\n",
    "\n",
    "# Creating a mapping from an id to letter\n",
    "id2char = {i: s for s, i in char2id.items()}\n",
    "\n",
    "# Computing the size of the vocabulary\n",
    "vocab_size = len(id2char)\n",
    "\n",
    "# Displaying the mappings and vocab size\n",
    "print(\"Character -> Identifier:\")\n",
    "print(char2id)\n",
    "print()\n",
    "print(\"Identifier -> Character:\")\n",
    "print(id2char)\n",
    "print()\n",
    "print(f\"Vocabulary size: {vocab_size}\")"
   ]
  },
  {
   "cell_type": "markdown",
   "metadata": {},
   "source": [
    "## Splitting the data"
   ]
  },
  {
   "cell_type": "code",
   "execution_count": 4,
   "metadata": {},
   "outputs": [
    {
     "name": "stdout",
     "output_type": "stream",
     "text": [
      "Training set: 0-25,625\n",
      "Development set: 25,626-28,828\n",
      "Testing set: 28,829-32,032\n",
      "\n",
      "Total words: 32,033\n"
     ]
    }
   ],
   "source": [
    "# Setting the random seed and reshuffling names\n",
    "random.seed(RANDOM_SEED)\n",
    "random.shuffle(words)\n",
    "\n",
    "# Determining cutoff points for 10% dev and 10% test\n",
    "cutoff_train = int(0.8*len(words))\n",
    "cutoff_dev = int(0.9*len(words))\n",
    "\n",
    "print(f\"Training set: {0}-{cutoff_train-1:,}\")\n",
    "print(f\"Development set: {cutoff_train:,}-{cutoff_dev-1:,}\")\n",
    "print(f\"Testing set: {cutoff_dev:,}-{len(words)-1:,}\")\n",
    "\n",
    "print(f\"\\nTotal words: {len(words):,}\")"
   ]
  },
  {
   "cell_type": "code",
   "execution_count": 5,
   "metadata": {},
   "outputs": [
    {
     "name": "stdout",
     "output_type": "stream",
     "text": [
      "Training set examples: 25,626 (80%)\n",
      "Development set examples: 3,203 (10%)\n",
      "Testing set examples: 3,204 (10%)\n"
     ]
    }
   ],
   "source": [
    "# Allocating shuffled words into three sets\n",
    "words_train = words[:cutoff_train]\n",
    "words_dev = words[cutoff_train:cutoff_dev]\n",
    "words_test = words[cutoff_dev:]\n",
    "\n",
    "print(f\"Training set examples: {len(words_train):,} ({len(words_train)/len(words):.0%})\")\n",
    "print(f\"Development set examples: {len(words_dev):,} ({len(words_dev)/len(words):.0%})\")\n",
    "print(f\"Testing set examples: {len(words_test):,} ({len(words_test)/len(words):.0%})\")"
   ]
  },
  {
   "cell_type": "code",
   "execution_count": 6,
   "metadata": {},
   "outputs": [],
   "source": [
    "def build_dataset(words, block_size):\n",
    "    # Preallocating lists for dataset\n",
    "    X, Y = [], []\n",
    "    for word in words:\n",
    "        # Creating a starting examples depending on block size\n",
    "        context = [0] * block_size\n",
    "        # Iterating through entire word with end of word token\n",
    "        for char in word + '.':\n",
    "            index = char2id[char]\n",
    "            X.append(context)\n",
    "            Y.append(index)\n",
    "            # Adding the character index and shifting\n",
    "            context = context[1:] + [index]\n",
    "    \n",
    "    # Casting as PyTorch tensors\n",
    "    X = torch.tensor(X)\n",
    "    Y = torch.tensor(Y)\n",
    "    \n",
    "    return X, Y"
   ]
  },
  {
   "cell_type": "code",
   "execution_count": 7,
   "metadata": {},
   "outputs": [],
   "source": [
    "# Setting the block size (number of character to use to predict the next one)\n",
    "block_size = 3\n",
    "\n",
    "# Building the datasets for three sets\n",
    "X_train, Y_train = build_dataset(\n",
    "    words=words_train, block_size=block_size,\n",
    ")\n",
    "X_dev, Y_dev = build_dataset(\n",
    "    words=words_dev, block_size=block_size,\n",
    ")\n",
    "X_test, Y_test = build_dataset(\n",
    "    words=words_test, block_size=block_size,\n",
    ")"
   ]
  },
  {
   "cell_type": "markdown",
   "metadata": {},
   "source": [
    "# One-epoch forward/backward pass runs"
   ]
  },
  {
   "cell_type": "markdown",
   "metadata": {},
   "source": [
    "## Initialization"
   ]
  },
  {
   "cell_type": "code",
   "execution_count": 8,
   "metadata": {},
   "outputs": [],
   "source": [
    "# Dimensionality of the character embedding vectors\n",
    "n_embd = 10\n",
    "\n",
    "# number of neurons in the hidden layer of the MLP\n",
    "n_hidden = 64\n",
    "\n",
    "# Setting up the random numbers generator (for reproducibility)\n",
    "generator = torch.Generator().manual_seed(TORCH_GEN_SEED)"
   ]
  },
  {
   "cell_type": "code",
   "execution_count": 9,
   "metadata": {
    "id": "ZlFLjQyT8PPu"
   },
   "outputs": [],
   "source": [
    "# Initializing the character embedding matrix\n",
    "C  = torch.randn((vocab_size, n_embd), generator=generator)\n",
    "\n",
    "# LAYER 1 WEIGHTS (Kaiming initialization)\n",
    "W1 = torch.randn((n_embd * block_size, n_hidden), generator=generator)\n",
    "W1 *= (5/3) / ((n_embd * block_size)**0.5)\n",
    "b1 = torch.randn(n_hidden, generator=generator) * 0.1\n",
    "\n",
    "# LAYER 2 WEIGHTS\n",
    "W2 = torch.randn((n_hidden, vocab_size), generator=generator) * 0.1\n",
    "b2 = torch.randn(vocab_size, generator=generator) * 0.1\n",
    "\n",
    "# BATCHNORM LAYER PARAMETERS\n",
    "bngain = torch.randn((1, n_hidden)) * 0.1 + 1.0\n",
    "bnbias = torch.randn((1, n_hidden)) * 0.1"
   ]
  },
  {
   "cell_type": "code",
   "execution_count": 10,
   "metadata": {},
   "outputs": [
    {
     "name": "stdout",
     "output_type": "stream",
     "text": [
      "Number of trainable parameters: 4,137\n"
     ]
    }
   ],
   "source": [
    "# Putting all trainable parameters together\n",
    "parameters = [C, W1, b1, W2, b2, bngain, bnbias]\n",
    "\n",
    "# Computing the number of parameters\n",
    "num_params = sum(p.nelement() for p in parameters)\n",
    "print(f\"Number of trainable parameters: {num_params:,}\") # number of parameters in total\n",
    "\n",
    "# Making all parameters trainable (enabling gradient computation)\n",
    "for p in parameters:\n",
    "    p.requires_grad = True"
   ]
  },
  {
   "cell_type": "markdown",
   "metadata": {},
   "source": [
    "## Selecting minibatch"
   ]
  },
  {
   "cell_type": "code",
   "execution_count": 11,
   "metadata": {
    "id": "QY-y96Y48PPv"
   },
   "outputs": [],
   "source": [
    "# Setting batch size\n",
    "batch_size = 32\n",
    "n = batch_size\n",
    "\n",
    "# Constructing a minibatch\n",
    "ix = torch.randint(0, X_train.shape[0], (batch_size,), generator=generator)\n",
    "Xb, Yb = X_train[ix], Y_train[ix]"
   ]
  },
  {
   "cell_type": "markdown",
   "metadata": {},
   "source": [
    "## Forward pass"
   ]
  },
  {
   "cell_type": "code",
   "execution_count": 12,
   "metadata": {
    "id": "8ofj1s6d8PPv"
   },
   "outputs": [],
   "source": [
    "# Embedding the characters into vectors\n",
    "emb = C[Xb]\n",
    "# Concatenating the vectors\n",
    "embcat = emb.view(emb.shape[0], -1)\n",
    "\n",
    "#################################################\n",
    "\n",
    "# LINEAR LAYER 1\n",
    "\n",
    "# Hidden layer pre-activation\n",
    "hprebn = embcat @ W1 + b1\n",
    "\n",
    "#################################################\n",
    "\n",
    "# BATCHNORM LAYER\n",
    "\n",
    "bnmeani = 1/n*hprebn.sum(0, keepdim=True)\n",
    "bndiff = hprebn - bnmeani\n",
    "bndiff2 = bndiff**2\n",
    "bnvar = 1/(n-1)*(bndiff2).sum(0, keepdim=True)\n",
    "bnvar_inv = (bnvar + 1e-5)**-0.5\n",
    "bnraw = bndiff * bnvar_inv\n",
    "hpreact = bngain * bnraw + bnbias\n",
    "\n",
    "#################################################\n",
    "\n",
    "# TANH LAYER\n",
    "h = torch.tanh(hpreact)\n",
    "\n",
    "#################################################\n",
    "\n",
    "# LINEAR LAYER 2\n",
    "\n",
    "# Output layer\n",
    "logits = h @ W2 + b2 # output layer\n",
    "\n",
    "#################################################\n",
    "\n",
    "# CROSS-ENTROPY LOSS\n",
    "\n",
    "logit_maxes = logits.max(1, keepdim=True).values\n",
    "norm_logits = logits - logit_maxes # subtract max for numerical stability\n",
    "counts = norm_logits.exp()\n",
    "counts_sum = counts.sum(1, keepdims=True)\n",
    "counts_sum_inv = counts_sum**-1\n",
    "probs = counts * counts_sum_inv\n",
    "logprobs = probs.log()\n",
    "loss = -logprobs[range(n), Yb].mean()"
   ]
  },
  {
   "cell_type": "markdown",
   "metadata": {},
   "source": [
    "## Backward pass (Pytorch)"
   ]
  },
  {
   "cell_type": "code",
   "execution_count": 13,
   "metadata": {},
   "outputs": [
    {
     "data": {
      "text/plain": [
       "tensor(3.3475, grad_fn=<NegBackward0>)"
      ]
     },
     "execution_count": 13,
     "metadata": {},
     "output_type": "execute_result"
    }
   ],
   "source": [
    "# Zeroing all gradients\n",
    "for p in parameters:\n",
    "    p.grad = None\n",
    "    \n",
    "# Computing gradients for each element of the computational graph\n",
    "for t in [logprobs, probs, counts, counts_sum, counts_sum_inv,\n",
    "          norm_logits, logit_maxes, logits, h, hpreact, bnraw,\n",
    "         bnvar_inv, bnvar, bndiff2, bndiff, hprebn, bnmeani,\n",
    "         embcat, emb]:\n",
    "    t.retain_grad()\n",
    "loss.backward()\n",
    "\n",
    "loss"
   ]
  },
  {
   "cell_type": "markdown",
   "metadata": {},
   "source": [
    "We have to now list all manually computed gradients we obtained in Exercise 1 since it will be necessary when making the final comparison."
   ]
  },
  {
   "cell_type": "code",
   "execution_count": 14,
   "metadata": {},
   "outputs": [],
   "source": [
    "dlogprobs = torch.zeros_like(logprobs)\n",
    "dlogprobs[range(n), Yb] = -1.0/n\n",
    "dprobs = (1.0 / probs) * dlogprobs\n",
    "dcounts_sum_inv = (counts * dprobs).sum(1, keepdim=True)\n",
    "dcounts = counts_sum_inv * dprobs\n",
    "dcounts_sum = (-counts_sum**-2) * dcounts_sum_inv\n",
    "dcounts += torch.ones_like(counts) * dcounts_sum\n",
    "dnorm_logits = counts * dcounts\n",
    "dlogits = dnorm_logits.clone()\n",
    "dlogit_maxes = (-dnorm_logits).sum(1, keepdim=True)\n",
    "dlogits += F.one_hot(logits.max(1).indices, num_classes=logits.shape[1]) * dlogit_maxes\n",
    "dh = dlogits @ W2.T\n",
    "dW2 = h.T @ dlogits\n",
    "db2 = dlogits.sum(0)\n",
    "dhpreact = (1.0 - h**2) * dh\n",
    "dbngain = (bnraw * dhpreact).sum(0, keepdim=True)\n",
    "dbnraw = bngain * dhpreact\n",
    "dbnbias = dhpreact.sum(0, keepdim=True)\n",
    "dbndiff = bnvar_inv * dbnraw\n",
    "dbnvar_inv = (bndiff * dbnraw).sum(0, keepdim=True)\n",
    "dbnvar = (-0.5*(bnvar + 1e-5)**-1.5) * dbnvar_inv\n",
    "dbndiff2 = (1.0/(n-1))*torch.ones_like(bndiff2) * dbnvar\n",
    "dbndiff += (2*bndiff) * dbndiff2\n",
    "dhprebn = dbndiff.clone()\n",
    "dbnmeani = (-dbndiff).sum(0)\n",
    "dhprebn += 1.0/n * (torch.ones_like(hprebn) * dbnmeani)\n",
    "dembcat = dhprebn @ W1.T\n",
    "dW1 = embcat.T @ dhprebn\n",
    "db1 = dhprebn.sum(0)\n",
    "demb = dembcat.view(emb.shape)\n",
    "dC = torch.zeros_like(C)\n",
    "for k in range(Xb.shape[0]):\n",
    "    for j in range(Xb.shape[1]):\n",
    "        ix = Xb[k,j]\n",
    "        dC[ix] += demb[k,j]"
   ]
  },
  {
   "cell_type": "code",
   "execution_count": 15,
   "metadata": {},
   "outputs": [],
   "source": [
    "def cmp(s, dt, t):\n",
    "    \"\"\"Compares manual gradients to Pytorch gradients.\"\"\"\n",
    "    # Returning True if all gradients are exactly equal\n",
    "    ex = torch.all(dt == t.grad).item()\n",
    "    # Returning True if all gradients are approximately equal\n",
    "    app = torch.allclose(dt, t.grad)\n",
    "    # Computing the maximum difference between gradients\n",
    "    maxdiff = (dt - t.grad).abs().max().item()\n",
    "    # Printing the comparison information\n",
    "    print(f'{s:15s} | exact: {str(ex):5s} | approximate: {str(app):5s} | maxdiff: {maxdiff}')"
   ]
  },
  {
   "cell_type": "code",
   "execution_count": 16,
   "metadata": {},
   "outputs": [
    {
     "name": "stdout",
     "output_type": "stream",
     "text": [
      "logprobs        | exact: True  | approximate: True  | maxdiff: 0.0\n",
      "probs           | exact: True  | approximate: True  | maxdiff: 0.0\n",
      "counts_sum_inv  | exact: True  | approximate: True  | maxdiff: 0.0\n",
      "counts_sum      | exact: True  | approximate: True  | maxdiff: 0.0\n",
      "counts          | exact: True  | approximate: True  | maxdiff: 0.0\n",
      "norm_logits     | exact: True  | approximate: True  | maxdiff: 0.0\n",
      "logit_maxes     | exact: True  | approximate: True  | maxdiff: 0.0\n",
      "logits          | exact: True  | approximate: True  | maxdiff: 0.0\n",
      "h               | exact: True  | approximate: True  | maxdiff: 0.0\n",
      "W2              | exact: True  | approximate: True  | maxdiff: 0.0\n",
      "b2              | exact: True  | approximate: True  | maxdiff: 0.0\n",
      "hpreact         | exact: True  | approximate: True  | maxdiff: 0.0\n",
      "bngain          | exact: True  | approximate: True  | maxdiff: 0.0\n",
      "bnbias          | exact: True  | approximate: True  | maxdiff: 0.0\n",
      "bnraw           | exact: True  | approximate: True  | maxdiff: 0.0\n",
      "bnvar_inv       | exact: True  | approximate: True  | maxdiff: 0.0\n",
      "bnvar           | exact: True  | approximate: True  | maxdiff: 0.0\n",
      "bndiff2         | exact: True  | approximate: True  | maxdiff: 0.0\n",
      "bndiff          | exact: True  | approximate: True  | maxdiff: 0.0\n",
      "bnmeani         | exact: True  | approximate: True  | maxdiff: 0.0\n",
      "hprebn          | exact: True  | approximate: True  | maxdiff: 0.0\n",
      "embcat          | exact: True  | approximate: True  | maxdiff: 0.0\n",
      "W1              | exact: True  | approximate: True  | maxdiff: 0.0\n",
      "b1              | exact: True  | approximate: True  | maxdiff: 0.0\n",
      "emb             | exact: True  | approximate: True  | maxdiff: 0.0\n",
      "C               | exact: True  | approximate: True  | maxdiff: 0.0\n"
     ]
    }
   ],
   "source": [
    "cmp('logprobs', dlogprobs, logprobs)\n",
    "cmp('probs', dprobs, probs)\n",
    "cmp('counts_sum_inv', dcounts_sum_inv, counts_sum_inv)\n",
    "cmp('counts_sum', dcounts_sum, counts_sum)\n",
    "cmp('counts', dcounts, counts)\n",
    "cmp('norm_logits', dnorm_logits, norm_logits)\n",
    "cmp('logit_maxes', dlogit_maxes, logit_maxes)\n",
    "cmp('logits', dlogits, logits)\n",
    "cmp('h', dh, h)\n",
    "cmp('W2', dW2, W2)\n",
    "cmp('b2', db2, b2)\n",
    "cmp('hpreact', dhpreact, hpreact)\n",
    "cmp('bngain', dbngain, bngain)\n",
    "cmp('bnbias', dbnbias, bnbias)\n",
    "cmp('bnraw', dbnraw, bnraw)\n",
    "cmp('bnvar_inv', dbnvar_inv, bnvar_inv)\n",
    "cmp('bnvar', dbnvar, bnvar)\n",
    "cmp('bndiff2', dbndiff2, bndiff2)\n",
    "cmp('bndiff', dbndiff, bndiff)\n",
    "cmp('bnmeani', dbnmeani, bnmeani)\n",
    "cmp('hprebn', dhprebn, hprebn)\n",
    "cmp('embcat', dembcat, embcat)\n",
    "cmp('W1', dW1, W1)\n",
    "cmp('b1', db1, b1)\n",
    "cmp('emb', demb, emb)\n",
    "cmp('C', dC, C)"
   ]
  },
  {
   "cell_type": "markdown",
   "metadata": {},
   "source": [
    "# Exercise 3: Backpropagating through batchnorm (at once)"
   ]
  },
  {
   "cell_type": "markdown",
   "metadata": {},
   "source": [
    "Let's write down the mathematical representation of the batchnorm layer:"
   ]
  },
  {
   "cell_type": "markdown",
   "metadata": {},
   "source": [
    "$$\\mu = \\frac{1}{m} \\sum_i x_i$$\n",
    "\n",
    "$$\\sigma^2 = \\frac{1}{m - 1} \\sum_i (x_i - \\mu)^2$$\n",
    "\n",
    "$$\\hat{x}_i = \\frac{x_i - \\mu}{\\sqrt{\\sigma^2 + \\epsilon}}$$\n",
    "\n",
    "$$y_i = \\gamma \\hat{x}_i + \\beta$$"
   ]
  },
  {
   "cell_type": "markdown",
   "metadata": {},
   "source": [
    "We can represent the computations happening inside this layer via the following graph:"
   ]
  },
  {
   "cell_type": "code",
   "execution_count": 17,
   "metadata": {},
   "outputs": [
    {
     "data": {
      "image/png": "[encoded data removed]",
      "text/plain": [
       "<Figure size 640x480 with 1 Axes>"
      ]
     },
     "metadata": {},
     "output_type": "display_data"
    }
   ],
   "source": [
    "adjacency = {\n",
    "    r'$\\vec{X}$': [r'$\\mu$', r'$\\sigma^{2}$', r'$\\vec{\\hat{X}}$'], \n",
    "    r'$\\mu$': [r'$\\vec{\\hat{X}}$', r'$\\sigma^{2}$'], \n",
    "    r'$\\sigma^{2}$': [r'$\\vec{\\hat{X}}$'], \n",
    "    r'$\\vec{\\hat{X}}$': [r'$\\vec{Y}$'], \n",
    "    r'$\\gamma$': [r'$\\vec{Y}$'],\n",
    "    r'$\\beta$': [r'$\\vec{Y}$'],\n",
    "}\n",
    "\n",
    "G = nx.DiGraph(adjacency)\n",
    "pos = nx.shell_layout(G)\n",
    "nx.draw(\n",
    "    G, \n",
    "    pos, \n",
    "    ax = None, \n",
    "    with_labels = True, \n",
    "    font_size = 20, \n",
    "    node_size = 2000, \n",
    "    node_color = 'lightgreen'\n",
    ")\n",
    "\n",
    "nx.draw_networkx_edge_labels(\n",
    "    G, pos,\n",
    "    edge_labels={\n",
    "        (r'$\\vec{\\hat{X}}$', r'$\\vec{Y}$'): '(1)',\n",
    "        (r'$\\sigma^{2}$', r'$\\vec{\\hat{X}}$'): '(2)',\n",
    "        (r'$\\mu$', r'$\\vec{\\hat{X}}$'): '(3)',\n",
    "        (r'$\\mu$', r'$\\sigma^{2}$'): '(3)',\n",
    "        (r'$\\vec{X}$', r'$\\vec{\\hat{X}}$'): '(4)',\n",
    "        (r'$\\vec{X}$', r'$\\sigma^{2}$'): '(4)',\n",
    "        (r'$\\vec{X}$', r'$\\mu$'): '(4)',\n",
    "    },\n",
    "    font_color='red'\n",
    ")\n",
    "plt.title(\"Batchnorm compute graph\")\n",
    "plt.show()"
   ]
  },
  {
   "cell_type": "markdown",
   "metadata": {},
   "source": [
    "I denoted vectors with many elements with arrows, while other nodes refer to individual scalars. "
   ]
  },
  {
   "cell_type": "markdown",
   "metadata": {},
   "source": [
    "## (1) dloss/dxi_hat"
   ]
  },
  {
   "cell_type": "markdown",
   "metadata": {},
   "source": [
    "$$\\frac{\\partial{loss}}{\\partial{\\hat{x}_i}} = \\frac{\\partial{loss}}{\\partial{y_i}} \\frac{\\partial{y_i}}{\\partial{\\hat{x}_i}} = \\frac{\\partial{loss}}{\\partial{y_i}} \\gamma$$"
   ]
  },
  {
   "cell_type": "markdown",
   "metadata": {},
   "source": [
    "## (2) dloss/dsigma2"
   ]
  },
  {
   "cell_type": "markdown",
   "metadata": {},
   "source": [
    "Since there are many elements in $\\hat{x}$, when computing the derivative we have to actually take the sum over all possible paths from $\\sigma^2$ to $\\hat{x}$. This is due to the fact that $\\sigma^2$ here is a single scalar and there are actually lots of arrows going to all the $\\hat{x}_i$. "
   ]
  },
  {
   "cell_type": "markdown",
   "metadata": {},
   "source": [
    "$$\\frac{\\partial{loss}}{\\partial{\\sigma^2}} = \\sum_i \\frac{\\partial{loss}}{\\partial{\\hat{x}_i}} \\frac{\\partial{\\hat{x}_i}}{\\partial{\\sigma^2}}$$\n",
    "\n",
    "$$\\frac{\\partial{loss}}{\\partial{\\sigma^2}} = \\gamma \\sum_i \\frac{\\partial{loss}}{\\partial{y_i}} \\frac{\\partial}{\\partial{\\sigma^2}} \\left[(x_i - \\mu) (\\sigma^2 + \\epsilon)^{-1/2}\\right]$$\n",
    "\n",
    "$$\\frac{\\partial{loss}}{\\partial{\\sigma^2}} = -\\frac{1}{2} \\gamma \\sum_i \\frac{\\partial{loss}}{\\partial{y_i}} (x_i - \\mu) (\\sigma^2 + \\epsilon)^{-3/2}$$"
   ]
  },
  {
   "cell_type": "markdown",
   "metadata": {},
   "source": [
    "## (3) dloss/dmu"
   ]
  },
  {
   "cell_type": "markdown",
   "metadata": {},
   "source": [
    "$$\\frac{\\partial{loss}}{\\partial{\\mu}} = \\sum_i \\frac{\\partial{loss}}{\\partial{\\hat{x}_i}} \\frac{\\partial{\\hat{x}_i}}{\\partial{\\mu}} + \\frac{\\partial{loss}}{\\partial{\\sigma^2}} \\frac{\\partial{\\sigma^2}}{\\partial{\\mu}}$$"
   ]
  },
  {
   "cell_type": "markdown",
   "metadata": {},
   "source": [
    "$$\\frac{\\partial{\\hat{x}_i}}{\\partial{\\mu}} = \\frac{\\partial}{\\partial{\\mu}} \\left[ \\frac{x_i - \\mu}{\\sqrt{\\sigma^2 + \\epsilon}}\\right] = -(\\sigma^2 + \\epsilon)^{-1/2}$$"
   ]
  },
  {
   "cell_type": "markdown",
   "metadata": {},
   "source": [
    "$$\\frac{\\partial{\\sigma^2}}{\\partial{\\mu}} = \\frac{\\partial}{\\partial{\\mu}} \\left[ \\frac{1}{m - 1} \\sum_i (x_i - \\mu)^2\\right]$$\n",
    "\n",
    "$$\\frac{\\partial{\\sigma^2}}{\\partial{\\mu}} = -\\frac{2}{m - 1} \\sum_i (x_i - \\mu) = -\\frac{2}{m - 1} \\left(\\sum_i x_i - \\sum_i \\mu \\right) = -\\frac{2}{m - 1} (m \\mu - m \\mu) = 0$$\n",
    "\n",
    "$$\\Downarrow$$"
   ]
  },
  {
   "cell_type": "markdown",
   "metadata": {},
   "source": [
    "$$\\frac{\\partial{loss}}{\\partial{\\mu}} = - \\sum_i \\frac{\\partial{loss}}{\\partial{y_i}} \\gamma (\\sigma^2 + \\epsilon)^{-1/2}$$"
   ]
  },
  {
   "cell_type": "markdown",
   "metadata": {},
   "source": [
    "## (4) dloss/dxi"
   ]
  },
  {
   "cell_type": "markdown",
   "metadata": {},
   "source": [
    "$$\\frac{\\partial{loss}}{\\partial{x}_i} = \\frac{\\partial{loss}}{\\partial{\\hat{x}_i}} \\frac{\\partial{\\hat{x}_i}}{\\partial{x_i}} + \\frac{\\partial{loss}}{\\partial{\\mu}} \\frac{\\partial{\\mu}}{\\partial{x_i}} + \\frac{\\partial{loss}}{\\partial{\\sigma^2}} \\frac{\\partial{\\sigma^2}}{\\partial{x_i}}$$"
   ]
  },
  {
   "cell_type": "markdown",
   "metadata": {},
   "source": [
    "$$\\frac{\\partial{\\hat{x_i}}}{\\partial{x_i}} = (\\sigma^2 + \\epsilon)^{-1/2}$$"
   ]
  },
  {
   "cell_type": "markdown",
   "metadata": {},
   "source": [
    "$$\\frac{\\partial{\\mu}}{\\partial{x_i}} = \\frac{1}{m}$$"
   ]
  },
  {
   "cell_type": "markdown",
   "metadata": {},
   "source": [
    "$$\\frac{\\partial{\\sigma^2}}{\\partial{x_i}} = \\frac{2}{m - 1} (x_i - \\mu)$$"
   ]
  },
  {
   "cell_type": "markdown",
   "metadata": {},
   "source": [
    "Now we can plug in everything we have computed into the formula. It should be noted that under the summation we are using a different letter - $j$. This is due to the fact that now in these nodes we are in fact using a different local variable (iterator) which is different from $i$."
   ]
  },
  {
   "cell_type": "markdown",
   "metadata": {},
   "source": [
    "$$\\frac{\\partial{loss}}{\\partial{x_i}} = \\frac{\\partial{loss}}{\\partial{y_i}} \\gamma (\\sigma^2 + \\epsilon)^{-1/2} + \\left(-\\sum_{j} \\frac{\\partial{loss}}{\\partial{y_j}} \\gamma (\\sigma^2 + \\epsilon)^{-1/2}\\right) \\frac{1}{m} + \\left(-\\frac{1}{2} \\gamma \\sum_{j} \\frac{\\partial{loss}}{\\partial{y_j}} (x_j - \\mu) (\\sigma^2 + \\epsilon)^{-3/2}\\right) \\left(\\frac{2}{m - 1} (x_i - \\mu)\\right)$$"
   ]
  },
  {
   "cell_type": "markdown",
   "metadata": {},
   "source": [
    "$$\\frac{\\partial{loss}}{\\partial{x_i}} = (\\sigma^2 + \\epsilon)^{-1/2} \\left(\\frac{\\partial{loss}}{\\partial{y_i}} \\gamma\\right) + (\\sigma^2 + \\epsilon)^{-1/2} \\left(-\\frac{1}{m} \\sum_{j} \\frac{\\partial{loss}}{\\partial{y_j}} \\gamma\\right) + (\\sigma^2 + \\epsilon)^{-1/2} \\left(-\\gamma \\sum_{j} \\frac{\\partial{loss}}{\\partial{y_j}} \\frac{x_j - \\mu}{\\sqrt{\\sigma^2 + \\epsilon}} \\right) \\left(\\frac{1}{m - 1} \\frac{x_i - \\mu}{\\sqrt{\\sigma^2 + \\epsilon}} \\right)$$"
   ]
  },
  {
   "cell_type": "markdown",
   "metadata": {},
   "source": [
    "Using the fact that $\\hat{x}_j = \\frac{x_j - \\mu}{\\sqrt{\\sigma^2 + \\epsilon}}$, we get the following:"
   ]
  },
  {
   "cell_type": "markdown",
   "metadata": {},
   "source": [
    "$$\\frac{\\partial{loss}}{\\partial{x_i}} = (\\sigma^2 + \\epsilon)^{-1/2} \\left(\\frac{\\partial{loss}}{\\partial{y_i}} \\gamma\\right) + (\\sigma^2 + \\epsilon)^{-1/2} \\left(-\\frac{1}{m} \\sum_{j} \\frac{\\partial{loss}}{\\partial{y_j}} \\gamma\\right) + (\\sigma^2 + \\epsilon)^{-1/2} \\left(-\\gamma \\sum_{j} \\frac{\\partial{loss}}{\\partial{y_j}} \\hat{x}_j \\right) \\left(\\frac{1}{m - 1} \\hat{x}_i \\right)$$"
   ]
  },
  {
   "cell_type": "markdown",
   "metadata": {},
   "source": [
    "Rearranging the terms we achieve:"
   ]
  },
  {
   "cell_type": "markdown",
   "metadata": {},
   "source": [
    "$$\\frac{\\partial{loss}}{\\partial{x_i}} = \\frac{\\gamma (\\sigma^2 + \\epsilon)^{-1/2}}{m} \\left[m \\frac{\\partial{loss}}{\\partial{y_i}} - \\sum_{j} \\frac{\\partial{loss}}{\\partial{y_j}} - \\frac{m}{m - 1} \\hat{x}_i \\sum_{j} \\frac{\\partial{loss}}{\\partial{y_j}} \\hat{x}_j \\right]$$"
   ]
  },
  {
   "cell_type": "code",
   "execution_count": 18,
   "metadata": {
    "id": "hd-MkhB68PPy"
   },
   "outputs": [
    {
     "name": "stdout",
     "output_type": "stream",
     "text": [
      "max diff: tensor(4.7684e-07, grad_fn=<MaxBackward1>)\n"
     ]
    }
   ],
   "source": [
    "# Computing the batchnorm layer pre-activation output\n",
    "hpreact_fast = bngain * (hprebn - hprebn.mean(0, keepdim=True)) / torch.sqrt(hprebn.var(0, keepdim=True, unbiased=True) + 1e-5) + bnbias\n",
    "\n",
    "# Verifying the calculations accuracy\n",
    "print('max diff:', (hpreact_fast - hpreact).abs().max())"
   ]
  },
  {
   "cell_type": "markdown",
   "metadata": {},
   "source": [
    "Now we have to remember that the result obtained is actually valid only for $i$-th example. The result for all the examples is as follows:"
   ]
  },
  {
   "cell_type": "code",
   "execution_count": 19,
   "metadata": {
    "id": "POdeZSKT8PPy"
   },
   "outputs": [
    {
     "name": "stdout",
     "output_type": "stream",
     "text": [
      "hprebn          | exact: False | approximate: True  | maxdiff: 9.313225746154785e-10\n"
     ]
    }
   ],
   "source": [
    "# Computing \"dloss/dhprebn\"\n",
    "dhprebn = bngain * bnvar_inv / n * (n * dhpreact - dhpreact.sum(0) - (n/(n - 1)) * bnraw * (dhpreact * bnraw).sum(0))\n",
    "\n",
    "cmp('hprebn', dhprebn, hprebn)"
   ]
  },
  {
   "cell_type": "code",
   "execution_count": 20,
   "metadata": {},
   "outputs": [
    {
     "data": {
      "text/plain": [
       "tensor([[-3.1025e-04, -8.4169e-04,  1.0243e-03,  ..., -2.1567e-04,\n",
       "         -8.1702e-04, -8.2894e-04],\n",
       "        [-1.3621e-04,  1.9076e-03,  4.3757e-04,  ...,  5.6336e-04,\n",
       "         -2.2792e-03, -2.3008e-03],\n",
       "        [ 2.1828e-04,  2.0248e-03,  5.6559e-04,  ...,  2.7925e-03,\n",
       "         -7.0843e-05,  5.5493e-04],\n",
       "        ...,\n",
       "        [-7.7563e-04,  2.0592e-03, -1.0180e-03,  ..., -2.3206e-03,\n",
       "         -1.9440e-03, -1.3700e-03],\n",
       "        [-5.6938e-04,  1.0506e-04, -1.1283e-03,  ...,  1.8434e-04,\n",
       "          3.0653e-04,  1.1022e-03],\n",
       "        [-1.2449e-04,  4.2053e-03,  2.5430e-03,  ..., -7.7906e-04,\n",
       "          4.3721e-04,  6.4878e-04]])"
      ]
     },
     "execution_count": 20,
     "metadata": {},
     "output_type": "execute_result"
    }
   ],
   "source": [
    "hprebn.grad"
   ]
  },
  {
   "cell_type": "code",
   "execution_count": 21,
   "metadata": {},
   "outputs": [
    {
     "data": {
      "text/plain": [
       "tensor([[-3.1025e-04, -8.4169e-04,  1.0243e-03,  ..., -2.1567e-04,\n",
       "         -8.1702e-04, -8.2894e-04],\n",
       "        [-1.3621e-04,  1.9076e-03,  4.3757e-04,  ...,  5.6336e-04,\n",
       "         -2.2792e-03, -2.3008e-03],\n",
       "        [ 2.1828e-04,  2.0248e-03,  5.6559e-04,  ...,  2.7925e-03,\n",
       "         -7.0843e-05,  5.5493e-04],\n",
       "        ...,\n",
       "        [-7.7563e-04,  2.0592e-03, -1.0180e-03,  ..., -2.3206e-03,\n",
       "         -1.9440e-03, -1.3700e-03],\n",
       "        [-5.6938e-04,  1.0506e-04, -1.1283e-03,  ...,  1.8434e-04,\n",
       "          3.0653e-04,  1.1022e-03],\n",
       "        [-1.2449e-04,  4.2053e-03,  2.5430e-03,  ..., -7.7906e-04,\n",
       "          4.3721e-04,  6.4878e-04]], grad_fn=<MulBackward0>)"
      ]
     },
     "execution_count": 21,
     "metadata": {},
     "output_type": "execute_result"
    }
   ],
   "source": [
    "dhprebn"
   ]
  }
 ],
 "metadata": {
  "colab": {
   "provenance": []
  },
  "kernelspec": {
   "display_name": "Python 3 (ipykernel)",
   "language": "python",
   "name": "python3"
  },
  "language_info": {
   "codemirror_mode": {
    "name": "ipython",
    "version": 3
   },
   "file_extension": ".py",
   "mimetype": "text/x-python",
   "name": "python",
   "nbconvert_exporter": "python",
   "pygments_lexer": "ipython3",
   "version": "3.9.18"
  }
 },
 "nbformat": 4,
 "nbformat_minor": 4
}
