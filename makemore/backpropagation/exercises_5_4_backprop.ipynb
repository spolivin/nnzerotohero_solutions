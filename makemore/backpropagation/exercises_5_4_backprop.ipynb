{
 "cells": [
  {
   "cell_type": "markdown",
   "metadata": {
    "id": "rToK0Tku8PPn"
   },
   "source": [
    "# Preraring the data"
   ]
  },
  {
   "cell_type": "markdown",
   "metadata": {},
   "source": [
    "## Importing packages"
   ]
  },
  {
   "cell_type": "code",
   "execution_count": 1,
   "metadata": {
    "id": "ChBbac4y8PPq"
   },
   "outputs": [],
   "source": [
    "import random\n",
    "\n",
    "import torch\n",
    "import torch.nn.functional as F\n",
    "import matplotlib.pyplot as plt\n",
    "%matplotlib inline\n",
    "from tqdm import notebook\n",
    "\n",
    "RANDOM_SEED = 42\n",
    "TORCH_GEN_SEED = 2147483647"
   ]
  },
  {
   "cell_type": "markdown",
   "metadata": {},
   "source": [
    "## Loading the data"
   ]
  },
  {
   "cell_type": "code",
   "execution_count": 2,
   "metadata": {
    "id": "klmu3ZG08PPr"
   },
   "outputs": [
    {
     "data": {
      "text/plain": [
       "['emma',\n",
       " 'olivia',\n",
       " 'ava',\n",
       " 'isabella',\n",
       " 'sophia',\n",
       " 'charlotte',\n",
       " 'mia',\n",
       " 'amelia',\n",
       " 'harper',\n",
       " 'evelyn']"
      ]
     },
     "execution_count": 2,
     "metadata": {},
     "output_type": "execute_result"
    }
   ],
   "source": [
    "# Opening the dataset with names and reading its content into a variable\n",
    "words = open(\"../names.txt\", \"r\").read().splitlines()\n",
    "words[:10]"
   ]
  },
  {
   "cell_type": "markdown",
   "metadata": {},
   "source": [
    "## Building the vocabulary and creating character-number mappings"
   ]
  },
  {
   "cell_type": "code",
   "execution_count": 3,
   "metadata": {
    "id": "BCQomLE_8PPs"
   },
   "outputs": [
    {
     "name": "stdout",
     "output_type": "stream",
     "text": [
      "Character -> Identifier:\n",
      "{'a': 1, 'b': 2, 'c': 3, 'd': 4, 'e': 5, 'f': 6, 'g': 7, 'h': 8, 'i': 9, 'j': 10, 'k': 11, 'l': 12, 'm': 13, 'n': 14, 'o': 15, 'p': 16, 'q': 17, 'r': 18, 's': 19, 't': 20, 'u': 21, 'v': 22, 'w': 23, 'x': 24, 'y': 25, 'z': 26, '.': 0}\n",
      "\n",
      "Identifier -> Character:\n",
      "{1: 'a', 2: 'b', 3: 'c', 4: 'd', 5: 'e', 6: 'f', 7: 'g', 8: 'h', 9: 'i', 10: 'j', 11: 'k', 12: 'l', 13: 'm', 14: 'n', 15: 'o', 16: 'p', 17: 'q', 18: 'r', 19: 's', 20: 't', 21: 'u', 22: 'v', 23: 'w', 24: 'x', 25: 'y', 26: 'z', 0: '.'}\n",
      "\n",
      "Vocabulary size: 27\n"
     ]
    }
   ],
   "source": [
    "# Retrieving a set of unique letters\n",
    "chars = sorted(list(set(''.join(words))))\n",
    "\n",
    "# Creating a mapping from a letter to an id\n",
    "char2id = {s: i+1 for i, s in enumerate(chars)}\n",
    "# Adding the start_of_word/end_of_word token => \".\"\n",
    "char2id['.'] = 0\n",
    "\n",
    "# Creating a mapping from an id to letter\n",
    "id2char = {i: s for s, i in char2id.items()}\n",
    "\n",
    "# Computing the size of the vocabulary\n",
    "vocab_size = len(id2char)\n",
    "\n",
    "# Displaying the mappings and vocab size\n",
    "print(\"Character -> Identifier:\")\n",
    "print(char2id)\n",
    "print()\n",
    "print(\"Identifier -> Character:\")\n",
    "print(id2char)\n",
    "print()\n",
    "print(f\"Vocabulary size: {vocab_size}\")"
   ]
  },
  {
   "cell_type": "markdown",
   "metadata": {},
   "source": [
    "## Splitting the data"
   ]
  },
  {
   "cell_type": "code",
   "execution_count": 4,
   "metadata": {},
   "outputs": [
    {
     "name": "stdout",
     "output_type": "stream",
     "text": [
      "Training set: 0-25,625\n",
      "Development set: 25,626-28,828\n",
      "Testing set: 28,829-32,032\n",
      "\n",
      "Total words: 32,033\n"
     ]
    }
   ],
   "source": [
    "# Setting the random seed and reshuffling names\n",
    "random.seed(RANDOM_SEED)\n",
    "random.shuffle(words)\n",
    "\n",
    "# Determining cutoff points for 10% dev and 10% test\n",
    "cutoff_train = int(0.8*len(words))\n",
    "cutoff_dev = int(0.9*len(words))\n",
    "\n",
    "print(f\"Training set: {0}-{cutoff_train-1:,}\")\n",
    "print(f\"Development set: {cutoff_train:,}-{cutoff_dev-1:,}\")\n",
    "print(f\"Testing set: {cutoff_dev:,}-{len(words)-1:,}\")\n",
    "\n",
    "print(f\"\\nTotal words: {len(words):,}\")"
   ]
  },
  {
   "cell_type": "code",
   "execution_count": 5,
   "metadata": {},
   "outputs": [
    {
     "name": "stdout",
     "output_type": "stream",
     "text": [
      "Training set examples: 25,626 (80%)\n",
      "Development set examples: 3,203 (10%)\n",
      "Testing set examples: 3,204 (10%)\n"
     ]
    }
   ],
   "source": [
    "# Allocating shuffled words into three sets\n",
    "words_train = words[:cutoff_train]\n",
    "words_dev = words[cutoff_train:cutoff_dev]\n",
    "words_test = words[cutoff_dev:]\n",
    "\n",
    "print(f\"Training set examples: {len(words_train):,} ({len(words_train)/len(words):.0%})\")\n",
    "print(f\"Development set examples: {len(words_dev):,} ({len(words_dev)/len(words):.0%})\")\n",
    "print(f\"Testing set examples: {len(words_test):,} ({len(words_test)/len(words):.0%})\")"
   ]
  },
  {
   "cell_type": "code",
   "execution_count": 6,
   "metadata": {},
   "outputs": [],
   "source": [
    "def build_dataset(words, block_size):\n",
    "    # Preallocating lists for dataset\n",
    "    X, Y = [], []\n",
    "    for word in words:\n",
    "        # Creating a starting examples depending on block size\n",
    "        context = [0] * block_size\n",
    "        # Iterating through entire word with end of word token\n",
    "        for char in word + '.':\n",
    "            index = char2id[char]\n",
    "            X.append(context)\n",
    "            Y.append(index)\n",
    "            # Adding the character index and shifting\n",
    "            context = context[1:] + [index]\n",
    "    \n",
    "    # Casting as PyTorch tensors\n",
    "    X = torch.tensor(X)\n",
    "    Y = torch.tensor(Y)\n",
    "    \n",
    "    return X, Y"
   ]
  },
  {
   "cell_type": "code",
   "execution_count": 7,
   "metadata": {},
   "outputs": [],
   "source": [
    "# Setting the block size (number of character to use to predict the next one)\n",
    "block_size = 3\n",
    "\n",
    "# Building the datasets for three sets\n",
    "X_train, Y_train = build_dataset(\n",
    "    words=words_train, block_size=block_size,\n",
    ")\n",
    "X_dev, Y_dev = build_dataset(\n",
    "    words=words_dev, block_size=block_size,\n",
    ")\n",
    "X_test, Y_test = build_dataset(\n",
    "    words=words_test, block_size=block_size,\n",
    ")"
   ]
  },
  {
   "cell_type": "code",
   "execution_count": 8,
   "metadata": {},
   "outputs": [],
   "source": [
    "def cmp(s, dt, t):\n",
    "    \"\"\"Compares manual gradients to Pytorch gradients.\"\"\"\n",
    "    # Returning True if all gradients are exactly equal\n",
    "    ex = torch.all(dt == t.grad).item()\n",
    "    # Returning True if all gradients are approximately equal\n",
    "    app = torch.allclose(dt, t.grad)\n",
    "    # Computing the maximum difference between gradients\n",
    "    maxdiff = (dt - t.grad).abs().max().item()\n",
    "    # Printing the comparison information\n",
    "    print(f'{s:15s} | exact: {str(ex):5s} | approximate: {str(app):5s} | maxdiff: {maxdiff}')"
   ]
  },
  {
   "cell_type": "markdown",
   "metadata": {},
   "source": [
    "# Exercise 4: Training MLP with a manual backward pass"
   ]
  },
  {
   "cell_type": "markdown",
   "metadata": {},
   "source": [
    "## Verifying the gradients"
   ]
  },
  {
   "cell_type": "markdown",
   "metadata": {},
   "source": [
    "Firstly, we will initialize and train the MLP for a few iterations and then compare the manually computed gradients with torch gradients:"
   ]
  },
  {
   "cell_type": "code",
   "execution_count": 9,
   "metadata": {},
   "outputs": [],
   "source": [
    "n_embd = 10\n",
    "n_hidden = 200\n",
    "generator = torch.Generator().manual_seed(TORCH_GEN_SEED)"
   ]
  },
  {
   "cell_type": "code",
   "execution_count": 10,
   "metadata": {},
   "outputs": [
    {
     "name": "stdout",
     "output_type": "stream",
     "text": [
      "Number of trainable parameters: 12,297\n"
     ]
    }
   ],
   "source": [
    "C  = torch.randn((vocab_size, n_embd), generator=generator)\n",
    "\n",
    "W1 = torch.randn((n_embd * block_size, n_hidden), generator=generator)\n",
    "W1 *= (5 / 3) / ((n_embd * block_size)**0.5)\n",
    "b1 = torch.randn(n_hidden, generator=generator) * 0.1\n",
    "\n",
    "W2 = torch.randn((n_hidden, vocab_size), generator=generator) * 0.1\n",
    "b2 = torch.randn(vocab_size, generator=generator) * 0.1\n",
    "\n",
    "bngain = torch.randn((1, n_hidden)) * 0.1 + 1.0\n",
    "bnbias = torch.randn((1, n_hidden)) * 0.1\n",
    "\n",
    "parameters = [C, W1, b1, W2, b2, bngain, bnbias]\n",
    "num_params = sum(p.nelement() for p in parameters)\n",
    "print(f\"Number of trainable parameters: {num_params:,}\")\n",
    "\n",
    "for p in parameters:\n",
    "    p.requires_grad = True"
   ]
  },
  {
   "cell_type": "code",
   "execution_count": 11,
   "metadata": {},
   "outputs": [],
   "source": [
    "max_steps = 200000\n",
    "batch_size = 32\n",
    "n = batch_size\n",
    "lossi = []"
   ]
  },
  {
   "cell_type": "code",
   "execution_count": 12,
   "metadata": {
    "id": "wPy8DhqB8PPz"
   },
   "outputs": [
    {
     "name": "stdout",
     "output_type": "stream",
     "text": [
      "      0/ 200000: 3.8135\n"
     ]
    }
   ],
   "source": [
    "for i in range(max_steps):\n",
    "\n",
    "    # Constructing the minibatch\n",
    "    ix = torch.randint(0, X_train.shape[0], (batch_size,), generator=generator)\n",
    "    Xb, Yb = X_train[ix], Y_train[ix]\n",
    "    \n",
    "    # Forward pass\n",
    "    emb = C[Xb]\n",
    "    embcat = emb.view(emb.shape[0], -1)\n",
    "    # -------------------------------------------------------------\n",
    "    # Linear layer\n",
    "    # -------------------------------------------------------------\n",
    "    hprebn = embcat @ W1 + b1\n",
    "    # -------------------------------------------------------------\n",
    "    # BatchNorm layer\n",
    "    # -------------------------------------------------------------\n",
    "    bnmean = hprebn.mean(0, keepdim=True)\n",
    "    bnvar = hprebn.var(0, keepdim=True, unbiased=True)\n",
    "    bnvar_inv = (bnvar + 1e-5)**-0.5\n",
    "    bnraw = (hprebn - bnmean) * bnvar_inv\n",
    "    hpreact = bngain * bnraw + bnbias\n",
    "    # -------------------------------------------------------------\n",
    "    # Tanh-nonlinearity\n",
    "    # -------------------------------------------------------------\n",
    "    h = torch.tanh(hpreact)\n",
    "    logits = h @ W2 + b2\n",
    "    loss = F.cross_entropy(logits, Yb)\n",
    "    # -------------------------------------------------------------\n",
    "    \n",
    "    \n",
    "    \n",
    "    \n",
    "    # Backward pass (Using autograd for gradient verification)\n",
    "    for p in parameters:\n",
    "        p.grad = None\n",
    "    loss.backward()\n",
    "    \n",
    "    # Manual backpropagation (from Exercises 1, 2, 3)\n",
    "    # -------------------------------------------------------------\n",
    "    # Cross-entropy backprop (Exercise 2)\n",
    "    # -------------------------------------------------------------\n",
    "    dlogits = F.softmax(logits, 1)\n",
    "    dlogits[range(n), Yb] -= 1\n",
    "    dlogits /= n\n",
    "    # -------------------------------------------------------------\n",
    "    # 2nd layer backprop\n",
    "    # -------------------------------------------------------------\n",
    "    dh = dlogits @ W2.T\n",
    "    dW2 = h.T @ dlogits\n",
    "    db2 = dlogits.sum(0)\n",
    "    # -------------------------------------------------------------\n",
    "    # Tanh backprop\n",
    "    # -------------------------------------------------------------\n",
    "    dhpreact = (1.0 - h**2) * dh\n",
    "    # -------------------------------------------------------------\n",
    "    # Batchnorm backprop (Exercise 3)\n",
    "    # -------------------------------------------------------------\n",
    "    dbngain = (bnraw * dhpreact).sum(0, keepdim=True)\n",
    "    dbnbias = dhpreact.sum(0, keepdim=True)\n",
    "    dhprebn = bngain*bnvar_inv/n * (n*dhpreact - dhpreact.sum(0) - n/(n-1)*bnraw*(dhpreact*bnraw).sum(0))\n",
    "    # -------------------------------------------------------------\n",
    "    # 1st layer backprop\n",
    "    # -------------------------------------------------------------\n",
    "    dembcat = dhprebn @ W1.T\n",
    "    dW1 = embcat.T @ dhprebn\n",
    "    db1 = dhprebn.sum(0)\n",
    "    # -------------------------------------------------------------\n",
    "    # Embedding backprop\n",
    "    # -------------------------------------------------------------\n",
    "    demb = dembcat.view(emb.shape)\n",
    "    dC = torch.zeros_like(C)\n",
    "    for k in range(Xb.shape[0]):\n",
    "        for j in range(Xb.shape[1]):\n",
    "            ix = Xb[k,j]\n",
    "            dC[ix] += demb[k,j]\n",
    "    # -------------------------------------------------------------\n",
    "    \n",
    "    # Collecting all computed gradients\n",
    "    grads = [dC, dW1, db1, dW2, db2, dbngain, dbnbias]\n",
    "  \n",
    "    # Updating using learning rate decay\n",
    "    lr = 0.1 if i < 100000 else 0.01\n",
    "    for p, grad in zip(parameters, grads):\n",
    "        p.data += -lr * p.grad\n",
    "    \n",
    "    # Tracking statistics\n",
    "    if i % 10000 == 0:\n",
    "        print(f'{i:7d}/{max_steps:7d}: {loss.item():.4f}')\n",
    "    lossi.append(loss.log10().item())\n",
    "    \n",
    "    # Running for 100 interations\n",
    "    if i >= 100:\n",
    "        break"
   ]
  },
  {
   "cell_type": "code",
   "execution_count": 13,
   "metadata": {
    "id": "ZEpI0hMW8PPz"
   },
   "outputs": [
    {
     "name": "stdout",
     "output_type": "stream",
     "text": [
      "(27, 10)        | exact: False | approximate: True  | maxdiff: 1.1874362826347351e-08\n",
      "(30, 200)       | exact: False | approximate: True  | maxdiff: 9.313225746154785e-09\n",
      "(200,)          | exact: False | approximate: True  | maxdiff: 4.6566128730773926e-09\n",
      "(200, 27)       | exact: False | approximate: True  | maxdiff: 1.4901161193847656e-08\n",
      "(27,)           | exact: False | approximate: True  | maxdiff: 7.450580596923828e-09\n",
      "(1, 200)        | exact: False | approximate: True  | maxdiff: 3.725290298461914e-09\n",
      "(1, 200)        | exact: False | approximate: True  | maxdiff: 5.587935447692871e-09\n"
     ]
    }
   ],
   "source": [
    "# Checking gradients\n",
    "for p, g in zip(parameters, grads):\n",
    "    cmp(str(tuple(p.shape)), g, p)"
   ]
  },
  {
   "cell_type": "markdown",
   "metadata": {},
   "source": [
    "We see that our backward pass works correctly so we can now implement the neural net without torch autograd mechanism."
   ]
  },
  {
   "cell_type": "markdown",
   "metadata": {},
   "source": [
    "## MLP from scratch"
   ]
  },
  {
   "cell_type": "markdown",
   "metadata": {},
   "source": [
    "### Initialization"
   ]
  },
  {
   "cell_type": "code",
   "execution_count": 14,
   "metadata": {},
   "outputs": [],
   "source": [
    "n_embd = 10\n",
    "n_hidden = 200\n",
    "generator = torch.Generator().manual_seed(TORCH_GEN_SEED)"
   ]
  },
  {
   "cell_type": "code",
   "execution_count": 15,
   "metadata": {},
   "outputs": [
    {
     "name": "stdout",
     "output_type": "stream",
     "text": [
      "Number of trainable parameters: 12,297\n"
     ]
    }
   ],
   "source": [
    "C  = torch.randn((vocab_size, n_embd), generator=generator)\n",
    "\n",
    "W1 = torch.randn((n_embd * block_size, n_hidden), generator=generator)\n",
    "W1 *= (5 / 3) / ((n_embd * block_size)**0.5)\n",
    "b1 = torch.randn(n_hidden, generator=generator) * 0.1\n",
    "\n",
    "W2 = torch.randn((n_hidden, vocab_size), generator=generator) * 0.1\n",
    "b2 = torch.randn(vocab_size, generator=generator) * 0.1\n",
    "\n",
    "bngain = torch.randn((1, n_hidden)) * 0.1 + 1.0\n",
    "bnbias = torch.randn((1, n_hidden)) * 0.1\n",
    "\n",
    "parameters = [C, W1, b1, W2, b2, bngain, bnbias]\n",
    "num_params = sum(p.nelement() for p in parameters)\n",
    "print(f\"Number of trainable parameters: {num_params:,}\")\n",
    "\n",
    "for p in parameters:\n",
    "    p.requires_grad = True"
   ]
  },
  {
   "cell_type": "markdown",
   "metadata": {},
   "source": [
    "### Training"
   ]
  },
  {
   "cell_type": "markdown",
   "metadata": {},
   "source": [
    "To save time, we will run the training loop for 50000 iterations."
   ]
  },
  {
   "cell_type": "code",
   "execution_count": 16,
   "metadata": {},
   "outputs": [],
   "source": [
    "max_steps = 50000\n",
    "batch_size = 32\n",
    "n = batch_size\n",
    "lossi = []"
   ]
  },
  {
   "cell_type": "markdown",
   "metadata": {},
   "source": [
    "Since we will not be using autograd functionality, we can specify in advance that no gradients will be computed (ther will be no `backward()` call) by using `torch.no_grad()` context manager:"
   ]
  },
  {
   "cell_type": "code",
   "execution_count": 17,
   "metadata": {},
   "outputs": [
    {
     "data": {
      "application/vnd.jupyter.widget-view+json": {
       "model_id": "28387aa7bc084876963357b7a388329c",
       "version_major": 2,
       "version_minor": 0
      },
      "text/plain": [
       "  0%|          | 0/50000 [00:00<?, ?it/s]"
      ]
     },
     "metadata": {},
     "output_type": "display_data"
    },
    {
     "name": "stdout",
     "output_type": "stream",
     "text": [
      "      0/  50000: 3.8197\n",
      "   5000/  50000: 2.2817\n",
      "  10000/  50000: 2.1724\n",
      "  15000/  50000: 2.1108\n",
      "  20000/  50000: 2.4136\n",
      "  25000/  50000: 2.3025\n",
      "  30000/  50000: 2.3608\n",
      "  35000/  50000: 2.2418\n",
      "  40000/  50000: 2.0018\n",
      "  45000/  50000: 1.7366\n"
     ]
    }
   ],
   "source": [
    "with torch.no_grad():\n",
    "\n",
    "    for i in notebook.tqdm(range(max_steps)):\n",
    "\n",
    "        # Contructing minibatch\n",
    "        ix = torch.randint(0, X_train.shape[0], (batch_size,), generator=generator)\n",
    "        Xb, Yb = X_train[ix], Y_train[ix]\n",
    "        \n",
    "        # Forward pass\n",
    "        emb = C[Xb]\n",
    "        embcat = emb.view(emb.shape[0], -1)\n",
    "        # -------------------------------------------------------------\n",
    "        # Linear layer\n",
    "        # -------------------------------------------------------------\n",
    "        hprebn = embcat @ W1 + b1\n",
    "        # -------------------------------------------------------------\n",
    "        # BatchNorm layer\n",
    "        # -------------------------------------------------------------\n",
    "        bnmean = hprebn.mean(0, keepdim=True)\n",
    "        bnvar = hprebn.var(0, keepdim=True, unbiased=True)\n",
    "        bnvar_inv = (bnvar + 1e-5)**-0.5\n",
    "        bnraw = (hprebn - bnmean) * bnvar_inv\n",
    "        hpreact = bngain * bnraw + bnbias\n",
    "        # -------------------------------------------------------------\n",
    "        # Tanh-nonlinearity\n",
    "        # -------------------------------------------------------------\n",
    "        h = torch.tanh(hpreact)\n",
    "        logits = h @ W2 + b2\n",
    "        loss = F.cross_entropy(logits, Yb)\n",
    "        # -------------------------------------------------------------\n",
    "        \n",
    "        \n",
    "        \n",
    "        # Manual backpropagation\n",
    "        # -------------------------------------------------------------\n",
    "        # Cross-entropy backprop\n",
    "        # -------------------------------------------------------------\n",
    "        dlogits = F.softmax(logits, 1)\n",
    "        dlogits[range(n), Yb] -= 1\n",
    "        dlogits /= n\n",
    "        # -------------------------------------------------------------\n",
    "        # 2nd layer backprop\n",
    "        # -------------------------------------------------------------\n",
    "        dh = dlogits @ W2.T\n",
    "        dW2 = h.T @ dlogits\n",
    "        db2 = dlogits.sum(0)\n",
    "        # -------------------------------------------------------------\n",
    "        # Tanh-backprop\n",
    "        # -------------------------------------------------------------\n",
    "        dhpreact = (1.0 - h**2) * dh\n",
    "        # -------------------------------------------------------------\n",
    "        # Batchnorm backprop\n",
    "        # -------------------------------------------------------------\n",
    "        dbngain = (bnraw * dhpreact).sum(0, keepdim=True)\n",
    "        dbnbias = dhpreact.sum(0, keepdim=True)\n",
    "        dhprebn = bngain*bnvar_inv/n * (n*dhpreact - dhpreact.sum(0) - n/(n-1)*bnraw*(dhpreact*bnraw).sum(0))\n",
    "        # -------------------------------------------------------------\n",
    "        # 1st layer backprop\n",
    "        # -------------------------------------------------------------\n",
    "        dembcat = dhprebn @ W1.T\n",
    "        dW1 = embcat.T @ dhprebn\n",
    "        db1 = dhprebn.sum(0)\n",
    "        # -------------------------------------------------------------\n",
    "        # Embedding backprop\n",
    "        # -------------------------------------------------------------\n",
    "        demb = dembcat.view(emb.shape)\n",
    "        dC = torch.zeros_like(C)\n",
    "        for k in range(Xb.shape[0]):\n",
    "            for j in range(Xb.shape[1]):\n",
    "                ix = Xb[k,j]\n",
    "                dC[ix] += demb[k,j]\n",
    "        # -------------------------------------------------------------\n",
    "        \n",
    "        # Collecting the gradients\n",
    "        grads = [dC, dW1, db1, dW2, db2, dbngain, dbnbias]\n",
    "\n",
    "        # Updating using learning rate decay\n",
    "        lr = 0.1 if i < 25000 else 0.01\n",
    "        for p, grad in zip(parameters, grads):\n",
    "            p.data += -lr * grad \n",
    "        \n",
    "        # Tracking statistics\n",
    "        if i % 5000 == 0:\n",
    "            print(f'{i:7d}/{max_steps:7d}: {loss.item():.4f}')\n",
    "        lossi.append(loss.log10().item())"
   ]
  },
  {
   "cell_type": "markdown",
   "metadata": {},
   "source": [
    "### Evaluation"
   ]
  },
  {
   "cell_type": "code",
   "execution_count": 18,
   "metadata": {
    "id": "KImLWNoh8PP0"
   },
   "outputs": [],
   "source": [
    "# Calibrating batch norm at the end of training\n",
    "with torch.no_grad():\n",
    "    emb = C[X_train]\n",
    "    embcat = emb.view(emb.shape[0], -1)\n",
    "    hpreact = embcat @ W1 + b1\n",
    "    # Computing the mean/std over the entire training set\n",
    "    bnmean = hpreact.mean(0, keepdim=True)\n",
    "    bnvar = hpreact.var(0, keepdim=True, unbiased=True)"
   ]
  },
  {
   "cell_type": "code",
   "execution_count": 19,
   "metadata": {
    "id": "6aFnP_Zc8PP0"
   },
   "outputs": [],
   "source": [
    "@torch.no_grad()\n",
    "def split_loss(split):\n",
    "    \"\"\"Evaluates the neural net performance on data sets.\"\"\"\n",
    "    x,y = {\n",
    "      'train': (X_train, Y_train),\n",
    "      'val': (X_dev, Y_dev),\n",
    "      'test': (X_test, Y_test),\n",
    "    }[split]\n",
    "    emb = C[x]\n",
    "    embcat = emb.view(emb.shape[0], -1)\n",
    "    hpreact = embcat @ W1 + b1\n",
    "    hpreact = bngain * (hpreact - bnmean) * (bnvar + 1e-5)**-0.5 + bnbias\n",
    "    h = torch.tanh(hpreact)\n",
    "    logits = h @ W2 + b2\n",
    "    loss = F.cross_entropy(logits, y)\n",
    "    print(split, loss.item())"
   ]
  },
  {
   "cell_type": "code",
   "execution_count": 20,
   "metadata": {},
   "outputs": [
    {
     "name": "stdout",
     "output_type": "stream",
     "text": [
      "train 2.1317732334136963\n",
      "val 2.1516716480255127\n",
      "test 2.1520540714263916\n"
     ]
    }
   ],
   "source": [
    "split_loss('train')\n",
    "split_loss('val')\n",
    "split_loss('test')"
   ]
  },
  {
   "cell_type": "markdown",
   "metadata": {},
   "source": [
    "### Names generation from the model"
   ]
  },
  {
   "cell_type": "code",
   "execution_count": 21,
   "metadata": {
    "id": "xHeQNv3s8PP1"
   },
   "outputs": [
    {
     "name": "stdout",
     "output_type": "stream",
     "text": [
      "amelia\n",
      "mai\n",
      "yara\n",
      "aayle\n",
      "otbuw\n",
      "riyah\n",
      "darco\n",
      "ira\n",
      "ketman\n",
      "addon\n",
      "kele\n",
      "zalir\n",
      "sim\n",
      "pra\n",
      "damahil\n",
      "charie\n",
      "jenni\n",
      "kensi\n",
      "yomaniya\n",
      "ellle\n",
      "levynishariyah\n",
      "lie\n",
      "jahanthi\n",
      "cha\n",
      "grita\n",
      "mon\n",
      "malee\n",
      "rhylusman\n",
      "guhristen\n",
      "jay\n",
      "join\n",
      "anon\n",
      "irabellah\n",
      "torby\n",
      "peya\n",
      "brica\n",
      "myre\n",
      "lina\n",
      "ala\n",
      "rayoni\n",
      "minie\n",
      "aag\n",
      "tay\n",
      "nila\n",
      "tauilyan\n",
      "kio\n",
      "bevticonnie\n",
      "cali\n",
      "odkiraha\n",
      "wilon\n",
      "iniya\n",
      "lilley\n",
      "marody\n",
      "sha\n",
      "dhan\n",
      "matre\n",
      "grefiyanna\n",
      "kilani\n",
      "van\n",
      "loxyn\n",
      "sow\n",
      "aleigh\n",
      "briah\n",
      "xin\n",
      "muraceyson\n",
      "kalisodyn\n",
      "hary\n",
      "dego\n",
      "zen\n",
      "tem\n",
      "rea\n",
      "rozi\n",
      "zary\n",
      "lype\n",
      "kylingu\n",
      "jcoslee\n",
      "zen\n",
      "kalle\n",
      "quyanae\n",
      "ezlee\n",
      "eira\n",
      "ractany\n",
      "adhima\n",
      "jomana\n",
      "essyer\n",
      "zaant\n",
      "einna\n",
      "nik\n",
      "dochurbestyn\n",
      "aveut\n",
      "jana\n",
      "adcebdauthi\n",
      "jopelr\n",
      "trino\n",
      "kriana\n",
      "kias\n",
      "nalyanniero\n",
      "maley\n",
      "faidrentylynnield\n",
      "akolyanison\n"
     ]
    }
   ],
   "source": [
    "g = torch.Generator().manual_seed(TORCH_GEN_SEED + 42)\n",
    "\n",
    "for _ in range(100):\n",
    "\n",
    "    out = []\n",
    "    context = [0] * block_size\n",
    "    while True:\n",
    "        \n",
    "        emb = C[torch.tensor([context])]\n",
    "        embcat = emb.view(emb.shape[0], -1)\n",
    "        hpreact = embcat @ W1 + b1\n",
    "        hpreact = bngain * (hpreact - bnmean) * (bnvar + 1e-5)**-0.5 + bnbias\n",
    "        h = torch.tanh(hpreact)\n",
    "        logits = h @ W2 + b2\n",
    "        \n",
    "        probs = F.softmax(logits, dim=1)\n",
    "        ix = torch.multinomial(probs, num_samples=1, generator=g).item()\n",
    "        context = context[1:] + [ix]\n",
    "        out.append(ix)\n",
    "        if ix == 0:\n",
    "            break\n",
    "\n",
    "    print(''.join(id2char[i] for i in out)[:-1])"
   ]
  }
 ],
 "metadata": {
  "colab": {
   "provenance": []
  },
  "kernelspec": {
   "display_name": "Python 3 (ipykernel)",
   "language": "python",
   "name": "python3"
  },
  "language_info": {
   "codemirror_mode": {
    "name": "ipython",
    "version": 3
   },
   "file_extension": ".py",
   "mimetype": "text/x-python",
   "name": "python",
   "nbconvert_exporter": "python",
   "pygments_lexer": "ipython3",
   "version": "3.9.18"
  }
 },
 "nbformat": 4,
 "nbformat_minor": 4
}
