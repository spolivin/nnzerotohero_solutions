{
 "cells": [
  {
   "cell_type": "markdown",
   "id": "e43ed7e5-a28c-4ec0-80c7-aea4208cee38",
   "metadata": {},
   "source": [
    "# Exercise 1"
   ]
  },
  {
   "cell_type": "markdown",
   "id": "67c3dd86-d56f-46f1-835b-dc5a8debc4a3",
   "metadata": {},
   "source": [
    "**Task:** *Tune the hyperparameters of the training to beat my best validation loss of 2.2.*"
   ]
  },
  {
   "cell_type": "code",
   "execution_count": 1,
   "id": "d093c7b1-5543-41b3-869a-42de9583759d",
   "metadata": {},
   "outputs": [],
   "source": [
    "import random\n",
    "\n",
    "import matplotlib.pyplot as plt\n",
    "import pandas as pd\n",
    "import seaborn as sns\n",
    "import torch\n",
    "import torch.nn.functional as F\n",
    "from tqdm import notebook\n",
    "\n",
    "RANDOM_SEED = 42\n",
    "BENCHMARK_DEV_LOSS = 2.2\n",
    "\n",
    "sns.set_theme()"
   ]
  },
  {
   "cell_type": "markdown",
   "id": "aea68d70-1ac4-4ea6-962f-c55396d6ecd7",
   "metadata": {},
   "source": [
    "## Data preparation"
   ]
  },
  {
   "cell_type": "markdown",
   "id": "9e7f810c-2da4-4b73-bd1b-d07173f36773",
   "metadata": {},
   "source": [
    "We will firstly read the file with names into a variable and after that will prepare the data as before."
   ]
  },
  {
   "cell_type": "code",
   "execution_count": 2,
   "id": "56ea88f4-df49-43e2-8b1e-25fd683f76a4",
   "metadata": {},
   "outputs": [
    {
     "data": {
      "text/plain": [
       "['emma',\n",
       " 'olivia',\n",
       " 'ava',\n",
       " 'isabella',\n",
       " 'sophia',\n",
       " 'charlotte',\n",
       " 'mia',\n",
       " 'amelia',\n",
       " 'harper',\n",
       " 'evelyn']"
      ]
     },
     "execution_count": 2,
     "metadata": {},
     "output_type": "execute_result"
    }
   ],
   "source": [
    "words = open(\"../names.txt\", \"r\").read().splitlines()\n",
    "words[:10]"
   ]
  },
  {
   "cell_type": "code",
   "execution_count": 3,
   "id": "c56b1133-b556-477e-8432-5f0586d8eb51",
   "metadata": {},
   "outputs": [],
   "source": [
    "# Retrieving a set of unique letters\n",
    "chars = sorted(list(set(''.join(words))))\n",
    "\n",
    "# Creating a mapping from a letter to an id\n",
    "char2id = {s: i+1 for i, s in enumerate(chars)}\n",
    "# Adding the start_of_word/end_of_word token => \".\"\n",
    "char2id['.'] = 0\n",
    "\n",
    "# Creating a mapping from an id to letter\n",
    "id2char = {i: s for s, i in char2id.items()}"
   ]
  },
  {
   "cell_type": "code",
   "execution_count": 4,
   "id": "37a128ff-1e7e-4b95-9388-7780ce4cfd5a",
   "metadata": {},
   "outputs": [
    {
     "data": {
      "text/plain": [
       "{'a': 1,\n",
       " 'b': 2,\n",
       " 'c': 3,\n",
       " 'd': 4,\n",
       " 'e': 5,\n",
       " 'f': 6,\n",
       " 'g': 7,\n",
       " 'h': 8,\n",
       " 'i': 9,\n",
       " 'j': 10,\n",
       " 'k': 11,\n",
       " 'l': 12,\n",
       " 'm': 13,\n",
       " 'n': 14,\n",
       " 'o': 15,\n",
       " 'p': 16,\n",
       " 'q': 17,\n",
       " 'r': 18,\n",
       " 's': 19,\n",
       " 't': 20,\n",
       " 'u': 21,\n",
       " 'v': 22,\n",
       " 'w': 23,\n",
       " 'x': 24,\n",
       " 'y': 25,\n",
       " 'z': 26,\n",
       " '.': 0}"
      ]
     },
     "execution_count": 4,
     "metadata": {},
     "output_type": "execute_result"
    }
   ],
   "source": [
    "char2id"
   ]
  },
  {
   "cell_type": "code",
   "execution_count": 5,
   "id": "179373df-2e17-4672-ba5b-e8d8ece2639b",
   "metadata": {},
   "outputs": [
    {
     "data": {
      "text/plain": [
       "{1: 'a',\n",
       " 2: 'b',\n",
       " 3: 'c',\n",
       " 4: 'd',\n",
       " 5: 'e',\n",
       " 6: 'f',\n",
       " 7: 'g',\n",
       " 8: 'h',\n",
       " 9: 'i',\n",
       " 10: 'j',\n",
       " 11: 'k',\n",
       " 12: 'l',\n",
       " 13: 'm',\n",
       " 14: 'n',\n",
       " 15: 'o',\n",
       " 16: 'p',\n",
       " 17: 'q',\n",
       " 18: 'r',\n",
       " 19: 's',\n",
       " 20: 't',\n",
       " 21: 'u',\n",
       " 22: 'v',\n",
       " 23: 'w',\n",
       " 24: 'x',\n",
       " 25: 'y',\n",
       " 26: 'z',\n",
       " 0: '.'}"
      ]
     },
     "execution_count": 5,
     "metadata": {},
     "output_type": "execute_result"
    }
   ],
   "source": [
    "id2char"
   ]
  },
  {
   "cell_type": "markdown",
   "id": "17487730-c35b-4edd-9be1-57f7534001d0",
   "metadata": {},
   "source": [
    "## Creating training, dev and test sets"
   ]
  },
  {
   "cell_type": "markdown",
   "id": "49f52185-52ef-4f94-bccd-ee10ac7bf79f",
   "metadata": {},
   "source": [
    "Next, let's define which examples with appear in the training, development and test sets. The words will first be reshuffled and after words we will define the cutoff points for sets."
   ]
  },
  {
   "cell_type": "code",
   "execution_count": 6,
   "id": "d69e46c3-aa54-4786-8a43-eee0784eab10",
   "metadata": {},
   "outputs": [
    {
     "data": {
      "text/plain": [
       "32033"
      ]
     },
     "execution_count": 6,
     "metadata": {},
     "output_type": "execute_result"
    }
   ],
   "source": [
    "len(words)"
   ]
  },
  {
   "cell_type": "code",
   "execution_count": 7,
   "id": "0065a629-969f-4f41-bf39-44e3feefada5",
   "metadata": {},
   "outputs": [
    {
     "name": "stdout",
     "output_type": "stream",
     "text": [
      "Training set: 0-25,625\n",
      "Development set: 25,626-28,828\n",
      "Testing set: 28,829-32,032\n"
     ]
    }
   ],
   "source": [
    "# Setting the random seed and reshuffling names\n",
    "random.seed(RANDOM_SEED)\n",
    "random.shuffle(words)\n",
    "\n",
    "# Determining cutoff points for 10% dev and 10% test\n",
    "cutoff_train = int(0.8*len(words))\n",
    "cutoff_dev = int(0.9*len(words))\n",
    "\n",
    "print(f\"Training set: {0}-{cutoff_train-1:,}\")\n",
    "print(f\"Development set: {cutoff_train:,}-{cutoff_dev-1:,}\")\n",
    "print(f\"Testing set: {cutoff_dev:,}-{len(words)-1:,}\")"
   ]
  },
  {
   "cell_type": "markdown",
   "id": "979b53f6-50e0-4a0f-8dcc-3eb146ab4e0e",
   "metadata": {},
   "source": [
    "Now, using cutoffs we will redistribute examples into three distinct sets. "
   ]
  },
  {
   "cell_type": "code",
   "execution_count": 8,
   "id": "135d7ce9-3a29-4a4b-b5d0-9857c6ba0290",
   "metadata": {},
   "outputs": [
    {
     "name": "stdout",
     "output_type": "stream",
     "text": [
      "Training set examples: 25,626 (80%)\n",
      "Development set examples: 3,203 (10%)\n",
      "Testing set examples: 3,204 (10%)\n"
     ]
    }
   ],
   "source": [
    "# Allocating shuffled words into three sets\n",
    "words_train = words[:cutoff_train]\n",
    "words_dev = words[cutoff_train:cutoff_dev]\n",
    "words_test = words[cutoff_dev:]\n",
    "\n",
    "print(f\"Training set examples: {len(words_train):,} ({len(words_train)/len(words):.0%})\")\n",
    "print(f\"Development set examples: {len(words_dev):,} ({len(words_dev)/len(words):.0%})\")\n",
    "print(f\"Testing set examples: {len(words_test):,} ({len(words_test)/len(words):.0%})\")"
   ]
  },
  {
   "cell_type": "markdown",
   "id": "cd6b7e28-d628-4cc3-9c08-4fd197ec1607",
   "metadata": {},
   "source": [
    "Now that we have training, development and testing words ready, we should encode each set. This will be done by `build_dataset` function that will take a list of names to encode as well as the block size as inputs in order to produce the dataset. For instance, for `block_size=3` we will be using three letters to predict the fourth one. The function is written in such a way that we can flexibly select block size in order to generate the dataset is we, for instance, want to experiment with other amounts of letters."
   ]
  },
  {
   "cell_type": "code",
   "execution_count": 9,
   "id": "2253853b-3565-494a-b3fd-1b8b28843aea",
   "metadata": {},
   "outputs": [],
   "source": [
    "def build_dataset(words, block_size):\n",
    "    # Preallocating lists for dataset\n",
    "    X, Y = [], []\n",
    "    for word in words:\n",
    "        # Creating a starting examples depending on block size\n",
    "        context = [0] * block_size\n",
    "        # Iterating through entire word with end of word token\n",
    "        for char in word + '.':\n",
    "            index = char2id[char]\n",
    "            X.append(context)\n",
    "            Y.append(index)\n",
    "            # Adding the character index and shifting\n",
    "            context = context[1:] + [index]\n",
    "    \n",
    "    # Casting as PyTorch tensors\n",
    "    X = torch.tensor(X)\n",
    "    Y = torch.tensor(Y)\n",
    "    \n",
    "    # Reshaping if using bigram model\n",
    "    if block_size == 1:\n",
    "        X = X.view(-1)\n",
    "    \n",
    "    return X, Y"
   ]
  },
  {
   "cell_type": "code",
   "execution_count": 10,
   "id": "9dc3afde-96b1-42d2-902d-d4bb48a850cf",
   "metadata": {},
   "outputs": [],
   "source": [
    "# Building the datasets for three sets\n",
    "X_train, Y_train = build_dataset(\n",
    "    words=words_train, block_size=3,\n",
    ")\n",
    "X_dev, Y_dev = build_dataset(\n",
    "    words=words_dev, block_size=3,\n",
    ")\n",
    "X_test, Y_test = build_dataset(\n",
    "    words=words_test, block_size=3,\n",
    ")"
   ]
  },
  {
   "cell_type": "markdown",
   "id": "2ae57d90-ad41-43df-978b-e207ed6acb85",
   "metadata": {},
   "source": [
    "Now, let's take a look at the datasets created:"
   ]
  },
  {
   "cell_type": "code",
   "execution_count": 11,
   "id": "c9babd69-20a8-4da1-8638-a766d20c43cb",
   "metadata": {},
   "outputs": [
    {
     "data": {
      "text/plain": [
       "(tensor([[ 0,  0,  0],\n",
       "         [ 0,  0, 25],\n",
       "         [ 0, 25, 21],\n",
       "         ...,\n",
       "         [15, 12,  4],\n",
       "         [12,  4,  1],\n",
       "         [ 4,  1, 14]]),\n",
       " tensor([25, 21,  8,  ...,  1, 14,  0]))"
      ]
     },
     "execution_count": 11,
     "metadata": {},
     "output_type": "execute_result"
    }
   ],
   "source": [
    "# Training set\n",
    "X_train, Y_train"
   ]
  },
  {
   "cell_type": "code",
   "execution_count": 12,
   "id": "b8ee2d48-8cc6-451d-a5c9-d68f1087b6e7",
   "metadata": {},
   "outputs": [
    {
     "data": {
      "text/plain": [
       "(tensor([[ 0,  0,  0],\n",
       "         [ 0,  0,  1],\n",
       "         [ 0,  1, 13],\n",
       "         ...,\n",
       "         [ 8,  1, 25],\n",
       "         [ 1, 25, 12],\n",
       "         [25, 12,  1]]),\n",
       " tensor([ 1, 13,  1,  ..., 12,  1,  0]))"
      ]
     },
     "execution_count": 12,
     "metadata": {},
     "output_type": "execute_result"
    }
   ],
   "source": [
    "# Dev set\n",
    "X_dev, Y_dev"
   ]
  },
  {
   "cell_type": "code",
   "execution_count": 13,
   "id": "669dfe00-e624-4119-8c48-3c026c6f8a12",
   "metadata": {},
   "outputs": [
    {
     "data": {
      "text/plain": [
       "(tensor([[ 0,  0,  0],\n",
       "         [ 0,  0, 13],\n",
       "         [ 0, 13, 21],\n",
       "         ...,\n",
       "         [15, 22,  1],\n",
       "         [22,  1, 14],\n",
       "         [ 1, 14,  9]]),\n",
       " tensor([13, 21, 19,  ..., 14,  9,  0]))"
      ]
     },
     "execution_count": 13,
     "metadata": {},
     "output_type": "execute_result"
    }
   ],
   "source": [
    "# Test set\n",
    "X_test, Y_test"
   ]
  },
  {
   "cell_type": "markdown",
   "id": "1d99cbaf-baa0-4cc1-b89a-52f3428d93f8",
   "metadata": {},
   "source": [
    "## Creating the Multilayer Perceptron (MLP)"
   ]
  },
  {
   "cell_type": "markdown",
   "id": "f3f5fef7-8fab-416a-aab6-b29127dbbd40",
   "metadata": {},
   "source": [
    "We can now replicate the Neural Network design as described in *Bengio et al (2003)* which will be packaged inside the `MLP` class. One difference though is that we will be using character-level model rather than word-based one."
   ]
  },
  {
   "cell_type": "code",
   "execution_count": 14,
   "id": "f71e650f-6f96-4de8-bd5f-df5cc93a89a3",
   "metadata": {},
   "outputs": [],
   "source": [
    "class MLP:\n",
    "    def __init__(\n",
    "        self, \n",
    "        emb_dim_1,\n",
    "        emb_dim_2,\n",
    "        l1_out_features,\n",
    "        l2_out_features,\n",
    "        num_epochs, \n",
    "        learning_rate, \n",
    "        block_size=3, \n",
    "        minibatch_size=32,\n",
    "        loss_update_steps=1000,\n",
    "        display_train_loss=True,\n",
    "        seed=2147483647,\n",
    "    ):\n",
    "        \"\"\"Constructor for MLP class.\"\"\"\n",
    "        # Creating class attributes\n",
    "        self.emb_dim_1 = emb_dim_1\n",
    "        self.emb_dim_2 = emb_dim_2\n",
    "        self.l1_out_features = l1_out_features\n",
    "        self.l2_out_features = l2_out_features\n",
    "        self.num_epochs = num_epochs\n",
    "        self.learning_rate = learning_rate\n",
    "        self.block_size = block_size\n",
    "        self.minibatch_size = minibatch_size\n",
    "        self.loss_update_steps = loss_update_steps\n",
    "        self.display_train_loss = display_train_loss\n",
    "        self.seed = seed\n",
    "        \n",
    "        # NN weights\n",
    "        # Setting up a random number generator for reproducibility\n",
    "        generator = torch.Generator().manual_seed(self.seed)\n",
    "        # Generating a matrix of letter embeddings\n",
    "        self.C = torch.randn((self.emb_dim_1, self.emb_dim_2), generator=generator)\n",
    "        # Generating weights and biases for Layer 1\n",
    "        self.W1 = torch.randn((self.block_size * self.emb_dim_2, self.l1_out_features), generator=generator)\n",
    "        self.b1 = torch.randn(self.l1_out_features, generator=generator)\n",
    "        # Generating weights and biases for Layer 2\n",
    "        self.W2 = torch.randn((self.l1_out_features, self.l2_out_features), generator=generator)\n",
    "        self.b2 = torch.randn(self.l2_out_features, generator=generator)\n",
    "        # Putting all parameters together\n",
    "        self.parameters = [self.C, self.W1, self.b1, self.W2, self.b2]\n",
    "        # Computing the total number of trainable parameters\n",
    "        self.num_params = sum(p.nelement() for p in self.parameters)\n",
    "        \n",
    "        # Enabling gradient updating for all weight matrices\n",
    "        for p in self.parameters:\n",
    "            p.requires_grad = True\n",
    "        \n",
    "    def __call__(self, x, y):\n",
    "        \"\"\"Makes a forward pass and computes the loss.\"\"\"\n",
    "        # Retrieving letter embeddings\n",
    "        embeddings = self.C[x]\n",
    "        # Passing Layer 1 + Activation (Tanh)\n",
    "        layer1_out = torch.tanh(\n",
    "            embeddings.view(\n",
    "                -1, embeddings.shape[-2] * embeddings.shape[-1]\n",
    "            ) @ self.W1 + self.b1\n",
    "        )\n",
    "        # Passing Layer 2\n",
    "        logits = layer1_out @ self.W2 + self.b2\n",
    "        # Activating the Layer 2 neurons + computing NLL loss\n",
    "        loss = F.cross_entropy(logits, y)\n",
    "        \n",
    "        return loss     \n",
    "    \n",
    "    def fit(self, x, y):\n",
    "        \"\"\"Runs Stochactic Gradient Descent.\"\"\"\n",
    "        # Preallocating a dict for storing loss across epochs\n",
    "        loss_per_epoch = {}\n",
    "        # Defining a progress bar\n",
    "        epoch_counter = notebook.tqdm(range(self.num_epochs))\n",
    "        \n",
    "        for k in epoch_counter:\n",
    "            # Retrieving minibatch indices\n",
    "            ix = torch.randint(0, x.shape[0], (self.minibatch_size,))\n",
    "            # Computing loss\n",
    "            loss = self(x[ix], y[ix])\n",
    "            \n",
    "            # Adding training loss to tqdm progress bar\n",
    "            if self.display_train_loss and ((k % self.loss_update_steps == 0) or (k == self.num_epochs-1)):\n",
    "                epoch_counter.set_postfix({\"train_loss\": loss.item()})\n",
    "            \n",
    "            # Adding a loss computed to the history\n",
    "            loss_per_epoch[f\"epoch_{k+1}\"] = loss.item()\n",
    "            \n",
    "            # Setting all gradients for all matrices to zero\n",
    "            for p in self.parameters:\n",
    "                p.grad = None\n",
    "            # Making a backward pass (backpropagation)\n",
    "            loss.backward()\n",
    "            \n",
    "            # Updating weights (SGD)\n",
    "            for p in self.parameters:\n",
    "                p.data -= self.learning_rate * p.grad\n",
    "        \n",
    "        # Creating an attribute for training history after training\n",
    "        self.history = loss_per_epoch\n",
    "    \n",
    "    @property\n",
    "    def loss_function(self):\n",
    "        \"\"\"Plots the loss function against epochs.\"\"\"\n",
    "        # Verifying the accessibility of the attribute\n",
    "        if not hasattr(self, \"history\"):\n",
    "            # Raising error with a message\n",
    "            rte_msg = (\n",
    "            \"MLP class does not yet have data about the loss. \"\n",
    "            \"Run 'fit' method first.\"\n",
    "            )\n",
    "            raise RuntimeError(rte_msg)\n",
    "        # Plotting the loss function\n",
    "        loss_info = pd.Series(self.history.values())\n",
    "        loss_info.plot()\n",
    "        plt.xlabel(\"Epochs\")\n",
    "        plt.ylabel(\"NLL loss\")\n",
    "        plt.title(\"Loss evolution\")\n",
    "        plt.tight_layout()\n",
    "        plt.show()\n",
    "        \n",
    "    def tune_learning_rate(self, x, y, lower_exp=-3, upper_exp=0):\n",
    "        \"\"\"Runs changing learning rate experiment.\"\"\"\n",
    "        # Defining exponents and actual learning rates\n",
    "        lr_exponents = torch.linspace(lower_exp, upper_exp, self.num_epochs)\n",
    "        lrs = 10**lr_exponents\n",
    "        \n",
    "        # Preallocating lists for storing information during LR tuning\n",
    "        learning_rates_exponents = []\n",
    "        losses = []\n",
    "        \n",
    "        # Defining a progress bar\n",
    "        epoch_counter = notebook.tqdm(range(self.num_epochs))\n",
    "        \n",
    "        for k in epoch_counter:\n",
    "            # Retrieving minibatch indices\n",
    "            ix = torch.randint(0, x.shape[0], (self.minibatch_size,))\n",
    "            # Computing loss\n",
    "            loss = self(x[ix], y[ix])\n",
    "            \n",
    "            # Setting all gradients for all matrices to zero\n",
    "            for p in self.parameters:\n",
    "                p.grad = None\n",
    "            # Making a backward pass (backpropagation)\n",
    "            loss.backward()\n",
    "            \n",
    "            # Updating weights (while varying learning rates)\n",
    "            learning_rate = lrs[k]\n",
    "            for p in self.parameters:\n",
    "                p.data -= learning_rate * p.grad\n",
    "            # Adding \n",
    "            learning_rates_exponents.append(lr_exponents[k])\n",
    "            losses.append(loss.item())\n",
    "        \n",
    "        # Plotting after tuning\n",
    "        plt.plot(learning_rates_exponents, losses)\n",
    "        plt.xlabel(\"LR exponent\")\n",
    "        plt.ylabel(\"NLL loss\")\n",
    "        plt.title(\"Tuning learning_rate\")\n",
    "        plt.tight_layout()\n",
    "        plt.show()\n",
    "            \n",
    "    def generate_sample(self, num_examples, id2char):\n",
    "        \"\"\"Generates a number of names.\"\"\"\n",
    "        generator = torch.Generator().manual_seed(self.seed)\n",
    "        # Preallocating a list for storing generated names\n",
    "        generated_names = []\n",
    "        for _ in range(num_examples):\n",
    "            # Preallocating a list for storing letters\n",
    "            out = []\n",
    "            # Initializing generation with \"...\" ([0, 0, 0] for block_size=3)\n",
    "            context = [0] * self.block_size\n",
    "            while True:\n",
    "                # Retieving embeddings\n",
    "                embeddings = self.C[torch.tensor([context])]\n",
    "                # Layer 1\n",
    "                layer1_out = torch.tanh(embeddings.view(1, -1) @ self.W1 + self.b1)\n",
    "                # Layer 2\n",
    "                logits = layer1_out @ self.W2 + self.b2\n",
    "                # Activation for Layer 2 (Softmax)\n",
    "                probas = F.softmax(logits, dim=1)\n",
    "                \n",
    "                ix = torch.multinomial(probas, num_samples=1, generator=generator).item()\n",
    "                context = context[1:] + [ix]\n",
    "                out.append(ix)\n",
    "                if ix == 0:\n",
    "                    break\n",
    "\n",
    "            generated_names.append(''.join(id2char[i] for i in out)[:-1])\n",
    "        \n",
    "        return generated_names"
   ]
  },
  {
   "cell_type": "markdown",
   "id": "6340a83d-db1d-429f-8b43-19519cf418a6",
   "metadata": {},
   "source": [
    "## Tuning learning rate"
   ]
  },
  {
   "cell_type": "markdown",
   "id": "3a967428-e4f7-4918-b3f0-591ef3979faf",
   "metadata": {},
   "source": [
    "Firstly, we will find the optimal learning rate that we can use for model training. For now, we will define `learning_rate=None` and will provide all other required arguments to initialize the object of the class."
   ]
  },
  {
   "cell_type": "code",
   "execution_count": 15,
   "id": "4be37bcd-8b9c-42d9-b446-6b5043ad7885",
   "metadata": {},
   "outputs": [
    {
     "name": "stdout",
     "output_type": "stream",
     "text": [
      "Number of parameters: 11,897\n"
     ]
    }
   ],
   "source": [
    "# Instantiating a MLP model\n",
    "mlp_model = MLP(\n",
    "    emb_dim_1=27,\n",
    "    emb_dim_2=10,\n",
    "    l1_out_features=200, \n",
    "    l2_out_features=27,\n",
    "    num_epochs=1000,\n",
    "    learning_rate=None,\n",
    ")\n",
    "\n",
    "print(f\"Number of parameters: {mlp_model.num_params:,}\")"
   ]
  },
  {
   "cell_type": "markdown",
   "id": "86cc137f-9267-4476-a9d7-a91f0c6b1377",
   "metadata": {},
   "source": [
    "Basically, we decided to use matrix $C$ of letter embeddings of size $27 \\times 10$. The first dimension refers to the amount of letters + 1 special token we have which we want to map into a 10-dimensional space. Secondly, after making the first forward pass we end up in the hidden layer of 200 neurons from where we then making a second forward pass thus reaching 27 output neurons for each letter.\n",
    "\n",
    "We can now use `tune_learning_rate` method we created in order to obtain a plot showing optimal learning rates we can try."
   ]
  },
  {
   "cell_type": "code",
   "execution_count": 16,
   "id": "fbfd1bf2-669f-4f62-a065-a60742513e6f",
   "metadata": {},
   "outputs": [
    {
     "data": {
      "application/vnd.jupyter.widget-view+json": {
       "model_id": "df27a2b37c7f4f829478340dd2926935",
       "version_major": 2,
       "version_minor": 0
      },
      "text/plain": [
       "  0%|          | 0/1000 [00:00<?, ?it/s]"
      ]
     },
     "metadata": {},
     "output_type": "display_data"
    },
    {
     "data": {
      "image/png": "[encoded data removed]",
      "text/plain": [
       "<Figure size 640x480 with 1 Axes>"
      ]
     },
     "metadata": {},
     "output_type": "display_data"
    }
   ],
   "source": [
    "# Launching LR tuning\n",
    "mlp_model.tune_learning_rate(X_train, Y_train)"
   ]
  },
  {
   "cell_type": "markdown",
   "id": "caaef32d-0f0b-446d-888f-41bef53a1ce8",
   "metadata": {},
   "source": [
    "## First training"
   ]
  },
  {
   "cell_type": "markdown",
   "id": "29b03eb9-708a-4caf-a184-82b467b18d5a",
   "metadata": {},
   "source": [
    "It is seen here that the optimal learning rate lies somewhere between $10^{-1}$ and $10^{-0.5}$. We will try to use the latter. Now, we will again instantiate the class object with `learning_rate=0.1` added. We will run the model for $100000$ iterations."
   ]
  },
  {
   "cell_type": "code",
   "execution_count": 17,
   "id": "2fc7a742-e4bf-4e38-bbda-e6f04eb3e3a1",
   "metadata": {},
   "outputs": [
    {
     "name": "stdout",
     "output_type": "stream",
     "text": [
      "Number of parameters: 11,897\n"
     ]
    }
   ],
   "source": [
    "mlp_model = MLP(\n",
    "    emb_dim_1=27,\n",
    "    emb_dim_2=10,\n",
    "    l1_out_features=200,\n",
    "    l2_out_features=27,\n",
    "    num_epochs=100000,\n",
    "    learning_rate=1e-1,\n",
    ")\n",
    "\n",
    "print(f\"Number of parameters: {mlp_model.num_params:,}\")"
   ]
  },
  {
   "cell_type": "markdown",
   "id": "9057dd72-2f03-4fe2-bbcf-abda11bceead",
   "metadata": {},
   "source": [
    "Training can be launched by using `fit` method that will provide a progress bar allowing us to keep track of not only the time of training left but also the training loss."
   ]
  },
  {
   "cell_type": "code",
   "execution_count": 18,
   "id": "e9869927-836f-4ad7-a2cb-4d2f2fe96f60",
   "metadata": {},
   "outputs": [
    {
     "data": {
      "application/vnd.jupyter.widget-view+json": {
       "model_id": "42a3781e76924783b2660529039c2aae",
       "version_major": 2,
       "version_minor": 0
      },
      "text/plain": [
       "  0%|          | 0/100000 [00:00<?, ?it/s]"
      ]
     },
     "metadata": {},
     "output_type": "display_data"
    }
   ],
   "source": [
    "mlp_model.fit(X_train, Y_train)"
   ]
  },
  {
   "cell_type": "markdown",
   "id": "90cec030-2ef2-4414-8dfd-fc35be3c2872",
   "metadata": {},
   "source": [
    "Now that the training has been completed, we can look at what the loss function looks like by accessing `loss_function` attribute."
   ]
  },
  {
   "cell_type": "code",
   "execution_count": 19,
   "id": "b658b95a-53c7-41e6-bc20-f45497f864c5",
   "metadata": {},
   "outputs": [
    {
     "data": {
      "image/png": "[encoded data removed]",
      "text/plain": [
       "<Figure size 640x480 with 1 Axes>"
      ]
     },
     "metadata": {},
     "output_type": "display_data"
    }
   ],
   "source": [
    "mlp_model.loss_function"
   ]
  },
  {
   "cell_type": "markdown",
   "id": "049bbf2c-bf18-40cc-9521-5aa967ad4363",
   "metadata": {},
   "source": [
    "Notably, we can see that already after, say, 3000 iterations the training loss plateaued without any considerable changes. It can also be noted that the loss function appears to be very noisy which happens due to using minibatches while training that create a lot of noise.\n",
    "\n",
    "Let's look at training and dev loss:"
   ]
  },
  {
   "cell_type": "code",
   "execution_count": 20,
   "id": "23299e48-36d6-4da8-a265-0b7f14a2d0e7",
   "metadata": {},
   "outputs": [
    {
     "name": "stdout",
     "output_type": "stream",
     "text": [
      "Train loss: 2.3043\n",
      "Dev loss: 2.3436\n"
     ]
    }
   ],
   "source": [
    "train_loss = mlp_model(X_train, Y_train).item()\n",
    "dev_loss = mlp_model(X_dev, Y_dev).item()\n",
    "\n",
    "print(f\"Train loss: {train_loss:.4f}\")\n",
    "print(f\"Dev loss: {dev_loss:.4f}\")"
   ]
  },
  {
   "cell_type": "markdown",
   "id": "3220d3e4-3276-4b7a-8593-a7c88847afe5",
   "metadata": {},
   "source": [
    "It is seen here that the model does not suffer too much from overfitting. Nevertheless, we are still to improve the model to achieve the dev loss of less than 2.2."
   ]
  },
  {
   "cell_type": "markdown",
   "id": "915c3c13-7341-4511-bb89-4eebd809ad21",
   "metadata": {},
   "source": [
    "## Improving the model"
   ]
  },
  {
   "cell_type": "markdown",
   "id": "d7b88832-0bb6-432f-8a8f-0a3b6c9d27ad",
   "metadata": {},
   "source": [
    "At this stage we will be running additional training loops in order to see if the dev loss is improving."
   ]
  },
  {
   "cell_type": "code",
   "execution_count": 21,
   "id": "aede5ea3-5ca3-4404-8ced-6186e2b09c0e",
   "metadata": {},
   "outputs": [
    {
     "data": {
      "application/vnd.jupyter.widget-view+json": {
       "model_id": "d3c55587f80b438ca97643a4755bbcad",
       "version_major": 2,
       "version_minor": 0
      },
      "text/plain": [
       "  0%|          | 0/100000 [00:00<?, ?it/s]"
      ]
     },
     "metadata": {},
     "output_type": "display_data"
    },
    {
     "name": "stdout",
     "output_type": "stream",
     "text": [
      "Train loss: 2.2583\n",
      "Dev loss: 2.3145\n"
     ]
    }
   ],
   "source": [
    "mlp_model.fit(X_train, Y_train)\n",
    "\n",
    "train_loss = mlp_model(X_train, Y_train).item()\n",
    "dev_loss = mlp_model(X_dev, Y_dev).item()\n",
    "\n",
    "print(f\"Train loss: {train_loss:.4f}\")\n",
    "print(f\"Dev loss: {dev_loss:.4f}\")"
   ]
  },
  {
   "cell_type": "markdown",
   "id": "339e74c8-a054-4a29-94e6-098f8e54d93c",
   "metadata": {},
   "source": [
    "We notice that the degree of overfitting slightly increased so let's continue one more time."
   ]
  },
  {
   "cell_type": "code",
   "execution_count": 22,
   "id": "0786eecb-b0a8-42a0-b366-f9a354483d06",
   "metadata": {},
   "outputs": [
    {
     "data": {
      "application/vnd.jupyter.widget-view+json": {
       "model_id": "11206618efbe4bd780e928d6e09fd83f",
       "version_major": 2,
       "version_minor": 0
      },
      "text/plain": [
       "  0%|          | 0/100000 [00:00<?, ?it/s]"
      ]
     },
     "metadata": {},
     "output_type": "display_data"
    },
    {
     "name": "stdout",
     "output_type": "stream",
     "text": [
      "Train loss: 2.2188\n",
      "Dev loss: 2.2865\n"
     ]
    }
   ],
   "source": [
    "mlp_model.fit(X_train, Y_train)\n",
    "\n",
    "train_loss = mlp_model(X_train, Y_train).item()\n",
    "dev_loss = mlp_model(X_dev, Y_dev).item()\n",
    "\n",
    "print(f\"Train loss: {train_loss:.4f}\")\n",
    "print(f\"Dev loss: {dev_loss:.4f}\")"
   ]
  },
  {
   "cell_type": "markdown",
   "id": "ff1b79ca-ad4c-434d-98e2-28eb97b27963",
   "metadata": {},
   "source": [
    "What we can now do is to make use of the weight decay where we decrease the learning rate by, say, 10. Let's see what it will lead to:"
   ]
  },
  {
   "cell_type": "code",
   "execution_count": 23,
   "id": "d602b662-c7af-4a11-9341-6066b8501f80",
   "metadata": {},
   "outputs": [
    {
     "data": {
      "application/vnd.jupyter.widget-view+json": {
       "model_id": "acfc3b81d9b24575800d39fe1f8ff686",
       "version_major": 2,
       "version_minor": 0
      },
      "text/plain": [
       "  0%|          | 0/100000 [00:00<?, ?it/s]"
      ]
     },
     "metadata": {},
     "output_type": "display_data"
    },
    {
     "name": "stdout",
     "output_type": "stream",
     "text": [
      "Train loss: 2.0668\n",
      "Dev loss: 2.1349\n"
     ]
    }
   ],
   "source": [
    "# Weight decay\n",
    "mlp_model.learning_rate = 0.01\n",
    "\n",
    "mlp_model.fit(X_train, Y_train)\n",
    "train_loss = mlp_model(X_train, Y_train).item()\n",
    "dev_loss = mlp_model(X_dev, Y_dev).item()\n",
    "\n",
    "print(f\"Train loss: {train_loss:.4f}\")\n",
    "print(f\"Dev loss: {dev_loss:.4f}\")"
   ]
  },
  {
   "cell_type": "markdown",
   "id": "405a998b-6b3c-427f-afd0-713e620fabc7",
   "metadata": {},
   "source": [
    "It can be seen that we have managed to further improve the dev loss. Let's run the model one more time before registering the final loss."
   ]
  },
  {
   "cell_type": "code",
   "execution_count": 24,
   "id": "8c1f6efd-f08f-450f-a291-87f5f3f533b2",
   "metadata": {},
   "outputs": [
    {
     "data": {
      "application/vnd.jupyter.widget-view+json": {
       "model_id": "fb22e053202b41819b1dca8d9c37b55e",
       "version_major": 2,
       "version_minor": 0
      },
      "text/plain": [
       "  0%|          | 0/100000 [00:00<?, ?it/s]"
      ]
     },
     "metadata": {},
     "output_type": "display_data"
    },
    {
     "name": "stdout",
     "output_type": "stream",
     "text": [
      "Train loss: 2.0572\n",
      "Dev loss: 2.1260\n"
     ]
    }
   ],
   "source": [
    "mlp_model.fit(X_train, Y_train)\n",
    "\n",
    "train_loss = mlp_model(X_train, Y_train).item()\n",
    "dev_loss = mlp_model(X_dev, Y_dev).item()\n",
    "\n",
    "print(f\"Train loss: {train_loss:.4f}\")\n",
    "print(f\"Dev loss: {dev_loss:.4f}\")"
   ]
  },
  {
   "cell_type": "markdown",
   "id": "11fbb34d-a99f-476f-82a9-4eafe4563d12",
   "metadata": {},
   "source": [
    "## Evaluating the model"
   ]
  },
  {
   "cell_type": "code",
   "execution_count": 25,
   "id": "e7d09621-10f5-4d5b-98d6-3edb5996defc",
   "metadata": {},
   "outputs": [
    {
     "name": "stdout",
     "output_type": "stream",
     "text": [
      "Dev loss: 2.1260\n"
     ]
    }
   ],
   "source": [
    "dev_loss = mlp_model(X_dev, Y_dev).item()\n",
    "print(f\"Dev loss: {dev_loss:.4f}\")\n",
    "\n",
    "assert dev_loss < BENCHMARK_DEV_LOSS"
   ]
  },
  {
   "cell_type": "code",
   "execution_count": 26,
   "id": "018e3eea-2bd3-4bea-87b2-d6fceeada75d",
   "metadata": {},
   "outputs": [
    {
     "name": "stdout",
     "output_type": "stream",
     "text": [
      "Test loss: 2.1240\n"
     ]
    }
   ],
   "source": [
    "test_loss = mlp_model(X_test, Y_test).item()\n",
    "print(f\"Test loss: {test_loss:.4f}\")"
   ]
  },
  {
   "cell_type": "code",
   "execution_count": 27,
   "id": "62087dac-039b-4bdf-8c1f-d41c3b8a4550",
   "metadata": {},
   "outputs": [
    {
     "data": {
      "text/plain": [
       "['dexze',\n",
       " 'zomanuelice',\n",
       " 'kayden',\n",
       " 'maimitta',\n",
       " 'nylandrika',\n",
       " 'dakshaivaugutthamilton',\n",
       " 'moriella',\n",
       " 'kinzo',\n",
       " 'mda',\n",
       " 'kaley',\n",
       " 'maside',\n",
       " 'ankavion',\n",
       " 'hatlan',\n",
       " 'huniven',\n",
       " 'tahlan',\n",
       " 'kashri',\n",
       " 'anell',\n",
       " 'pennaisa',\n",
       " 'jan',\n",
       " 'fenie',\n",
       " 'azer',\n",
       " 'dest',\n",
       " 'fin',\n",
       " 'tagai',\n",
       " 'ajah',\n",
       " 'absharley',\n",
       " 'yolee',\n",
       " 'ana',\n",
       " 'brielyh',\n",
       " 'keen',\n",
       " 'xzai',\n",
       " 'kalmie',\n",
       " 'vay',\n",
       " 'calmy',\n",
       " 'oshabiten',\n",
       " 'milagdalie',\n",
       " 'fynn',\n",
       " 'kyille',\n",
       " 'lah',\n",
       " 'ifan',\n",
       " 'azhaam',\n",
       " 'hoamanemin',\n",
       " 'asha',\n",
       " 'franlusahy',\n",
       " 'jayceas',\n",
       " 'zaeva',\n",
       " 'zemarchay',\n",
       " 'ranna',\n",
       " 'shyven',\n",
       " 'isa',\n",
       " 'dougen',\n",
       " 'luigh',\n",
       " 'carlei',\n",
       " 'lan',\n",
       " 'anuutta',\n",
       " 'marri',\n",
       " 'bayra',\n",
       " 'beka',\n",
       " 'marinlayderra',\n",
       " 'jaykli',\n",
       " 'gun',\n",
       " 'rylena',\n",
       " 'raryla',\n",
       " 'cando',\n",
       " 'per',\n",
       " 'aydence',\n",
       " 'ainossin',\n",
       " 'mer',\n",
       " 'declaxtiniko',\n",
       " 'jeda',\n",
       " 'zymarey',\n",
       " 'almarvit',\n",
       " 'travon',\n",
       " 'nichlaviana',\n",
       " 'chend',\n",
       " 'raw',\n",
       " 'liza',\n",
       " 'tamalenne',\n",
       " 'mike',\n",
       " 'keonteagan',\n",
       " 'kayrena',\n",
       " 'hon',\n",
       " 'keita',\n",
       " 'suyan',\n",
       " 'michawn',\n",
       " 'razhansh',\n",
       " 'nastin',\n",
       " 'kenie',\n",
       " 'zakiha',\n",
       " 'denovi',\n",
       " 'karpish',\n",
       " 'trytan',\n",
       " 'marvelinta',\n",
       " 'lexine',\n",
       " 'saman',\n",
       " 'zora',\n",
       " 'gian',\n",
       " 'calision',\n",
       " 'avalliisley',\n",
       " 'hadil']"
      ]
     },
     "execution_count": 27,
     "metadata": {},
     "output_type": "execute_result"
    }
   ],
   "source": [
    "mlp_model.generate_sample(num_examples=100, id2char=id2char)"
   ]
  },
  {
   "cell_type": "markdown",
   "id": "dbe95d8b-a6c8-4562-b501-f417bf900170",
   "metadata": {},
   "source": [
    "# Exercise 2"
   ]
  },
  {
   "cell_type": "markdown",
   "id": "13fed3a7-d08b-4d74-a060-dea231dac871",
   "metadata": {},
   "source": [
    "**Task:** *I was not careful with the intialization of the network in this video. (1) What is the loss you'd get if the predicted probabilities at initialization were perfectly uniform? What loss do we achieve? (2) Can you tune the initialization to get a starting loss that is much more similar to (1)?*"
   ]
  },
  {
   "cell_type": "markdown",
   "id": "abe7f6e2-cc6c-4933-8721-66bc30692cd6",
   "metadata": {},
   "source": [
    "## Perfectly uniform probabilities"
   ]
  },
  {
   "cell_type": "markdown",
   "id": "eaff2ea9-4c05-4b78-a484-10fd4e7d2c20",
   "metadata": {},
   "source": [
    "The problem which occurs in case of not initially setting the probabilities of letters to uniform ones has been seen earlier in the loss function plot: basically we are spending the first a couple of thousand iterations not actually optimizing but just crushing down the weights of the MLP. This is visible in the steep curve at the beginning of the training. Furthermore, there is no sense in some letters having higher/lower probabilities at the initialization and that is why we want to start with uniform ones.\n",
    "\n",
    "If the predicted probabilities at the initialization were perfectly uniform, then all outputs would be assigned equal probabilities. Our output layer has 27 neurons - one for each of the 27 characters. In other words, the probability assigned to each of them is equal to:"
   ]
  },
  {
   "cell_type": "code",
   "execution_count": 28,
   "id": "068cdeac-2e04-426b-ac99-6019b16e6b7f",
   "metadata": {},
   "outputs": [
    {
     "data": {
      "text/plain": [
       "0.037037037037037035"
      ]
     },
     "execution_count": 28,
     "metadata": {},
     "output_type": "execute_result"
    }
   ],
   "source": [
    "prob = 1 / 27.0\n",
    "prob"
   ]
  },
  {
   "cell_type": "markdown",
   "id": "58cc9fe7-4e78-4db7-947b-9c6c6eea359b",
   "metadata": {},
   "source": [
    "If the probabilities are equal, then the logits should also be equal no matter their values. Let's imagine that all logits for all 27 neurons are equal to 6:"
   ]
  },
  {
   "cell_type": "code",
   "execution_count": 29,
   "id": "9d3ff442-e1b8-42b2-ab90-d8748008d7cd",
   "metadata": {},
   "outputs": [
    {
     "data": {
      "text/plain": [
       "tensor([6., 6., 6., 6., 6., 6., 6., 6., 6., 6., 6., 6., 6., 6., 6., 6., 6., 6.,\n",
       "        6., 6., 6., 6., 6., 6., 6., 6., 6.])"
      ]
     },
     "execution_count": 29,
     "metadata": {},
     "output_type": "execute_result"
    }
   ],
   "source": [
    "logits = 6.0 * torch.ones(27)\n",
    "logits"
   ]
  },
  {
   "cell_type": "markdown",
   "id": "2a0c5d69-2621-42c1-93a6-02eaef0893d2",
   "metadata": {},
   "source": [
    "Then, their probabilities are:"
   ]
  },
  {
   "cell_type": "code",
   "execution_count": 30,
   "id": "7718b9ac-920d-431a-9b50-14d0d3c20109",
   "metadata": {},
   "outputs": [
    {
     "data": {
      "text/plain": [
       "tensor([0.0370, 0.0370, 0.0370, 0.0370, 0.0370, 0.0370, 0.0370, 0.0370, 0.0370,\n",
       "        0.0370, 0.0370, 0.0370, 0.0370, 0.0370, 0.0370, 0.0370, 0.0370, 0.0370,\n",
       "        0.0370, 0.0370, 0.0370, 0.0370, 0.0370, 0.0370, 0.0370, 0.0370, 0.0370])"
      ]
     },
     "execution_count": 30,
     "metadata": {},
     "output_type": "execute_result"
    }
   ],
   "source": [
    "probs = torch.softmax(logits, dim=0)\n",
    "probs"
   ]
  },
  {
   "cell_type": "markdown",
   "id": "ca15c378-2c2c-4dcb-9f39-e7aca94dd74a",
   "metadata": {},
   "source": [
    "Their probabilities are then used by the NLL loss function to compute the loss:"
   ]
  },
  {
   "cell_type": "code",
   "execution_count": 31,
   "id": "7ccc6bcc-f73c-4802-9b26-cb9e8c27dabe",
   "metadata": {},
   "outputs": [
    {
     "data": {
      "text/plain": [
       "tensor(3.2958)"
      ]
     },
     "execution_count": 31,
     "metadata": {},
     "output_type": "execute_result"
    }
   ],
   "source": [
    "loss = -probs[2].log()\n",
    "loss"
   ]
  },
  {
   "cell_type": "markdown",
   "id": "d3f7d376-0982-4e71-8aeb-73adcaef117b",
   "metadata": {},
   "source": [
    "That is exactly the loss which we would achieve in this case."
   ]
  },
  {
   "cell_type": "markdown",
   "id": "eb5b7020-6585-4363-8831-af27d55d7394",
   "metadata": {},
   "source": [
    "## Tuning the initialization"
   ]
  },
  {
   "cell_type": "markdown",
   "id": "b60126af-ee80-4a9f-bdfb-8f17225fdbb7",
   "metadata": {},
   "source": [
    "Basically, in order to achieve such a loss at the very beginning, all we need to do is to try to make all logits equal to each other at the initialization. If we take a look at the realization of `__call__` method above, we will see that the logits depend upon values of weight matrix `W2` and bias vector `b2`. Hence, to bring the logits closer to each other (for example, to zero), we can set `b2` to zero and scale `W2` by 100. This should set logits much closer to zero and as a result the probabilities will be closer to perfectly uniform ones.\n",
    "\n",
    "We will copy `MLP` class from above here and just adjust the aforementioned parameters: "
   ]
  },
  {
   "cell_type": "code",
   "execution_count": 32,
   "id": "ba43be22-0633-4ae8-a5c9-3eaf2184ade7",
   "metadata": {},
   "outputs": [],
   "source": [
    "class MLPInit:\n",
    "    def __init__(\n",
    "        self, \n",
    "        emb_dim_1,\n",
    "        emb_dim_2,\n",
    "        l1_out_features,\n",
    "        l2_out_features,\n",
    "        num_epochs, \n",
    "        learning_rate, \n",
    "        block_size=3, \n",
    "        minibatch_size=32,\n",
    "        loss_update_steps=1000,\n",
    "        display_train_loss=True,\n",
    "        seed=2147483647,\n",
    "    ):\n",
    "        # Creating class attributes\n",
    "        self.emb_dim_1 = emb_dim_1\n",
    "        self.emb_dim_2 = emb_dim_2\n",
    "        self.l1_out_features = l1_out_features\n",
    "        self.l2_out_features = l2_out_features\n",
    "        self.num_epochs = num_epochs\n",
    "        self.learning_rate = learning_rate\n",
    "        self.block_size = block_size\n",
    "        self.minibatch_size = minibatch_size\n",
    "        self.loss_update_steps = loss_update_steps\n",
    "        self.display_train_loss = display_train_loss\n",
    "        self.seed = seed\n",
    "        \n",
    "        # NN weights\n",
    "        # Setting up a random number generator for reproducibility\n",
    "        generator = torch.Generator().manual_seed(self.seed)\n",
    "        # Generating a matrix of letter embeddings\n",
    "        self.C = torch.randn((self.emb_dim_1, self.emb_dim_2), generator=generator)\n",
    "        # Generating weights and biases for Layer 1\n",
    "        self.W1 = torch.randn((self.block_size * self.emb_dim_2, self.l1_out_features), generator=generator)\n",
    "        self.b1 = torch.randn(self.l1_out_features, generator=generator)\n",
    "        # Generating weights and biases for Layer 2\n",
    "        self.W2 = torch.randn((self.l1_out_features, self.l2_out_features), generator=generator) * 0.01\n",
    "        self.b2 = torch.randn(self.l2_out_features, generator=generator) * 0.0\n",
    "        # Putting all parameters together\n",
    "        self.parameters = [self.C, self.W1, self.b1, self.W2, self.b2]\n",
    "        # Computing the total number of trainable parameters\n",
    "        self.num_params = sum(p.nelement() for p in self.parameters)\n",
    "        \n",
    "        # Enabling gradient updating for all weight matrices\n",
    "        for p in self.parameters:\n",
    "            p.requires_grad = True\n",
    "        \n",
    "    def __call__(self, x, y):\n",
    "        # Retrieving letter embeddings\n",
    "        embeddings = self.C[x]\n",
    "        # Passing Layer 1 + Activation (Tanh)\n",
    "        layer1_out = torch.tanh(\n",
    "            embeddings.view(\n",
    "                -1, embeddings.shape[-2] * embeddings.shape[-1]\n",
    "            ) @ self.W1 + self.b1\n",
    "        )\n",
    "        # Passing Layer 2\n",
    "        logits = layer1_out @ self.W2 + self.b2\n",
    "        # Activating the Layer 2 neurons + computing NLL loss\n",
    "        loss = F.cross_entropy(logits, y)\n",
    "        \n",
    "        return loss     \n",
    "    \n",
    "    def fit(self, x, y):\n",
    "        # Preallocating a dict for storing loss across epochs\n",
    "        loss_per_epoch = {}\n",
    "        # Defining a progress bar\n",
    "        epoch_counter = notebook.tqdm(range(self.num_epochs))\n",
    "        \n",
    "        for k in epoch_counter:\n",
    "            # Retrieving minibatch indices\n",
    "            ix = torch.randint(0, x.shape[0], (self.minibatch_size,))\n",
    "            # Computing loss\n",
    "            loss = self(x[ix], y[ix])\n",
    "            \n",
    "            # Adding training loss to tqdm progress bar\n",
    "            if self.display_train_loss and ((k % self.loss_update_steps == 0) or (k == self.num_epochs-1)):\n",
    "                epoch_counter.set_postfix({\"train_loss\": loss.item()})\n",
    "            \n",
    "            # Adding a loss computed to the history\n",
    "            loss_per_epoch[f\"epoch_{k+1}\"] = loss.item()\n",
    "            \n",
    "            # Setting aall gradients for all matrices to zero\n",
    "            for p in self.parameters:\n",
    "                p.grad = None\n",
    "            # Making a backward pass (backpropagation)\n",
    "            loss.backward()\n",
    "            \n",
    "            # Updating weights (SGD)\n",
    "            for p in self.parameters:\n",
    "                p.data -= self.learning_rate * p.grad\n",
    "        \n",
    "        # Creating an attribute for training history after training\n",
    "        self.history = loss_per_epoch"
   ]
  },
  {
   "cell_type": "code",
   "execution_count": 33,
   "id": "564dcef6-9b79-4a5d-b0d0-b52bcddf176a",
   "metadata": {},
   "outputs": [
    {
     "name": "stdout",
     "output_type": "stream",
     "text": [
      "Number of parameters: 11,897\n"
     ]
    }
   ],
   "source": [
    "mlp_model = MLPInit(\n",
    "    emb_dim_1=27,\n",
    "    emb_dim_2=10,\n",
    "    l1_out_features=200,\n",
    "    l2_out_features=27,\n",
    "    num_epochs=1,\n",
    "    learning_rate=1e-1,\n",
    "    display_train_loss=False,\n",
    ")\n",
    "\n",
    "print(f\"Number of parameters: {mlp_model.num_params:,}\")"
   ]
  },
  {
   "cell_type": "code",
   "execution_count": 34,
   "id": "79540ef3-d618-4900-84a3-a35150dfa6d7",
   "metadata": {},
   "outputs": [
    {
     "data": {
      "application/vnd.jupyter.widget-view+json": {
       "model_id": "ad3130fff27c4f059d4e689928d4ec0f",
       "version_major": 2,
       "version_minor": 0
      },
      "text/plain": [
       "  0%|          | 0/1 [00:00<?, ?it/s]"
      ]
     },
     "metadata": {},
     "output_type": "display_data"
    }
   ],
   "source": [
    "mlp_model.fit(X_train, Y_train)"
   ]
  },
  {
   "cell_type": "code",
   "execution_count": 35,
   "id": "430f3094-09c8-43aa-838d-a1b2c1ed9c66",
   "metadata": {},
   "outputs": [
    {
     "data": {
      "text/plain": [
       "(3.2596442699432373, 3.295836925506592)"
      ]
     },
     "execution_count": 35,
     "metadata": {},
     "output_type": "execute_result"
    }
   ],
   "source": [
    "mlp_model.history[\"epoch_1\"], loss.item()"
   ]
  },
  {
   "cell_type": "markdown",
   "id": "9e7a3590-2996-4131-a0a6-82139ce1da76",
   "metadata": {},
   "source": [
    "The loss is not exactly like the one we obtained in the previous point but nevertheless it is close. We would of course obtain a closer loss value if setting `W2` to zeros but it is actually undesirable to do something like this."
   ]
  }
 ],
 "metadata": {
  "kernelspec": {
   "display_name": "Python 3 (ipykernel)",
   "language": "python",
   "name": "python3"
  },
  "language_info": {
   "codemirror_mode": {
    "name": "ipython",
    "version": 3
   },
   "file_extension": ".py",
   "mimetype": "text/x-python",
   "name": "python",
   "nbconvert_exporter": "python",
   "pygments_lexer": "ipython3",
   "version": "3.9.18"
  }
 },
 "nbformat": 4,
 "nbformat_minor": 5
}
